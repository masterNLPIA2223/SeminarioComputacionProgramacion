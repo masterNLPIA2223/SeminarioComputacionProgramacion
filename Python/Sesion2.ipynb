{
  "cells": [
    {
      "cell_type": "markdown",
      "source": [
        "# Un tour a Python\n",
        "\n",
        "El objetivo de este notebook es el de familiarizarnos con los conceptos más relevantes de Python. Esto puede llevar cierto tiempo y el propósito no es que aprendáis de memoria todo lo que aparezca en este notebook, sino que vayáis prácticando (a programar se aprende programando). "
      ],
      "metadata": {
        "id": "HY3wF7elms8y"
      },
      "id": "HY3wF7elms8y"
    },
    {
      "cell_type": "markdown",
      "source": [
        "## Los notebooks de Python\n",
        "\n",
        "Los notebooks de Python pueden verse como una calculadora con una gran cantidad de funciones. Su funcionamiento es el mismo, escribes algo en ella, pulsas un botón, Python piensa unos segundos y devuelve una respuesta. \n",
        "\n",
        "El lugar donde escribes se llama **celda**, y se puede ejecutar la celda con el botón de ejecutar (la flecha a la izquierda de la celda). Con dicha ejecución se ejecuta el **código** escrito en la celda, es decir tu **programa**. Un programa sencillo en Python consiste en escribir únicamente un número."
      ],
      "metadata": {
        "id": "p2yYvNUFnzmy"
      },
      "id": "p2yYvNUFnzmy"
    },
    {
      "cell_type": "code",
      "source": [
        "1"
      ],
      "metadata": {
        "id": "DR7XzzDinzFi",
        "outputId": "b98659bc-182a-4d26-a265-173f3db82167",
        "colab": {
          "base_uri": "https://localhost:8080/"
        }
      },
      "id": "DR7XzzDinzFi",
      "execution_count": 1,
      "outputs": [
        {
          "output_type": "execute_result",
          "data": {
            "text/plain": [
              "1"
            ]
          },
          "metadata": {},
          "execution_count": 1
        }
      ]
    },
    {
      "cell_type": "markdown",
      "source": [
        "Y la respuesta de Python es la misma que daría una calculadora. Es decir la **expresión** 1 al evaluarse se evalúa a `1`. Al contrario que una calculadora, puedes tener múltiples celdas en un notebook, y se puede ir de una a otra, reevaluarlas, editar y volver a evaluar. Podemos crear una nueva celda con el botón `+ Code` que está arriba a la izquierda y escribimos la expresión `1+1`."
      ],
      "metadata": {
        "id": "cp-h_nlnpwbS"
      },
      "id": "cp-h_nlnpwbS"
    },
    {
      "cell_type": "markdown",
      "source": [
        "Las celdas pueden consistir de múltiples líneas. Vamos a demostrarlo con un **comentario**. Los comentarios son piezas de un programa que son ignoradas por el ordenador, y que solo se incluyen para simplificar el trabajo de las personas que leen el código. En Python, la sintaxis para los comentarios comienza con el símbolo almohadilla (#). Todo lo que aparece detrás de dicho símbolo es un comentario. "
      ],
      "metadata": {
        "id": "ughH5VnQquDd"
      },
      "id": "ughH5VnQquDd"
    },
    {
      "cell_type": "code",
      "source": [
        "# Esto es un comentario\n",
        "# Python ignorará esta línea, la de arriba y la de abajo\n",
        "# Estas líneas solo están para la persona que lee el código\n",
        "3 - 2"
      ],
      "metadata": {
        "id": "dd4JqtK2rNBx",
        "outputId": "36af37bf-2bcc-4e61-aea0-9953ea681ec4",
        "colab": {
          "base_uri": "https://localhost:8080/"
        }
      },
      "id": "dd4JqtK2rNBx",
      "execution_count": 2,
      "outputs": [
        {
          "output_type": "execute_result",
          "data": {
            "text/plain": [
              "1"
            ]
          },
          "metadata": {},
          "execution_count": 2
        }
      ]
    },
    {
      "cell_type": "markdown",
      "source": [
        "También es posible escribir celdas de texto, que no se ejecutan y permiten escribir texto formateado o enlaces entre otras funcionalidades. Para ello, hay que usar el botón `+ Text` que aparece arriba a la izquierda. Pero sigamos con algunos operadores de Python"
      ],
      "metadata": {
        "id": "2isKfekOrZfx"
      },
      "id": "2isKfekOrZfx"
    },
    {
      "cell_type": "markdown",
      "source": [
        "El `*` operador se usa para multiplicar, `/` para divididir, `//` para la división truncada, `%` para el módulo, y `**` para la potencia. "
      ],
      "metadata": {
        "id": "8J31b-_grt3Q"
      },
      "id": "8J31b-_grt3Q"
    },
    {
      "cell_type": "code",
      "source": [
        "2*3"
      ],
      "metadata": {
        "id": "ORmYzmhErVey",
        "outputId": "e1224901-8ecd-4c9e-d325-4c088d9d22e8",
        "colab": {
          "base_uri": "https://localhost:8080/"
        }
      },
      "id": "ORmYzmhErVey",
      "execution_count": 3,
      "outputs": [
        {
          "output_type": "execute_result",
          "data": {
            "text/plain": [
              "6"
            ]
          },
          "metadata": {},
          "execution_count": 3
        }
      ]
    },
    {
      "cell_type": "code",
      "source": [
        "4/3"
      ],
      "metadata": {
        "id": "o_HCzpIDr5wI",
        "outputId": "dd76305e-787a-447a-f35b-00dd9efc6948",
        "colab": {
          "base_uri": "https://localhost:8080/"
        }
      },
      "id": "o_HCzpIDr5wI",
      "execution_count": 4,
      "outputs": [
        {
          "output_type": "execute_result",
          "data": {
            "text/plain": [
              "1.3333333333333333"
            ]
          },
          "metadata": {},
          "execution_count": 4
        }
      ]
    },
    {
      "cell_type": "code",
      "source": [
        "4//3"
      ],
      "metadata": {
        "id": "AJu2otsnr6SH",
        "outputId": "c12547ad-f5d2-4baf-f156-8453069b7744",
        "colab": {
          "base_uri": "https://localhost:8080/"
        }
      },
      "id": "AJu2otsnr6SH",
      "execution_count": 5,
      "outputs": [
        {
          "output_type": "execute_result",
          "data": {
            "text/plain": [
              "1"
            ]
          },
          "metadata": {},
          "execution_count": 5
        }
      ]
    },
    {
      "cell_type": "code",
      "source": [
        "2**3"
      ],
      "metadata": {
        "id": "G114BiZxr7Qo",
        "outputId": "847a8250-3910-4ef7-b01a-9d6c00a253dd",
        "colab": {
          "base_uri": "https://localhost:8080/"
        }
      },
      "id": "G114BiZxr7Qo",
      "execution_count": 6,
      "outputs": [
        {
          "output_type": "execute_result",
          "data": {
            "text/plain": [
              "8"
            ]
          },
          "metadata": {},
          "execution_count": 6
        }
      ]
    },
    {
      "cell_type": "code",
      "source": [
        "16%12"
      ],
      "metadata": {
        "id": "qZuUdCSZr8nv",
        "outputId": "9f11459f-ffaf-4541-a618-fa66e8c3d209",
        "colab": {
          "base_uri": "https://localhost:8080/"
        }
      },
      "id": "qZuUdCSZr8nv",
      "execution_count": 7,
      "outputs": [
        {
          "output_type": "execute_result",
          "data": {
            "text/plain": [
              "4"
            ]
          },
          "metadata": {},
          "execution_count": 7
        }
      ]
    },
    {
      "cell_type": "markdown",
      "source": [
        "En este punto posiblemente estés cansado de pulsar el botón de play para ejecutar las celdas. Para facilitar la interacción con los notebooks puedes usar los distintos atajos de teclados disponibles:\n",
        "- `Alt + Enter`: evalúa la celda actual, inserta una nueva celda y cambia a ella.\n",
        "- `Shift + Enter`: evalúa la celda actual y cambia a la siguiente celda.\n",
        "- `Ctrl + Enter`: evalúa la celda actual y se queda en ella. "
      ],
      "metadata": {
        "id": "DzB9T_mur_5A"
      },
      "id": "DzB9T_mur_5A"
    },
    {
      "cell_type": "markdown",
      "source": [
        "## Textos como cadenas de caracteres\n",
        "\n",
        "Hasta ahora hemos trabajado con números, pero en este máster nos interesa trabajar con textos. La manera más sencilla de representar texto en Python es mediante una cadena de caracteres. Las cadenas de caracteres, o **strings**, se pueden crear mediante las comillas. "
      ],
      "metadata": {
        "id": "AxWxYC4XskEs"
      },
      "id": "AxWxYC4XskEs"
    },
    {
      "cell_type": "code",
      "source": [
        "\"¡Hola mundo!\" "
      ],
      "metadata": {
        "id": "Ju-v-BbZshbL",
        "outputId": "ca929812-e0ef-4752-bc74-0b0362584e5e",
        "colab": {
          "base_uri": "https://localhost:8080/",
          "height": 35
        }
      },
      "id": "Ju-v-BbZshbL",
      "execution_count": 8,
      "outputs": [
        {
          "output_type": "execute_result",
          "data": {
            "text/plain": [
              "'¡Hola mundo!'"
            ],
            "application/vnd.google.colaboratory.intrinsic+json": {
              "type": "string"
            }
          },
          "metadata": {},
          "execution_count": 8
        }
      ]
    },
    {
      "cell_type": "code",
      "source": [
        "'Hola mundo'"
      ],
      "metadata": {
        "id": "mxeC8-zYr9pP",
        "outputId": "5bd6d833-1923-4d7f-9c3f-4d6cb2fa31d9",
        "colab": {
          "base_uri": "https://localhost:8080/",
          "height": 35
        }
      },
      "id": "mxeC8-zYr9pP",
      "execution_count": 9,
      "outputs": [
        {
          "output_type": "execute_result",
          "data": {
            "text/plain": [
              "'Hola mundo'"
            ],
            "application/vnd.google.colaboratory.intrinsic+json": {
              "type": "string"
            }
          },
          "metadata": {},
          "execution_count": 9
        }
      ]
    },
    {
      "cell_type": "markdown",
      "source": [
        "¿Qué ocurre si queremos incluir en nuestro texto comillas? "
      ],
      "metadata": {
        "id": "Nfr9VB8j41h3"
      },
      "id": "Nfr9VB8j41h3"
    },
    {
      "cell_type": "code",
      "source": [
        "\"En el artículo del periódico señalaban que \"la policía allanó la casa de los sospechosos\"\""
      ],
      "metadata": {
        "id": "T5jAosAg4lE8",
        "outputId": "3097509f-b3c5-4be8-b066-f9681404a0b2",
        "colab": {
          "base_uri": "https://localhost:8080/",
          "height": 131
        }
      },
      "id": "T5jAosAg4lE8",
      "execution_count": 13,
      "outputs": [
        {
          "output_type": "error",
          "ename": "SyntaxError",
          "evalue": "ignored",
          "traceback": [
            "\u001b[0;36m  File \u001b[0;32m\"<ipython-input-13-c6306c2b7b3a>\"\u001b[0;36m, line \u001b[0;32m1\u001b[0m\n\u001b[0;31m    \"En el artículo del periódico señalaban que \"la policía allanó la casa de los sospechosos\"\"\u001b[0m\n\u001b[0m                                                  ^\u001b[0m\n\u001b[0;31mSyntaxError\u001b[0m\u001b[0;31m:\u001b[0m invalid syntax\n"
          ]
        }
      ]
    },
    {
      "cell_type": "markdown",
      "source": [
        "Vemos que se ha producido un error de sintaxis (`SyntaxError`). Cuando se produce un error en la ejecución, Python muestra un mensaje con el objetivo de que el programador pueda solucionarlo. \n",
        "\n",
        "En este caso si queremos incluir comillas en nuestro texto debemos escaparlas mediante el símbolo `\\`. "
      ],
      "metadata": {
        "id": "zZweV1tp49vn"
      },
      "id": "zZweV1tp49vn"
    },
    {
      "cell_type": "code",
      "source": [
        "\"En el artículo del periódico señalaban que \\\"la policía allanó la casa de los sospechosos\\\"\""
      ],
      "metadata": {
        "id": "ifCxqEaX48nr",
        "outputId": "29f93c8a-61f5-4499-ef31-6793c5f9ae01",
        "colab": {
          "base_uri": "https://localhost:8080/",
          "height": 35
        }
      },
      "id": "ifCxqEaX48nr",
      "execution_count": 12,
      "outputs": [
        {
          "output_type": "execute_result",
          "data": {
            "text/plain": [
              "'En el artículo del periódico señalaban que \"la policía allanó la casa de los sospechosos\"'"
            ],
            "application/vnd.google.colaboratory.intrinsic+json": {
              "type": "string"
            }
          },
          "metadata": {},
          "execution_count": 12
        }
      ]
    },
    {
      "cell_type": "markdown",
      "source": [
        "Al escapar un carácter cancelamos el significado por defecto de un carácter. Las secuencias de escape existen para incluir caracteres que por defecto no se pueden incluir en un texto. Por ejemplo, por defecto, no se puede incluir una nueva línea en un texto."
      ],
      "metadata": {
        "id": "jHsrOHYf5W7U"
      },
      "id": "jHsrOHYf5W7U"
    },
    {
      "cell_type": "code",
      "source": [
        "\"una linea\n",
        "otra linea\""
      ],
      "metadata": {
        "id": "paSodr075TGP",
        "outputId": "271caafd-f1f3-4ea3-b5f9-12258c522e28",
        "colab": {
          "base_uri": "https://localhost:8080/",
          "height": 131
        }
      },
      "id": "paSodr075TGP",
      "execution_count": 14,
      "outputs": [
        {
          "output_type": "error",
          "ename": "SyntaxError",
          "evalue": "ignored",
          "traceback": [
            "\u001b[0;36m  File \u001b[0;32m\"<ipython-input-14-9f28f947ba81>\"\u001b[0;36m, line \u001b[0;32m1\u001b[0m\n\u001b[0;31m    \"una linea\u001b[0m\n\u001b[0m              ^\u001b[0m\n\u001b[0;31mSyntaxError\u001b[0m\u001b[0;31m:\u001b[0m EOL while scanning string literal\n"
          ]
        }
      ]
    },
    {
      "cell_type": "markdown",
      "source": [
        "En este caso la solución es incluir la secuencia de escape `\\n` que representa una nueva línea."
      ],
      "metadata": {
        "id": "QxSnVE7q5xT9"
      },
      "id": "QxSnVE7q5xT9"
    },
    {
      "cell_type": "code",
      "source": [
        "\"una línea\\notra línea\""
      ],
      "metadata": {
        "id": "x-qkY83T5vnI",
        "outputId": "8259746a-d961-47b2-fe39-04b7fc140084",
        "colab": {
          "base_uri": "https://localhost:8080/",
          "height": 35
        }
      },
      "id": "x-qkY83T5vnI",
      "execution_count": 20,
      "outputs": [
        {
          "output_type": "execute_result",
          "data": {
            "text/plain": [
              "'una línea\\notra línea'"
            ],
            "application/vnd.google.colaboratory.intrinsic+json": {
              "type": "string"
            }
          },
          "metadata": {},
          "execution_count": 20
        }
      ]
    },
    {
      "cell_type": "markdown",
      "source": [
        "¿Por qué no aparece el salto de línea en lugar de la secuencia `\\n`? Cuando se evalúa un string, Python muestra su representación canónica, la cual se puede incluir en otros bloques de código, pero que no es legible. Si queremos mostrar una versión del string tal y como aparecería en un fichero de texto necesitamos usar la función `print()`."
      ],
      "metadata": {
        "id": "4dVmE_IE58dp"
      },
      "id": "4dVmE_IE58dp"
    },
    {
      "cell_type": "code",
      "source": [
        "print(\"una línea\\notra línea\")"
      ],
      "metadata": {
        "id": "VDo9S8ei55CK",
        "outputId": "9c779693-1710-4fd5-af56-a5db0f0c4622",
        "colab": {
          "base_uri": "https://localhost:8080/"
        }
      },
      "id": "VDo9S8ei55CK",
      "execution_count": 21,
      "outputs": [
        {
          "output_type": "stream",
          "name": "stdout",
          "text": [
            "una línea\n",
            "otra línea\n"
          ]
        }
      ]
    },
    {
      "cell_type": "markdown",
      "source": [
        "Existen muchas secuencias de escape, por ejemplo el tabulador `\\t`."
      ],
      "metadata": {
        "id": "ezj8QlPr6Xmn"
      },
      "id": "ezj8QlPr6Xmn"
    },
    {
      "cell_type": "code",
      "source": [
        "print(\"uno\\tdos\\ntres\\tcuatro\")"
      ],
      "metadata": {
        "id": "GXMQgVlC6TqJ",
        "outputId": "d68a283d-e8d5-441f-9d09-df8f00ce7b83",
        "colab": {
          "base_uri": "https://localhost:8080/"
        }
      },
      "id": "GXMQgVlC6TqJ",
      "execution_count": 18,
      "outputs": [
        {
          "output_type": "stream",
          "name": "stdout",
          "text": [
            "uno\tdos\n",
            "tres\tcuatro\n"
          ]
        }
      ]
    },
    {
      "cell_type": "markdown",
      "source": [
        "También es posible incluir caractéres basados en el código [Unicode](https://v4py.github.io/unicode.html) mediante `\\N{...}`."
      ],
      "metadata": {
        "id": "xCgInSoC6jZ2"
      },
      "id": "xCgInSoC6jZ2"
    },
    {
      "cell_type": "code",
      "source": [
        "\"\\N{see-no-evil monkey}\""
      ],
      "metadata": {
        "id": "41i5p6dn6iAv",
        "outputId": "db0c1f02-f902-452f-ae93-9e357d8e0fa8",
        "colab": {
          "base_uri": "https://localhost:8080/",
          "height": 35
        }
      },
      "id": "41i5p6dn6iAv",
      "execution_count": 19,
      "outputs": [
        {
          "output_type": "execute_result",
          "data": {
            "text/plain": [
              "'🙈'"
            ],
            "application/vnd.google.colaboratory.intrinsic+json": {
              "type": "string"
            }
          },
          "metadata": {},
          "execution_count": 19
        }
      ]
    },
    {
      "cell_type": "markdown",
      "source": [
        "En caso de que queramos escribir un texto especialmente largo (con varios párrafos), puede ser molesto incluir `\\n` cada vez que queramos incluir un salto de línea. La solución consiste en usar comillas triples.\n"
      ],
      "metadata": {
        "id": "1ZwGPuwu60Ne"
      },
      "id": "1ZwGPuwu60Ne"
    },
    {
      "cell_type": "code",
      "source": [
        "\"\"\"una línea\n",
        "otra línea\"\"\""
      ],
      "metadata": {
        "id": "YY9FVIpe6xg3",
        "outputId": "649df1bc-5d61-4af6-e460-caab11a7b4d0",
        "colab": {
          "base_uri": "https://localhost:8080/",
          "height": 35
        }
      },
      "id": "YY9FVIpe6xg3",
      "execution_count": 22,
      "outputs": [
        {
          "output_type": "execute_result",
          "data": {
            "text/plain": [
              "'una línea\\notra línea'"
            ],
            "application/vnd.google.colaboratory.intrinsic+json": {
              "type": "string"
            }
          },
          "metadata": {},
          "execution_count": 22
        }
      ]
    },
    {
      "cell_type": "code",
      "source": [
        "print(\"\"\"una línea\n",
        "otra línea\"\"\")"
      ],
      "metadata": {
        "id": "BLOWdm2o7Ly0",
        "outputId": "f1a80a6a-b837-4357-aa83-e88df232510c",
        "colab": {
          "base_uri": "https://localhost:8080/"
        }
      },
      "id": "BLOWdm2o7Ly0",
      "execution_count": 23,
      "outputs": [
        {
          "output_type": "stream",
          "name": "stdout",
          "text": [
            "una línea\n",
            "otra línea\n"
          ]
        }
      ]
    },
    {
      "cell_type": "markdown",
      "source": [
        "## Objetos y variables\n",
        "\n",
        "Cuando escribimos código Python normalmente interactuamos y manipulamos varios **objetos**. Un objeto es un nombre genérico que puedes inspeccionar al ponerlo en una celda de código y evaluando dicha celda. Hasta el momento, hemos visto números, strings, y una **función** (sí, las funciones también son objetos). "
      ],
      "metadata": {
        "id": "R72MMciT7QxT"
      },
      "id": "R72MMciT7QxT"
    },
    {
      "cell_type": "code",
      "source": [
        "print"
      ],
      "metadata": {
        "id": "p77Bbb1U7Nz9",
        "outputId": "f6378117-c816-4568-8430-b730080bf33f",
        "colab": {
          "base_uri": "https://localhost:8080/"
        }
      },
      "id": "p77Bbb1U7Nz9",
      "execution_count": 24,
      "outputs": [
        {
          "output_type": "execute_result",
          "data": {
            "text/plain": [
              "<function print>"
            ]
          },
          "metadata": {},
          "execution_count": 24
        }
      ]
    },
    {
      "cell_type": "markdown",
      "source": [
        "Cuando se usa un objeto de manera repetida, es una buena idea almacenarlo en una **variable** mediante el **operador de asignación** `=`. De este modo evitamos escribir la expresión una y otra vez. El nombre de la variable es decisión del programador, aunque hay ciertas [reglas](https://docs.python.org/3/reference/lexical_analysis.html#identifiers), como que no pueden incluirse espacios en blanco (estos suelen remplazarse por guiones bajos `_`). "
      ],
      "metadata": {
        "id": "3yXtG0MK7nMr"
      },
      "id": "3yXtG0MK7nMr"
    },
    {
      "cell_type": "code",
      "source": [
        "cadena = \"uno\\tdos\\ntres\\tcuatro\"\n",
        "cadena"
      ],
      "metadata": {
        "id": "Oqgcv_047ly0",
        "outputId": "41a1679e-41e3-4cc6-f07b-2390a317b3c9",
        "colab": {
          "base_uri": "https://localhost:8080/",
          "height": 35
        }
      },
      "id": "Oqgcv_047ly0",
      "execution_count": 25,
      "outputs": [
        {
          "output_type": "execute_result",
          "data": {
            "text/plain": [
              "'uno\\tdos\\ntres\\tcuatro'"
            ],
            "application/vnd.google.colaboratory.intrinsic+json": {
              "type": "string"
            }
          },
          "metadata": {},
          "execution_count": 25
        }
      ]
    },
    {
      "cell_type": "markdown",
      "source": [
        "Una vez asignado un objeto a una variable, este se puede usar en cualquier lugar usando la variable."
      ],
      "metadata": {
        "id": "f6xNysb88K4o"
      },
      "id": "f6xNysb88K4o"
    },
    {
      "cell_type": "code",
      "source": [
        "print(cadena)"
      ],
      "metadata": {
        "id": "DaUKiRz08KCr",
        "outputId": "827bded4-008f-4be9-9196-fff758dc9495",
        "colab": {
          "base_uri": "https://localhost:8080/"
        }
      },
      "id": "DaUKiRz08KCr",
      "execution_count": 26,
      "outputs": [
        {
          "output_type": "stream",
          "name": "stdout",
          "text": [
            "uno\tdos\n",
            "tres\tcuatro\n"
          ]
        }
      ]
    },
    {
      "cell_type": "markdown",
      "source": [
        "Es posible que múltiples variables se refieran al mismo objeto."
      ],
      "metadata": {
        "id": "XX3EWQjn8W9x"
      },
      "id": "XX3EWQjn8W9x"
    },
    {
      "cell_type": "code",
      "source": [
        "otro_nombre = cadena\n",
        "print(otro_nombre)"
      ],
      "metadata": {
        "id": "khzn_n2i8VVY",
        "outputId": "55ac45c8-b4d8-4fa2-b27c-474e4773534e",
        "colab": {
          "base_uri": "https://localhost:8080/"
        }
      },
      "id": "khzn_n2i8VVY",
      "execution_count": 27,
      "outputs": [
        {
          "output_type": "stream",
          "name": "stdout",
          "text": [
            "uno\tdos\n",
            "tres\tcuatro\n"
          ]
        }
      ]
    },
    {
      "cell_type": "markdown",
      "source": [
        "Podemos comprobar si dos variables se refieren al mismo objeto con el operador `is`. "
      ],
      "metadata": {
        "id": "zSvgB84R8fHe"
      },
      "id": "zSvgB84R8fHe"
    },
    {
      "cell_type": "code",
      "source": [
        "cadena is otro_nombre"
      ],
      "metadata": {
        "id": "g17TQXCL8dWS",
        "outputId": "39c781f2-446f-494d-984b-54550d7fd52b",
        "colab": {
          "base_uri": "https://localhost:8080/"
        }
      },
      "id": "g17TQXCL8dWS",
      "execution_count": 28,
      "outputs": [
        {
          "output_type": "execute_result",
          "data": {
            "text/plain": [
              "True"
            ]
          },
          "metadata": {},
          "execution_count": 28
        }
      ]
    },
    {
      "cell_type": "code",
      "source": [
        "cadena is print"
      ],
      "metadata": {
        "id": "VUHKSzvp8l44",
        "outputId": "7ef2d7c6-59cc-4a10-cd13-d44458398def",
        "colab": {
          "base_uri": "https://localhost:8080/"
        }
      },
      "id": "VUHKSzvp8l44",
      "execution_count": 30,
      "outputs": [
        {
          "output_type": "execute_result",
          "data": {
            "text/plain": [
              "False"
            ]
          },
          "metadata": {},
          "execution_count": 30
        }
      ]
    },
    {
      "cell_type": "code",
      "source": [
        "cadena2 = \"uno\\tdos\\ntres\\tcuatro\"\n",
        "cadena is cadena2"
      ],
      "metadata": {
        "id": "zi4myiuU8oO-",
        "outputId": "96463ce3-ee01-40d7-d027-5f4fe0c85676",
        "colab": {
          "base_uri": "https://localhost:8080/"
        }
      },
      "id": "zi4myiuU8oO-",
      "execution_count": 32,
      "outputs": [
        {
          "output_type": "execute_result",
          "data": {
            "text/plain": [
              "False"
            ]
          },
          "metadata": {},
          "execution_count": 32
        }
      ]
    },
    {
      "cell_type": "markdown",
      "source": [
        "Que dos objetos no sean el mismo no significa que no sean iguales, esto lo podemos comprobar mediante el operador `==`. "
      ],
      "metadata": {
        "id": "IP_74Lqv8z-X"
      },
      "id": "IP_74Lqv8z-X"
    },
    {
      "cell_type": "code",
      "source": [
        "cadena == cadena2"
      ],
      "metadata": {
        "id": "Cys-VJNf8xj2",
        "outputId": "fbe4089c-26bd-4658-ae52-3d1c3c5212d0",
        "colab": {
          "base_uri": "https://localhost:8080/"
        }
      },
      "id": "Cys-VJNf8xj2",
      "execution_count": 33,
      "outputs": [
        {
          "output_type": "execute_result",
          "data": {
            "text/plain": [
              "True"
            ]
          },
          "metadata": {},
          "execution_count": 33
        }
      ]
    },
    {
      "cell_type": "markdown",
      "source": [
        "## Atributos: objetos en objetos (en objetos ...)\n",
        "\n",
        "La mayoría de objetos no son islas aisladas, sino que la mayoría de objetos tienen otros objetos asociados a ellos que se llaman **atributos**, y que a su vez pueden tener atributos, etc. Para acceder a los atributos de un objeto se usa el símbolo `.`.\n",
        "\n",
        "Veamos esto con los números complejos, que constan de parte real y parte imaginaria. La sintaxis para los números complejos en Python es la siguiente."
      ],
      "metadata": {
        "id": "51isO9jM9Hzk"
      },
      "id": "51isO9jM9Hzk"
    },
    {
      "cell_type": "code",
      "source": [
        "c = 1 + 2j\n",
        "c"
      ],
      "metadata": {
        "id": "DN60nBfY9Dbb",
        "outputId": "c01ae31c-10ae-427e-e8c6-c670954e5d80",
        "colab": {
          "base_uri": "https://localhost:8080/"
        }
      },
      "id": "DN60nBfY9Dbb",
      "execution_count": 34,
      "outputs": [
        {
          "output_type": "execute_result",
          "data": {
            "text/plain": [
              "(1+2j)"
            ]
          },
          "metadata": {},
          "execution_count": 34
        }
      ]
    },
    {
      "cell_type": "markdown",
      "source": [
        "En Python podemos acceder a la parte real e imaginaria de un número complejo mediante los atributos `.real` e `.imag` respectivamente."
      ],
      "metadata": {
        "id": "cTAApyjk9vPt"
      },
      "id": "cTAApyjk9vPt"
    },
    {
      "cell_type": "code",
      "source": [
        "c.real"
      ],
      "metadata": {
        "id": "dV0yKnqd9ts5",
        "outputId": "a80ae5df-baed-4884-ec27-3b2342770aaf",
        "colab": {
          "base_uri": "https://localhost:8080/"
        }
      },
      "id": "dV0yKnqd9ts5",
      "execution_count": 35,
      "outputs": [
        {
          "output_type": "execute_result",
          "data": {
            "text/plain": [
              "1.0"
            ]
          },
          "metadata": {},
          "execution_count": 35
        }
      ]
    },
    {
      "cell_type": "code",
      "source": [
        "c.imag"
      ],
      "metadata": {
        "id": "stV0PMNl92sQ",
        "outputId": "b45fe7f6-8f63-480f-9740-ec99d30006ce",
        "colab": {
          "base_uri": "https://localhost:8080/"
        }
      },
      "id": "stV0PMNl92sQ",
      "execution_count": 36,
      "outputs": [
        {
          "output_type": "execute_result",
          "data": {
            "text/plain": [
              "2.0"
            ]
          },
          "metadata": {},
          "execution_count": 36
        }
      ]
    },
    {
      "cell_type": "markdown",
      "source": [
        "### Métodos\n",
        "\n",
        "Las funciones también pueden estar asociadas a un objeto como atributos. Estas funciones proporcionan un comportamiento dinámico que depende del objeto al cual estén asociadas. Vamos a comparar la función `print()`que ya hemos visto anteriormente con el método `.conjugate()` asociado a los números complejos. "
      ],
      "metadata": {
        "id": "BZPcoA4h94lq"
      },
      "id": "BZPcoA4h94lq"
    },
    {
      "cell_type": "code",
      "source": [
        "print"
      ],
      "metadata": {
        "id": "TJAdWp-O93F4",
        "outputId": "d0c1975f-ca8f-4dd0-cf54-ddcfe4cd0e72",
        "colab": {
          "base_uri": "https://localhost:8080/"
        }
      },
      "id": "TJAdWp-O93F4",
      "execution_count": 37,
      "outputs": [
        {
          "output_type": "execute_result",
          "data": {
            "text/plain": [
              "<function print>"
            ]
          },
          "metadata": {},
          "execution_count": 37
        }
      ]
    },
    {
      "cell_type": "code",
      "source": [
        "c.conjugate"
      ],
      "metadata": {
        "id": "9NCMOdbq-qqw",
        "outputId": "906ba84f-04a5-4b05-d29d-0ed653d0d248",
        "colab": {
          "base_uri": "https://localhost:8080/"
        }
      },
      "id": "9NCMOdbq-qqw",
      "execution_count": 38,
      "outputs": [
        {
          "output_type": "execute_result",
          "data": {
            "text/plain": [
              "<function complex.conjugate>"
            ]
          },
          "metadata": {},
          "execution_count": 38
        }
      ]
    },
    {
      "cell_type": "markdown",
      "source": [
        "Al contrario de lo que ocurre con los datos habituales (números o strings), las funciones normalmente no se inspeccionan, sino que se **llaman** usando la sintaxis de llamada a función; es decir, añadiendo `()` al nombre de la función. Al llamar a una función se lanza su comportamiento y se ejecuta el código que está asociado a la misma. Por ejemplo, la función `print()` escribe objetos por pantalla. El método `conjugate()` calcula el [conjugado](https://es.wikipedia.org/wiki/N%C3%BAmero_complejo#Conjugado_de_un_n%C3%BAmero_complejo) de un número complejo. "
      ],
      "metadata": {
        "id": "mpIGooTf-tFY"
      },
      "id": "mpIGooTf-tFY"
    },
    {
      "cell_type": "code",
      "source": [
        "c.conjugate()"
      ],
      "metadata": {
        "id": "zvA1KOc1-re1",
        "outputId": "62613b86-4326-4f7a-b07b-758a4b5c7adf",
        "colab": {
          "base_uri": "https://localhost:8080/"
        }
      },
      "id": "zvA1KOc1-re1",
      "execution_count": 39,
      "outputs": [
        {
          "output_type": "execute_result",
          "data": {
            "text/plain": [
              "(1-2j)"
            ]
          },
          "metadata": {},
          "execution_count": 39
        }
      ]
    },
    {
      "cell_type": "markdown",
      "source": [
        "Vamos a olvidarnos de los números complejos y centrarnos de nuevo en los strings. Una funcionalidad muy útil en los notebooks es el **completado tabular**. Si escribimos el nombre de una variable + `.` y pulsamos la combinación de teclas `Ctrl + Espacio`, se mostrará un menú con todos los métodos y atributos disponibles para dicho objeto. "
      ],
      "metadata": {
        "id": "VThE6ejW_Q_x"
      },
      "id": "VThE6ejW_Q_x"
    },
    {
      "cell_type": "code",
      "source": [
        "cadena."
      ],
      "metadata": {
        "id": "HAEgb9sA_Hw_"
      },
      "id": "HAEgb9sA_Hw_",
      "execution_count": null,
      "outputs": []
    },
    {
      "cell_type": "markdown",
      "source": [
        "Puedes ver que hay una gran cantidad de métodos disponibles. Muchos de ellos comienzan con el prefijo `is*`, y sirven para responder preguntas sobre el contenido de los strings. "
      ],
      "metadata": {
        "id": "PAtxuJJl_123"
      },
      "id": "PAtxuJJl_123"
    },
    {
      "cell_type": "code",
      "source": [
        "\"cat\".islower()"
      ],
      "metadata": {
        "id": "IUg3M0pq_-kw",
        "outputId": "ae0e828d-8391-4bba-cc76-d5067fac7dad",
        "colab": {
          "base_uri": "https://localhost:8080/"
        }
      },
      "id": "IUg3M0pq_-kw",
      "execution_count": 40,
      "outputs": [
        {
          "output_type": "execute_result",
          "data": {
            "text/plain": [
              "True"
            ]
          },
          "metadata": {},
          "execution_count": 40
        }
      ]
    },
    {
      "cell_type": "code",
      "source": [
        "\"DOC\".isupper()"
      ],
      "metadata": {
        "id": "CTN2kif7AAEe",
        "outputId": "3efbd117-3de9-4814-ae22-a01841f25c67",
        "colab": {
          "base_uri": "https://localhost:8080/"
        }
      },
      "id": "CTN2kif7AAEe",
      "execution_count": 41,
      "outputs": [
        {
          "output_type": "execute_result",
          "data": {
            "text/plain": [
              "True"
            ]
          },
          "metadata": {},
          "execution_count": 41
        }
      ]
    },
    {
      "cell_type": "code",
      "source": [
        "\"Frank\".istitle()"
      ],
      "metadata": {
        "id": "9EqUFRhAABRO",
        "outputId": "dcac32c6-c569-4222-cf08-ea8371e365ff",
        "colab": {
          "base_uri": "https://localhost:8080/"
        }
      },
      "id": "9EqUFRhAABRO",
      "execution_count": 42,
      "outputs": [
        {
          "output_type": "execute_result",
          "data": {
            "text/plain": [
              "True"
            ]
          },
          "metadata": {},
          "execution_count": 42
        }
      ]
    },
    {
      "cell_type": "code",
      "source": [
        "\"42\".isnumeric()"
      ],
      "metadata": {
        "id": "GJRtoIf6AC6d",
        "outputId": "f317b553-eb38-452d-ee22-9eedcb3c47b8",
        "colab": {
          "base_uri": "https://localhost:8080/"
        }
      },
      "id": "GJRtoIf6AC6d",
      "execution_count": 43,
      "outputs": [
        {
          "output_type": "execute_result",
          "data": {
            "text/plain": [
              "True"
            ]
          },
          "metadata": {},
          "execution_count": 43
        }
      ]
    },
    {
      "cell_type": "markdown",
      "source": [
        "Si queremos saber más sobre un objeto, podemos escribir delante de él el símbolo de interrogación `?`. Por ejemplo, podemos mostrar qué hace el método `.islower()`."
      ],
      "metadata": {
        "id": "uPBQcwgqAGPd"
      },
      "id": "uPBQcwgqAGPd"
    },
    {
      "cell_type": "code",
      "source": [
        "?cadena.islower"
      ],
      "metadata": {
        "id": "tDNsd5KpAFim"
      },
      "id": "tDNsd5KpAFim",
      "execution_count": 44,
      "outputs": []
    },
    {
      "cell_type": "markdown",
      "source": [
        "Algunos de los métodos asociados a los objetos pueden requerir argumentos adicionales. Por ejemplo, si quieres reemplazar partes de un string con otro string podemos usar el método `.replace()` indicándole qué queremos reemplazar y con qué lo queremos reemplazar. "
      ],
      "metadata": {
        "id": "RrC0BUCxAgar"
      },
      "id": "RrC0BUCxAgar"
    },
    {
      "cell_type": "code",
      "source": [
        "\"Me gustan los gatos y los perros\".replace(\"gatos\",\"pájaros\")"
      ],
      "metadata": {
        "id": "ah4iRsmxAdDL",
        "outputId": "01586ef7-a1ba-400c-ac44-122cace7a977",
        "colab": {
          "base_uri": "https://localhost:8080/",
          "height": 35
        }
      },
      "id": "ah4iRsmxAdDL",
      "execution_count": 46,
      "outputs": [
        {
          "output_type": "execute_result",
          "data": {
            "text/plain": [
              "'Me gustan los pájaros y los perros'"
            ],
            "application/vnd.google.colaboratory.intrinsic+json": {
              "type": "string"
            }
          },
          "metadata": {},
          "execution_count": 46
        }
      ]
    },
    {
      "cell_type": "markdown",
      "source": [
        "Notar que los métodos anteriores no modifican el string orignal, sino que crean uno nuevo."
      ],
      "metadata": {
        "id": "gG2n4TWiBBdx"
      },
      "id": "gG2n4TWiBBdx"
    },
    {
      "cell_type": "code",
      "source": [
        "animal = \"gato\"\n",
        "animal.upper()"
      ],
      "metadata": {
        "id": "aFXhuWsTBAc_",
        "outputId": "5b83528e-a506-4ac4-fe7a-5812d99d6f05",
        "colab": {
          "base_uri": "https://localhost:8080/",
          "height": 35
        }
      },
      "id": "aFXhuWsTBAc_",
      "execution_count": 47,
      "outputs": [
        {
          "output_type": "execute_result",
          "data": {
            "text/plain": [
              "'GATO'"
            ],
            "application/vnd.google.colaboratory.intrinsic+json": {
              "type": "string"
            }
          },
          "metadata": {},
          "execution_count": 47
        }
      ]
    },
    {
      "cell_type": "code",
      "source": [
        "animal"
      ],
      "metadata": {
        "id": "WlG7jWUQBHSO",
        "outputId": "b87457ec-9030-4fca-bb99-987783684709",
        "colab": {
          "base_uri": "https://localhost:8080/",
          "height": 35
        }
      },
      "id": "WlG7jWUQBHSO",
      "execution_count": 48,
      "outputs": [
        {
          "output_type": "execute_result",
          "data": {
            "text/plain": [
              "'gato'"
            ],
            "application/vnd.google.colaboratory.intrinsic+json": {
              "type": "string"
            }
          },
          "metadata": {},
          "execution_count": 48
        }
      ]
    },
    {
      "cell_type": "markdown",
      "source": [
        "Esto se debe a que en Python los strings (y los números) son inmutables. Sin embargo, es posible crear nuevos strings y re-asignarlos a antiguas variables."
      ],
      "metadata": {
        "id": "ct9sZKijBI9Z"
      },
      "id": "ct9sZKijBI9Z"
    },
    {
      "cell_type": "code",
      "source": [
        "# Creamos un string y se lo asignamos a dos variables\n",
        "nombre1 = \"cadena\"\n",
        "nombre2 = nombre1"
      ],
      "metadata": {
        "id": "-VXLXQASBHmP"
      },
      "id": "-VXLXQASBHmP",
      "execution_count": 49,
      "outputs": []
    },
    {
      "cell_type": "code",
      "source": [
        "# Creamos un nuevo string que es una versión en mayúsculas del string original,\n",
        "# y se lo reasignamos a nombre2\n",
        "nombre2 = nombre2.upper()\n",
        "nombre2"
      ],
      "metadata": {
        "id": "hnNRWcqVBboQ",
        "outputId": "78b18c7f-22dc-4673-d5f0-0cd567b0f78b",
        "colab": {
          "base_uri": "https://localhost:8080/",
          "height": 35
        }
      },
      "id": "hnNRWcqVBboQ",
      "execution_count": 50,
      "outputs": [
        {
          "output_type": "execute_result",
          "data": {
            "text/plain": [
              "'CADENA'"
            ],
            "application/vnd.google.colaboratory.intrinsic+json": {
              "type": "string"
            }
          },
          "metadata": {},
          "execution_count": 50
        }
      ]
    },
    {
      "cell_type": "code",
      "source": [
        "# pero el string viejo está todavía ahí.\n",
        "nombre1"
      ],
      "metadata": {
        "id": "u1VEtNB_Bj3S",
        "outputId": "f7d9c613-75a9-4b70-9b1b-a49ececd4b7a",
        "colab": {
          "base_uri": "https://localhost:8080/",
          "height": 35
        }
      },
      "id": "u1VEtNB_Bj3S",
      "execution_count": 51,
      "outputs": [
        {
          "output_type": "execute_result",
          "data": {
            "text/plain": [
              "'cadena'"
            ],
            "application/vnd.google.colaboratory.intrinsic+json": {
              "type": "string"
            }
          },
          "metadata": {},
          "execution_count": 51
        }
      ]
    },
    {
      "cell_type": "markdown",
      "source": [
        "Veremos a continuación que en Python hay objetos que pueden ser modificados.  "
      ],
      "metadata": {
        "id": "VdqR_fhcBpWO"
      },
      "id": "VdqR_fhcBpWO"
    },
    {
      "cell_type": "markdown",
      "source": [
        "## Colecciones\n"
      ],
      "metadata": {
        "id": "wgqMqvTtBypp"
      },
      "id": "wgqMqvTtBypp"
    },
    {
      "cell_type": "code",
      "source": [],
      "metadata": {
        "id": "K6ni8feJBnZN"
      },
      "id": "K6ni8feJBnZN",
      "execution_count": null,
      "outputs": []
    }
  ],
  "metadata": {
    "colab": {
      "provenance": []
    },
    "language_info": {
      "name": "python"
    },
    "kernelspec": {
      "name": "python3",
      "display_name": "Python 3"
    },
    "gpuClass": "standard"
  },
  "nbformat": 4,
  "nbformat_minor": 5
}