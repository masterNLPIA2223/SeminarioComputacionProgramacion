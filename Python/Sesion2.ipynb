{
  "cells": [
    {
      "cell_type": "markdown",
      "metadata": {
        "id": "view-in-github",
        "colab_type": "text"
      },
      "source": [
        "<a href=\"https://colab.research.google.com/github/masterNLPIA2223/SeminarioComputacionProgramacion/blob/main/Python/Sesion2.ipynb\" target=\"_parent\"><img src=\"https://colab.research.google.com/assets/colab-badge.svg\" alt=\"Open In Colab\"/></a>"
      ]
    },
    {
      "cell_type": "markdown",
      "source": [
        "# Sesión 2: Un breve resumen de Python\n",
        "\n",
        "El objetivo de este notebook es el de familiarizarnos con los conceptos más relevantes de Python. Esto puede llevar cierto tiempo y el propósito no es que aprendáis de memoria todo lo que aparezca en este notebook, sino que vayáis prácticando (a programar se aprende programando). "
      ],
      "metadata": {
        "id": "HY3wF7elms8y"
      },
      "id": "HY3wF7elms8y"
    },
    {
      "cell_type": "markdown",
      "source": [
        "## Los notebooks de Python\n",
        "\n",
        "Los notebooks de Python pueden verse como una calculadora con una gran cantidad de funciones. Su funcionamiento es el mismo, escribes algo en ella, pulsas un botón, Python piensa unos segundos y devuelve una respuesta. \n",
        "\n",
        "El lugar donde escribes se llama **celda**, y se puede ejecutar la celda con el botón de ejecutar (la flecha a la izquierda de la celda). Con dicha ejecución se ejecuta el **código** escrito en la celda, es decir tu **programa**. Un programa sencillo en Python consiste en escribir únicamente un número."
      ],
      "metadata": {
        "id": "p2yYvNUFnzmy"
      },
      "id": "p2yYvNUFnzmy"
    },
    {
      "cell_type": "code",
      "source": [
        "1"
      ],
      "metadata": {
        "colab": {
          "base_uri": "https://localhost:8080/"
        },
        "id": "DR7XzzDinzFi",
        "outputId": "b98659bc-182a-4d26-a265-173f3db82167"
      },
      "id": "DR7XzzDinzFi",
      "execution_count": null,
      "outputs": [
        {
          "output_type": "execute_result",
          "data": {
            "text/plain": [
              "1"
            ]
          },
          "metadata": {},
          "execution_count": 1
        }
      ]
    },
    {
      "cell_type": "markdown",
      "source": [
        "Y la respuesta de Python es la misma que daría una calculadora. Es decir la **expresión** 1 al evaluarse se evalúa a `1`. Al contrario que una calculadora, puedes tener múltiples celdas en un notebook, y se puede ir de una a otra, reevaluarlas, editar y volver a evaluar. Podemos crear una nueva celda con el botón `+ Code` que está arriba a la izquierda y escribimos la expresión `1+1`."
      ],
      "metadata": {
        "id": "cp-h_nlnpwbS"
      },
      "id": "cp-h_nlnpwbS"
    },
    {
      "cell_type": "markdown",
      "source": [
        "Las celdas pueden consistir de múltiples líneas. Vamos a demostrarlo con un **comentario**. Los comentarios son piezas de un programa que son ignoradas por el ordenador, y que solo se incluyen para simplificar el trabajo de las personas que leen el código. En Python, la sintaxis para los comentarios comienza con el símbolo almohadilla (#). Todo lo que aparece detrás de dicho símbolo es un comentario. "
      ],
      "metadata": {
        "id": "ughH5VnQquDd"
      },
      "id": "ughH5VnQquDd"
    },
    {
      "cell_type": "code",
      "source": [
        "# Esto es un comentario\n",
        "# Python ignorará esta línea, la de arriba y la de abajo\n",
        "# Estas líneas solo están para la persona que lee el código\n",
        "3 - 2"
      ],
      "metadata": {
        "colab": {
          "base_uri": "https://localhost:8080/"
        },
        "id": "dd4JqtK2rNBx",
        "outputId": "36af37bf-2bcc-4e61-aea0-9953ea681ec4"
      },
      "id": "dd4JqtK2rNBx",
      "execution_count": null,
      "outputs": [
        {
          "output_type": "execute_result",
          "data": {
            "text/plain": [
              "1"
            ]
          },
          "metadata": {},
          "execution_count": 2
        }
      ]
    },
    {
      "cell_type": "markdown",
      "source": [
        "También es posible escribir celdas de texto, que no se ejecutan y permiten escribir texto formateado o enlaces entre otras funcionalidades. Para ello, hay que usar el botón `+ Text` que aparece arriba a la izquierda. Pero sigamos con algunos operadores de Python"
      ],
      "metadata": {
        "id": "2isKfekOrZfx"
      },
      "id": "2isKfekOrZfx"
    },
    {
      "cell_type": "markdown",
      "source": [
        "El `*` operador se usa para multiplicar, `/` para divididir, `//` para la división truncada, `%` para el módulo, y `**` para la potencia. "
      ],
      "metadata": {
        "id": "8J31b-_grt3Q"
      },
      "id": "8J31b-_grt3Q"
    },
    {
      "cell_type": "code",
      "source": [
        "2*3"
      ],
      "metadata": {
        "colab": {
          "base_uri": "https://localhost:8080/"
        },
        "id": "ORmYzmhErVey",
        "outputId": "e1224901-8ecd-4c9e-d325-4c088d9d22e8"
      },
      "id": "ORmYzmhErVey",
      "execution_count": null,
      "outputs": [
        {
          "output_type": "execute_result",
          "data": {
            "text/plain": [
              "6"
            ]
          },
          "metadata": {},
          "execution_count": 3
        }
      ]
    },
    {
      "cell_type": "code",
      "source": [
        "4/3"
      ],
      "metadata": {
        "colab": {
          "base_uri": "https://localhost:8080/"
        },
        "id": "o_HCzpIDr5wI",
        "outputId": "dd76305e-787a-447a-f35b-00dd9efc6948"
      },
      "id": "o_HCzpIDr5wI",
      "execution_count": null,
      "outputs": [
        {
          "output_type": "execute_result",
          "data": {
            "text/plain": [
              "1.3333333333333333"
            ]
          },
          "metadata": {},
          "execution_count": 4
        }
      ]
    },
    {
      "cell_type": "code",
      "source": [
        "4//3"
      ],
      "metadata": {
        "colab": {
          "base_uri": "https://localhost:8080/"
        },
        "id": "AJu2otsnr6SH",
        "outputId": "c12547ad-f5d2-4baf-f156-8453069b7744"
      },
      "id": "AJu2otsnr6SH",
      "execution_count": null,
      "outputs": [
        {
          "output_type": "execute_result",
          "data": {
            "text/plain": [
              "1"
            ]
          },
          "metadata": {},
          "execution_count": 5
        }
      ]
    },
    {
      "cell_type": "code",
      "source": [
        "2**3"
      ],
      "metadata": {
        "colab": {
          "base_uri": "https://localhost:8080/"
        },
        "id": "G114BiZxr7Qo",
        "outputId": "847a8250-3910-4ef7-b01a-9d6c00a253dd"
      },
      "id": "G114BiZxr7Qo",
      "execution_count": null,
      "outputs": [
        {
          "output_type": "execute_result",
          "data": {
            "text/plain": [
              "8"
            ]
          },
          "metadata": {},
          "execution_count": 6
        }
      ]
    },
    {
      "cell_type": "code",
      "source": [
        "16%12"
      ],
      "metadata": {
        "colab": {
          "base_uri": "https://localhost:8080/"
        },
        "id": "qZuUdCSZr8nv",
        "outputId": "9f11459f-ffaf-4541-a618-fa66e8c3d209"
      },
      "id": "qZuUdCSZr8nv",
      "execution_count": null,
      "outputs": [
        {
          "output_type": "execute_result",
          "data": {
            "text/plain": [
              "4"
            ]
          },
          "metadata": {},
          "execution_count": 7
        }
      ]
    },
    {
      "cell_type": "markdown",
      "source": [
        "En este punto posiblemente estés cansado de pulsar el botón de play para ejecutar las celdas. Para facilitar la interacción con los notebooks puedes usar los distintos atajos de teclados disponibles:\n",
        "- `Alt + Enter`: evalúa la celda actual, inserta una nueva celda y cambia a ella.\n",
        "- `Shift + Enter`: evalúa la celda actual y cambia a la siguiente celda.\n",
        "- `Ctrl + Enter`: evalúa la celda actual y se queda en ella. "
      ],
      "metadata": {
        "id": "DzB9T_mur_5A"
      },
      "id": "DzB9T_mur_5A"
    },
    {
      "cell_type": "markdown",
      "source": [
        "## Textos como cadenas de caracteres\n",
        "\n",
        "Hasta ahora hemos trabajado con números, pero en este máster nos interesa trabajar con textos. La manera más sencilla de representar texto en Python es mediante una cadena de caracteres. Las cadenas de caracteres, o **strings**, se pueden crear mediante las comillas. "
      ],
      "metadata": {
        "id": "AxWxYC4XskEs"
      },
      "id": "AxWxYC4XskEs"
    },
    {
      "cell_type": "code",
      "source": [
        "\"¡Hola mundo!\" "
      ],
      "metadata": {
        "colab": {
          "base_uri": "https://localhost:8080/",
          "height": 35
        },
        "id": "Ju-v-BbZshbL",
        "outputId": "ca929812-e0ef-4752-bc74-0b0362584e5e"
      },
      "id": "Ju-v-BbZshbL",
      "execution_count": null,
      "outputs": [
        {
          "output_type": "execute_result",
          "data": {
            "text/plain": [
              "'¡Hola mundo!'"
            ],
            "application/vnd.google.colaboratory.intrinsic+json": {
              "type": "string"
            }
          },
          "metadata": {},
          "execution_count": 8
        }
      ]
    },
    {
      "cell_type": "code",
      "source": [
        "'Hola mundo'"
      ],
      "metadata": {
        "colab": {
          "base_uri": "https://localhost:8080/",
          "height": 35
        },
        "id": "mxeC8-zYr9pP",
        "outputId": "5bd6d833-1923-4d7f-9c3f-4d6cb2fa31d9"
      },
      "id": "mxeC8-zYr9pP",
      "execution_count": null,
      "outputs": [
        {
          "output_type": "execute_result",
          "data": {
            "text/plain": [
              "'Hola mundo'"
            ],
            "application/vnd.google.colaboratory.intrinsic+json": {
              "type": "string"
            }
          },
          "metadata": {},
          "execution_count": 9
        }
      ]
    },
    {
      "cell_type": "markdown",
      "source": [
        "¿Qué ocurre si queremos incluir en nuestro texto comillas? "
      ],
      "metadata": {
        "id": "Nfr9VB8j41h3"
      },
      "id": "Nfr9VB8j41h3"
    },
    {
      "cell_type": "code",
      "source": [
        "\"En el artículo del periódico señalaban que \"la policía allanó la casa de los sospechosos\"\""
      ],
      "metadata": {
        "colab": {
          "base_uri": "https://localhost:8080/",
          "height": 131
        },
        "id": "T5jAosAg4lE8",
        "outputId": "3097509f-b3c5-4be8-b066-f9681404a0b2"
      },
      "id": "T5jAosAg4lE8",
      "execution_count": null,
      "outputs": [
        {
          "output_type": "error",
          "ename": "SyntaxError",
          "evalue": "ignored",
          "traceback": [
            "\u001b[0;36m  File \u001b[0;32m\"<ipython-input-13-c6306c2b7b3a>\"\u001b[0;36m, line \u001b[0;32m1\u001b[0m\n\u001b[0;31m    \"En el artículo del periódico señalaban que \"la policía allanó la casa de los sospechosos\"\"\u001b[0m\n\u001b[0m                                                  ^\u001b[0m\n\u001b[0;31mSyntaxError\u001b[0m\u001b[0;31m:\u001b[0m invalid syntax\n"
          ]
        }
      ]
    },
    {
      "cell_type": "markdown",
      "source": [
        "Vemos que se ha producido un error de sintaxis (`SyntaxError`). Cuando se produce un error en la ejecución, Python muestra un mensaje con el objetivo de que el programador pueda solucionarlo. \n",
        "\n",
        "En este caso si queremos incluir comillas en nuestro texto debemos escaparlas mediante el símbolo `\\`. "
      ],
      "metadata": {
        "id": "zZweV1tp49vn"
      },
      "id": "zZweV1tp49vn"
    },
    {
      "cell_type": "code",
      "source": [
        "\"En el artículo del periódico señalaban que \\\"la policía allanó la casa de los sospechosos\\\"\""
      ],
      "metadata": {
        "colab": {
          "base_uri": "https://localhost:8080/",
          "height": 35
        },
        "id": "ifCxqEaX48nr",
        "outputId": "29f93c8a-61f5-4499-ef31-6793c5f9ae01"
      },
      "id": "ifCxqEaX48nr",
      "execution_count": null,
      "outputs": [
        {
          "output_type": "execute_result",
          "data": {
            "text/plain": [
              "'En el artículo del periódico señalaban que \"la policía allanó la casa de los sospechosos\"'"
            ],
            "application/vnd.google.colaboratory.intrinsic+json": {
              "type": "string"
            }
          },
          "metadata": {},
          "execution_count": 12
        }
      ]
    },
    {
      "cell_type": "markdown",
      "source": [
        "Al escapar un carácter cancelamos el significado por defecto de un carácter. Las secuencias de escape existen para incluir caracteres que por defecto no se pueden incluir en un texto. Por ejemplo, por defecto, no se puede incluir una nueva línea en un texto."
      ],
      "metadata": {
        "id": "jHsrOHYf5W7U"
      },
      "id": "jHsrOHYf5W7U"
    },
    {
      "cell_type": "code",
      "source": [
        "\"una linea\n",
        "otra linea\""
      ],
      "metadata": {
        "colab": {
          "base_uri": "https://localhost:8080/",
          "height": 131
        },
        "id": "paSodr075TGP",
        "outputId": "271caafd-f1f3-4ea3-b5f9-12258c522e28"
      },
      "id": "paSodr075TGP",
      "execution_count": null,
      "outputs": [
        {
          "output_type": "error",
          "ename": "SyntaxError",
          "evalue": "ignored",
          "traceback": [
            "\u001b[0;36m  File \u001b[0;32m\"<ipython-input-14-9f28f947ba81>\"\u001b[0;36m, line \u001b[0;32m1\u001b[0m\n\u001b[0;31m    \"una linea\u001b[0m\n\u001b[0m              ^\u001b[0m\n\u001b[0;31mSyntaxError\u001b[0m\u001b[0;31m:\u001b[0m EOL while scanning string literal\n"
          ]
        }
      ]
    },
    {
      "cell_type": "markdown",
      "source": [
        "En este caso la solución es incluir la secuencia de escape `\\n` que representa una nueva línea."
      ],
      "metadata": {
        "id": "QxSnVE7q5xT9"
      },
      "id": "QxSnVE7q5xT9"
    },
    {
      "cell_type": "code",
      "source": [
        "\"una línea\\notra línea\""
      ],
      "metadata": {
        "colab": {
          "base_uri": "https://localhost:8080/",
          "height": 35
        },
        "id": "x-qkY83T5vnI",
        "outputId": "8259746a-d961-47b2-fe39-04b7fc140084"
      },
      "id": "x-qkY83T5vnI",
      "execution_count": null,
      "outputs": [
        {
          "output_type": "execute_result",
          "data": {
            "text/plain": [
              "'una línea\\notra línea'"
            ],
            "application/vnd.google.colaboratory.intrinsic+json": {
              "type": "string"
            }
          },
          "metadata": {},
          "execution_count": 20
        }
      ]
    },
    {
      "cell_type": "markdown",
      "source": [
        "¿Por qué no aparece el salto de línea en lugar de la secuencia `\\n`? Cuando se evalúa un string, Python muestra su representación canónica, la cual se puede incluir en otros bloques de código, pero que no es legible. Si queremos mostrar una versión del string tal y como aparecería en un fichero de texto necesitamos usar la función `print()`."
      ],
      "metadata": {
        "id": "4dVmE_IE58dp"
      },
      "id": "4dVmE_IE58dp"
    },
    {
      "cell_type": "code",
      "source": [
        "print(\"una línea\\notra línea\")"
      ],
      "metadata": {
        "colab": {
          "base_uri": "https://localhost:8080/"
        },
        "id": "VDo9S8ei55CK",
        "outputId": "9c779693-1710-4fd5-af56-a5db0f0c4622"
      },
      "id": "VDo9S8ei55CK",
      "execution_count": null,
      "outputs": [
        {
          "output_type": "stream",
          "name": "stdout",
          "text": [
            "una línea\n",
            "otra línea\n"
          ]
        }
      ]
    },
    {
      "cell_type": "markdown",
      "source": [
        "Existen muchas secuencias de escape, por ejemplo el tabulador `\\t`."
      ],
      "metadata": {
        "id": "ezj8QlPr6Xmn"
      },
      "id": "ezj8QlPr6Xmn"
    },
    {
      "cell_type": "code",
      "source": [
        "print(\"uno\\tdos\\ntres\\tcuatro\")"
      ],
      "metadata": {
        "colab": {
          "base_uri": "https://localhost:8080/"
        },
        "id": "GXMQgVlC6TqJ",
        "outputId": "d68a283d-e8d5-441f-9d09-df8f00ce7b83"
      },
      "id": "GXMQgVlC6TqJ",
      "execution_count": null,
      "outputs": [
        {
          "output_type": "stream",
          "name": "stdout",
          "text": [
            "uno\tdos\n",
            "tres\tcuatro\n"
          ]
        }
      ]
    },
    {
      "cell_type": "markdown",
      "source": [
        "También es posible incluir caractéres basados en el código [Unicode](https://v4py.github.io/unicode.html) mediante `\\N{...}`."
      ],
      "metadata": {
        "id": "xCgInSoC6jZ2"
      },
      "id": "xCgInSoC6jZ2"
    },
    {
      "cell_type": "code",
      "source": [
        "\"\\N{see-no-evil monkey}\""
      ],
      "metadata": {
        "colab": {
          "base_uri": "https://localhost:8080/",
          "height": 35
        },
        "id": "41i5p6dn6iAv",
        "outputId": "db0c1f02-f902-452f-ae93-9e357d8e0fa8"
      },
      "id": "41i5p6dn6iAv",
      "execution_count": null,
      "outputs": [
        {
          "output_type": "execute_result",
          "data": {
            "text/plain": [
              "'🙈'"
            ],
            "application/vnd.google.colaboratory.intrinsic+json": {
              "type": "string"
            }
          },
          "metadata": {},
          "execution_count": 19
        }
      ]
    },
    {
      "cell_type": "markdown",
      "source": [
        "En caso de que queramos escribir un texto especialmente largo (con varios párrafos), puede ser molesto incluir `\\n` cada vez que queramos incluir un salto de línea. La solución consiste en usar comillas triples.\n"
      ],
      "metadata": {
        "id": "1ZwGPuwu60Ne"
      },
      "id": "1ZwGPuwu60Ne"
    },
    {
      "cell_type": "code",
      "source": [
        "\"\"\"una línea\n",
        "otra línea\"\"\""
      ],
      "metadata": {
        "colab": {
          "base_uri": "https://localhost:8080/",
          "height": 35
        },
        "id": "YY9FVIpe6xg3",
        "outputId": "649df1bc-5d61-4af6-e460-caab11a7b4d0"
      },
      "id": "YY9FVIpe6xg3",
      "execution_count": null,
      "outputs": [
        {
          "output_type": "execute_result",
          "data": {
            "text/plain": [
              "'una línea\\notra línea'"
            ],
            "application/vnd.google.colaboratory.intrinsic+json": {
              "type": "string"
            }
          },
          "metadata": {},
          "execution_count": 22
        }
      ]
    },
    {
      "cell_type": "code",
      "source": [
        "print(\"\"\"una línea\n",
        "otra línea\"\"\")"
      ],
      "metadata": {
        "colab": {
          "base_uri": "https://localhost:8080/"
        },
        "id": "BLOWdm2o7Ly0",
        "outputId": "f1a80a6a-b837-4357-aa83-e88df232510c"
      },
      "id": "BLOWdm2o7Ly0",
      "execution_count": null,
      "outputs": [
        {
          "output_type": "stream",
          "name": "stdout",
          "text": [
            "una línea\n",
            "otra línea\n"
          ]
        }
      ]
    },
    {
      "cell_type": "markdown",
      "source": [
        "## Objetos y variables\n",
        "\n",
        "Cuando escribimos código Python normalmente interactuamos y manipulamos varios **objetos**. Un objeto es un nombre genérico que puedes inspeccionar al ponerlo en una celda de código y evaluando dicha celda. Hasta el momento, hemos visto números, strings, y una **función** (sí, las funciones también son objetos). "
      ],
      "metadata": {
        "id": "R72MMciT7QxT"
      },
      "id": "R72MMciT7QxT"
    },
    {
      "cell_type": "code",
      "source": [
        "print"
      ],
      "metadata": {
        "colab": {
          "base_uri": "https://localhost:8080/"
        },
        "id": "p77Bbb1U7Nz9",
        "outputId": "f6378117-c816-4568-8430-b730080bf33f"
      },
      "id": "p77Bbb1U7Nz9",
      "execution_count": null,
      "outputs": [
        {
          "output_type": "execute_result",
          "data": {
            "text/plain": [
              "<function print>"
            ]
          },
          "metadata": {},
          "execution_count": 24
        }
      ]
    },
    {
      "cell_type": "markdown",
      "source": [
        "Cuando se usa un objeto de manera repetida, es una buena idea almacenarlo en una **variable** mediante el **operador de asignación** `=`. De este modo evitamos escribir la expresión una y otra vez. El nombre de la variable es decisión del programador, aunque hay ciertas [reglas](https://docs.python.org/3/reference/lexical_analysis.html#identifiers), como que no pueden incluirse espacios en blanco (estos suelen remplazarse por guiones bajos `_`). "
      ],
      "metadata": {
        "id": "3yXtG0MK7nMr"
      },
      "id": "3yXtG0MK7nMr"
    },
    {
      "cell_type": "code",
      "source": [
        "cadena = \"uno\\tdos\\ntres\\tcuatro\"\n",
        "cadena"
      ],
      "metadata": {
        "colab": {
          "base_uri": "https://localhost:8080/",
          "height": 35
        },
        "id": "Oqgcv_047ly0",
        "outputId": "41a1679e-41e3-4cc6-f07b-2390a317b3c9"
      },
      "id": "Oqgcv_047ly0",
      "execution_count": null,
      "outputs": [
        {
          "output_type": "execute_result",
          "data": {
            "text/plain": [
              "'uno\\tdos\\ntres\\tcuatro'"
            ],
            "application/vnd.google.colaboratory.intrinsic+json": {
              "type": "string"
            }
          },
          "metadata": {},
          "execution_count": 25
        }
      ]
    },
    {
      "cell_type": "markdown",
      "source": [
        "Una vez asignado un objeto a una variable, este se puede usar en cualquier lugar usando la variable."
      ],
      "metadata": {
        "id": "f6xNysb88K4o"
      },
      "id": "f6xNysb88K4o"
    },
    {
      "cell_type": "code",
      "source": [
        "print(cadena)"
      ],
      "metadata": {
        "colab": {
          "base_uri": "https://localhost:8080/"
        },
        "id": "DaUKiRz08KCr",
        "outputId": "827bded4-008f-4be9-9196-fff758dc9495"
      },
      "id": "DaUKiRz08KCr",
      "execution_count": null,
      "outputs": [
        {
          "output_type": "stream",
          "name": "stdout",
          "text": [
            "uno\tdos\n",
            "tres\tcuatro\n"
          ]
        }
      ]
    },
    {
      "cell_type": "markdown",
      "source": [
        "Es posible que múltiples variables se refieran al mismo objeto."
      ],
      "metadata": {
        "id": "XX3EWQjn8W9x"
      },
      "id": "XX3EWQjn8W9x"
    },
    {
      "cell_type": "code",
      "source": [
        "otro_nombre = cadena\n",
        "print(otro_nombre)"
      ],
      "metadata": {
        "colab": {
          "base_uri": "https://localhost:8080/"
        },
        "id": "khzn_n2i8VVY",
        "outputId": "55ac45c8-b4d8-4fa2-b27c-474e4773534e"
      },
      "id": "khzn_n2i8VVY",
      "execution_count": null,
      "outputs": [
        {
          "output_type": "stream",
          "name": "stdout",
          "text": [
            "uno\tdos\n",
            "tres\tcuatro\n"
          ]
        }
      ]
    },
    {
      "cell_type": "markdown",
      "source": [
        "Podemos comprobar si dos variables se refieren al mismo objeto con el operador `is`. "
      ],
      "metadata": {
        "id": "zSvgB84R8fHe"
      },
      "id": "zSvgB84R8fHe"
    },
    {
      "cell_type": "code",
      "source": [
        "cadena is otro_nombre"
      ],
      "metadata": {
        "colab": {
          "base_uri": "https://localhost:8080/"
        },
        "id": "g17TQXCL8dWS",
        "outputId": "39c781f2-446f-494d-984b-54550d7fd52b"
      },
      "id": "g17TQXCL8dWS",
      "execution_count": null,
      "outputs": [
        {
          "output_type": "execute_result",
          "data": {
            "text/plain": [
              "True"
            ]
          },
          "metadata": {},
          "execution_count": 28
        }
      ]
    },
    {
      "cell_type": "code",
      "source": [
        "cadena is print"
      ],
      "metadata": {
        "colab": {
          "base_uri": "https://localhost:8080/"
        },
        "id": "VUHKSzvp8l44",
        "outputId": "7ef2d7c6-59cc-4a10-cd13-d44458398def"
      },
      "id": "VUHKSzvp8l44",
      "execution_count": null,
      "outputs": [
        {
          "output_type": "execute_result",
          "data": {
            "text/plain": [
              "False"
            ]
          },
          "metadata": {},
          "execution_count": 30
        }
      ]
    },
    {
      "cell_type": "code",
      "source": [
        "cadena2 = \"uno\\tdos\\ntres\\tcuatro\"\n",
        "cadena is cadena2"
      ],
      "metadata": {
        "colab": {
          "base_uri": "https://localhost:8080/"
        },
        "id": "zi4myiuU8oO-",
        "outputId": "96463ce3-ee01-40d7-d027-5f4fe0c85676"
      },
      "id": "zi4myiuU8oO-",
      "execution_count": null,
      "outputs": [
        {
          "output_type": "execute_result",
          "data": {
            "text/plain": [
              "False"
            ]
          },
          "metadata": {},
          "execution_count": 32
        }
      ]
    },
    {
      "cell_type": "markdown",
      "source": [
        "Que dos objetos no sean el mismo no significa que no sean iguales, esto lo podemos comprobar mediante el operador `==`. "
      ],
      "metadata": {
        "id": "IP_74Lqv8z-X"
      },
      "id": "IP_74Lqv8z-X"
    },
    {
      "cell_type": "code",
      "source": [
        "cadena == cadena2"
      ],
      "metadata": {
        "colab": {
          "base_uri": "https://localhost:8080/"
        },
        "id": "Cys-VJNf8xj2",
        "outputId": "fbe4089c-26bd-4658-ae52-3d1c3c5212d0"
      },
      "id": "Cys-VJNf8xj2",
      "execution_count": null,
      "outputs": [
        {
          "output_type": "execute_result",
          "data": {
            "text/plain": [
              "True"
            ]
          },
          "metadata": {},
          "execution_count": 33
        }
      ]
    },
    {
      "cell_type": "markdown",
      "source": [
        "## Atributos: objetos en objetos (en objetos ...)\n",
        "\n",
        "La mayoría de objetos no son islas aisladas, sino que la mayoría de objetos tienen otros objetos asociados a ellos que se llaman **atributos**, y que a su vez pueden tener atributos, etc. Para acceder a los atributos de un objeto se usa el símbolo `.`.\n",
        "\n",
        "Veamos esto con los números complejos, que constan de parte real y parte imaginaria. La sintaxis para los números complejos en Python es la siguiente."
      ],
      "metadata": {
        "id": "51isO9jM9Hzk"
      },
      "id": "51isO9jM9Hzk"
    },
    {
      "cell_type": "code",
      "source": [
        "c = 1 + 2j\n",
        "c"
      ],
      "metadata": {
        "colab": {
          "base_uri": "https://localhost:8080/"
        },
        "id": "DN60nBfY9Dbb",
        "outputId": "c01ae31c-10ae-427e-e8c6-c670954e5d80"
      },
      "id": "DN60nBfY9Dbb",
      "execution_count": null,
      "outputs": [
        {
          "output_type": "execute_result",
          "data": {
            "text/plain": [
              "(1+2j)"
            ]
          },
          "metadata": {},
          "execution_count": 34
        }
      ]
    },
    {
      "cell_type": "markdown",
      "source": [
        "En Python podemos acceder a la parte real e imaginaria de un número complejo mediante los atributos `.real` e `.imag` respectivamente."
      ],
      "metadata": {
        "id": "cTAApyjk9vPt"
      },
      "id": "cTAApyjk9vPt"
    },
    {
      "cell_type": "code",
      "source": [
        "c.real"
      ],
      "metadata": {
        "colab": {
          "base_uri": "https://localhost:8080/"
        },
        "id": "dV0yKnqd9ts5",
        "outputId": "a80ae5df-baed-4884-ec27-3b2342770aaf"
      },
      "id": "dV0yKnqd9ts5",
      "execution_count": null,
      "outputs": [
        {
          "output_type": "execute_result",
          "data": {
            "text/plain": [
              "1.0"
            ]
          },
          "metadata": {},
          "execution_count": 35
        }
      ]
    },
    {
      "cell_type": "code",
      "source": [
        "c.imag"
      ],
      "metadata": {
        "colab": {
          "base_uri": "https://localhost:8080/"
        },
        "id": "stV0PMNl92sQ",
        "outputId": "b45fe7f6-8f63-480f-9740-ec99d30006ce"
      },
      "id": "stV0PMNl92sQ",
      "execution_count": null,
      "outputs": [
        {
          "output_type": "execute_result",
          "data": {
            "text/plain": [
              "2.0"
            ]
          },
          "metadata": {},
          "execution_count": 36
        }
      ]
    },
    {
      "cell_type": "markdown",
      "source": [
        "### Métodos\n",
        "\n",
        "Las funciones también pueden estar asociadas a un objeto como atributos. Estas funciones proporcionan un comportamiento dinámico que depende del objeto al cual estén asociadas. Vamos a comparar la función `print()`que ya hemos visto anteriormente con el método `.conjugate()` asociado a los números complejos. "
      ],
      "metadata": {
        "id": "BZPcoA4h94lq"
      },
      "id": "BZPcoA4h94lq"
    },
    {
      "cell_type": "code",
      "source": [
        "print"
      ],
      "metadata": {
        "colab": {
          "base_uri": "https://localhost:8080/"
        },
        "id": "TJAdWp-O93F4",
        "outputId": "d0c1975f-ca8f-4dd0-cf54-ddcfe4cd0e72"
      },
      "id": "TJAdWp-O93F4",
      "execution_count": null,
      "outputs": [
        {
          "output_type": "execute_result",
          "data": {
            "text/plain": [
              "<function print>"
            ]
          },
          "metadata": {},
          "execution_count": 37
        }
      ]
    },
    {
      "cell_type": "code",
      "source": [
        "c.conjugate"
      ],
      "metadata": {
        "colab": {
          "base_uri": "https://localhost:8080/"
        },
        "id": "9NCMOdbq-qqw",
        "outputId": "906ba84f-04a5-4b05-d29d-0ed653d0d248"
      },
      "id": "9NCMOdbq-qqw",
      "execution_count": null,
      "outputs": [
        {
          "output_type": "execute_result",
          "data": {
            "text/plain": [
              "<function complex.conjugate>"
            ]
          },
          "metadata": {},
          "execution_count": 38
        }
      ]
    },
    {
      "cell_type": "markdown",
      "source": [
        "Al contrario de lo que ocurre con los datos habituales (números o strings), las funciones normalmente no se inspeccionan, sino que se **llaman** usando la sintaxis de llamada a función; es decir, añadiendo `()` al nombre de la función. Al llamar a una función se lanza su comportamiento y se ejecuta el código que está asociado a la misma. Por ejemplo, la función `print()` escribe objetos por pantalla. El método `conjugate()` calcula el [conjugado](https://es.wikipedia.org/wiki/N%C3%BAmero_complejo#Conjugado_de_un_n%C3%BAmero_complejo) de un número complejo. "
      ],
      "metadata": {
        "id": "mpIGooTf-tFY"
      },
      "id": "mpIGooTf-tFY"
    },
    {
      "cell_type": "code",
      "source": [
        "c.conjugate()"
      ],
      "metadata": {
        "colab": {
          "base_uri": "https://localhost:8080/"
        },
        "id": "zvA1KOc1-re1",
        "outputId": "62613b86-4326-4f7a-b07b-758a4b5c7adf"
      },
      "id": "zvA1KOc1-re1",
      "execution_count": null,
      "outputs": [
        {
          "output_type": "execute_result",
          "data": {
            "text/plain": [
              "(1-2j)"
            ]
          },
          "metadata": {},
          "execution_count": 39
        }
      ]
    },
    {
      "cell_type": "markdown",
      "source": [
        "Vamos a olvidarnos de los números complejos y centrarnos de nuevo en los strings. Una funcionalidad muy útil en los notebooks es el **completado tabular**. Si escribimos el nombre de una variable + `.` y pulsamos la combinación de teclas `Ctrl + Espacio`, se mostrará un menú con todos los métodos y atributos disponibles para dicho objeto. "
      ],
      "metadata": {
        "id": "VThE6ejW_Q_x"
      },
      "id": "VThE6ejW_Q_x"
    },
    {
      "cell_type": "code",
      "source": [
        "cadena."
      ],
      "metadata": {
        "id": "HAEgb9sA_Hw_"
      },
      "id": "HAEgb9sA_Hw_",
      "execution_count": null,
      "outputs": []
    },
    {
      "cell_type": "markdown",
      "source": [
        "Puedes ver que hay una gran cantidad de métodos disponibles. Muchos de ellos comienzan con el prefijo `is*`, y sirven para responder preguntas sobre el contenido de los strings. "
      ],
      "metadata": {
        "id": "PAtxuJJl_123"
      },
      "id": "PAtxuJJl_123"
    },
    {
      "cell_type": "code",
      "source": [
        "\"cat\".islower()"
      ],
      "metadata": {
        "colab": {
          "base_uri": "https://localhost:8080/"
        },
        "id": "IUg3M0pq_-kw",
        "outputId": "ae0e828d-8391-4bba-cc76-d5067fac7dad"
      },
      "id": "IUg3M0pq_-kw",
      "execution_count": null,
      "outputs": [
        {
          "output_type": "execute_result",
          "data": {
            "text/plain": [
              "True"
            ]
          },
          "metadata": {},
          "execution_count": 40
        }
      ]
    },
    {
      "cell_type": "code",
      "source": [
        "\"DOC\".isupper()"
      ],
      "metadata": {
        "colab": {
          "base_uri": "https://localhost:8080/"
        },
        "id": "CTN2kif7AAEe",
        "outputId": "3efbd117-3de9-4814-ae22-a01841f25c67"
      },
      "id": "CTN2kif7AAEe",
      "execution_count": null,
      "outputs": [
        {
          "output_type": "execute_result",
          "data": {
            "text/plain": [
              "True"
            ]
          },
          "metadata": {},
          "execution_count": 41
        }
      ]
    },
    {
      "cell_type": "code",
      "source": [
        "\"Frank\".istitle()"
      ],
      "metadata": {
        "colab": {
          "base_uri": "https://localhost:8080/"
        },
        "id": "9EqUFRhAABRO",
        "outputId": "dcac32c6-c569-4222-cf08-ea8371e365ff"
      },
      "id": "9EqUFRhAABRO",
      "execution_count": null,
      "outputs": [
        {
          "output_type": "execute_result",
          "data": {
            "text/plain": [
              "True"
            ]
          },
          "metadata": {},
          "execution_count": 42
        }
      ]
    },
    {
      "cell_type": "code",
      "source": [
        "\"42\".isnumeric()"
      ],
      "metadata": {
        "colab": {
          "base_uri": "https://localhost:8080/"
        },
        "id": "GJRtoIf6AC6d",
        "outputId": "f317b553-eb38-452d-ee22-9eedcb3c47b8"
      },
      "id": "GJRtoIf6AC6d",
      "execution_count": null,
      "outputs": [
        {
          "output_type": "execute_result",
          "data": {
            "text/plain": [
              "True"
            ]
          },
          "metadata": {},
          "execution_count": 43
        }
      ]
    },
    {
      "cell_type": "markdown",
      "source": [
        "Si queremos saber más sobre un objeto, podemos escribir delante de él el símbolo de interrogación `?`. Por ejemplo, podemos mostrar qué hace el método `.islower()`."
      ],
      "metadata": {
        "id": "uPBQcwgqAGPd"
      },
      "id": "uPBQcwgqAGPd"
    },
    {
      "cell_type": "code",
      "source": [
        "?cadena.islower"
      ],
      "metadata": {
        "id": "tDNsd5KpAFim"
      },
      "id": "tDNsd5KpAFim",
      "execution_count": null,
      "outputs": []
    },
    {
      "cell_type": "markdown",
      "source": [
        "Algunos de los métodos asociados a los objetos pueden requerir argumentos adicionales. Por ejemplo, si quieres reemplazar partes de un string con otro string podemos usar el método `.replace()` indicándole qué queremos reemplazar y con qué lo queremos reemplazar. "
      ],
      "metadata": {
        "id": "RrC0BUCxAgar"
      },
      "id": "RrC0BUCxAgar"
    },
    {
      "cell_type": "code",
      "source": [
        "\"Me gustan los gatos y los perros\".replace(\"gatos\",\"pájaros\")"
      ],
      "metadata": {
        "colab": {
          "base_uri": "https://localhost:8080/",
          "height": 35
        },
        "id": "ah4iRsmxAdDL",
        "outputId": "01586ef7-a1ba-400c-ac44-122cace7a977"
      },
      "id": "ah4iRsmxAdDL",
      "execution_count": null,
      "outputs": [
        {
          "output_type": "execute_result",
          "data": {
            "text/plain": [
              "'Me gustan los pájaros y los perros'"
            ],
            "application/vnd.google.colaboratory.intrinsic+json": {
              "type": "string"
            }
          },
          "metadata": {},
          "execution_count": 46
        }
      ]
    },
    {
      "cell_type": "markdown",
      "source": [
        "Notar que los métodos anteriores no modifican el string orignal, sino que crean uno nuevo."
      ],
      "metadata": {
        "id": "gG2n4TWiBBdx"
      },
      "id": "gG2n4TWiBBdx"
    },
    {
      "cell_type": "code",
      "source": [
        "animal = \"gato\"\n",
        "animal.upper()"
      ],
      "metadata": {
        "colab": {
          "base_uri": "https://localhost:8080/",
          "height": 35
        },
        "id": "aFXhuWsTBAc_",
        "outputId": "5b83528e-a506-4ac4-fe7a-5812d99d6f05"
      },
      "id": "aFXhuWsTBAc_",
      "execution_count": null,
      "outputs": [
        {
          "output_type": "execute_result",
          "data": {
            "text/plain": [
              "'GATO'"
            ],
            "application/vnd.google.colaboratory.intrinsic+json": {
              "type": "string"
            }
          },
          "metadata": {},
          "execution_count": 47
        }
      ]
    },
    {
      "cell_type": "code",
      "source": [
        "animal"
      ],
      "metadata": {
        "colab": {
          "base_uri": "https://localhost:8080/",
          "height": 35
        },
        "id": "WlG7jWUQBHSO",
        "outputId": "b87457ec-9030-4fca-bb99-987783684709"
      },
      "id": "WlG7jWUQBHSO",
      "execution_count": null,
      "outputs": [
        {
          "output_type": "execute_result",
          "data": {
            "text/plain": [
              "'gato'"
            ],
            "application/vnd.google.colaboratory.intrinsic+json": {
              "type": "string"
            }
          },
          "metadata": {},
          "execution_count": 48
        }
      ]
    },
    {
      "cell_type": "markdown",
      "source": [
        "Esto se debe a que en Python los strings (y los números) son inmutables. Sin embargo, es posible crear nuevos strings y re-asignarlos a antiguas variables."
      ],
      "metadata": {
        "id": "ct9sZKijBI9Z"
      },
      "id": "ct9sZKijBI9Z"
    },
    {
      "cell_type": "code",
      "source": [
        "# Creamos un string y se lo asignamos a dos variables\n",
        "nombre1 = \"cadena\"\n",
        "nombre2 = nombre1"
      ],
      "metadata": {
        "id": "-VXLXQASBHmP"
      },
      "id": "-VXLXQASBHmP",
      "execution_count": null,
      "outputs": []
    },
    {
      "cell_type": "code",
      "source": [
        "# Creamos un nuevo string que es una versión en mayúsculas del string original,\n",
        "# y se lo reasignamos a nombre2\n",
        "nombre2 = nombre2.upper()\n",
        "nombre2"
      ],
      "metadata": {
        "colab": {
          "base_uri": "https://localhost:8080/",
          "height": 35
        },
        "id": "hnNRWcqVBboQ",
        "outputId": "78b18c7f-22dc-4673-d5f0-0cd567b0f78b"
      },
      "id": "hnNRWcqVBboQ",
      "execution_count": null,
      "outputs": [
        {
          "output_type": "execute_result",
          "data": {
            "text/plain": [
              "'CADENA'"
            ],
            "application/vnd.google.colaboratory.intrinsic+json": {
              "type": "string"
            }
          },
          "metadata": {},
          "execution_count": 50
        }
      ]
    },
    {
      "cell_type": "code",
      "source": [
        "# pero el string viejo está todavía ahí.\n",
        "nombre1"
      ],
      "metadata": {
        "colab": {
          "base_uri": "https://localhost:8080/",
          "height": 35
        },
        "id": "u1VEtNB_Bj3S",
        "outputId": "f7d9c613-75a9-4b70-9b1b-a49ececd4b7a"
      },
      "id": "u1VEtNB_Bj3S",
      "execution_count": null,
      "outputs": [
        {
          "output_type": "execute_result",
          "data": {
            "text/plain": [
              "'cadena'"
            ],
            "application/vnd.google.colaboratory.intrinsic+json": {
              "type": "string"
            }
          },
          "metadata": {},
          "execution_count": 51
        }
      ]
    },
    {
      "cell_type": "markdown",
      "source": [
        "Veremos a continuación que en Python hay objetos que pueden ser modificados.  "
      ],
      "metadata": {
        "id": "VdqR_fhcBpWO"
      },
      "id": "VdqR_fhcBpWO"
    },
    {
      "cell_type": "markdown",
      "source": [
        "## Colecciones\n",
        "\n",
        "Las colecciones o contenedores son objetos que contienen otros objetos, facilitando de este modo que se puedan manipular de manera conjunta. Hemos visto que casi todos los objetos de Python contienen otros objetos mediante sus atributos, pero dichos atributos están intimamente ligados a cada objeto. Por el contrario, las colecciones no se preocupan de su contenido, sino que se centran en organizar los elementos que contienen y dar acceso a los mismos. \n",
        "\n",
        "Para motivar la necesidad de las colecciones, imaginemos que queremos almacenar los tokens individuales de la frase \"Vive y deja vivir\". Sin las colecciones tendríamos que almacenar cada uno de los tokens en una variable."
      ],
      "metadata": {
        "id": "wgqMqvTtBypp"
      },
      "id": "wgqMqvTtBypp"
    },
    {
      "cell_type": "code",
      "source": [
        "cadena1 = \"Vive\"\n",
        "cadena2 = \"y\"\n",
        "cadena3 = \"deja\"\n",
        "cadena4 = \"vivir\""
      ],
      "metadata": {
        "id": "K6ni8feJBnZN"
      },
      "id": "K6ni8feJBnZN",
      "execution_count": null,
      "outputs": []
    },
    {
      "cell_type": "markdown",
      "source": [
        "Esto puede ser muy tedioso en cuanto tenemos una gran cantidad de elementos. En lugar de eso podemos usar una lista de Python."
      ],
      "metadata": {
        "id": "OgA7S4Ji6Ua_"
      },
      "id": "OgA7S4Ji6Ua_"
    },
    {
      "cell_type": "code",
      "source": [
        "cadenas = [\"Vive\", \"y\", \"deja\", \"vivir\"]"
      ],
      "metadata": {
        "id": "53RCsfvO6TjY"
      },
      "id": "53RCsfvO6TjY",
      "execution_count": null,
      "outputs": []
    },
    {
      "cell_type": "markdown",
      "source": [
        "### Elementos de una colección\n",
        "\n",
        "Previamente ya nos hemos encontrado con un tipo de colección que son los strings. Un string puede verse como una colección de caractéres, o más concretamente una colección de strings. \n",
        "\n",
        "También en el ejemplo anterior hemos visto lo que eran las **listas**. Las listas pueden contener distintos tipos de objetos."
      ],
      "metadata": {
        "id": "dd6NEae06e9e"
      },
      "id": "dd6NEae06e9e"
    },
    {
      "cell_type": "code",
      "source": [
        "[1, \"two\", print]"
      ],
      "metadata": {
        "colab": {
          "base_uri": "https://localhost:8080/"
        },
        "id": "lQOB4pHG6dbW",
        "outputId": "98ea1d73-e980-4e5b-a24d-c8e9bcb318ad"
      },
      "id": "lQOB4pHG6dbW",
      "execution_count": null,
      "outputs": [
        {
          "output_type": "execute_result",
          "data": {
            "text/plain": [
              "[1, 'two', <function print>]"
            ]
          },
          "metadata": {},
          "execution_count": 3
        }
      ]
    },
    {
      "cell_type": "markdown",
      "source": [
        "La lista vacía se crea del siguiente modo."
      ],
      "metadata": {
        "id": "SoFBpMrM6538"
      },
      "id": "SoFBpMrM6538"
    },
    {
      "cell_type": "code",
      "source": [
        "[]"
      ],
      "metadata": {
        "colab": {
          "base_uri": "https://localhost:8080/"
        },
        "id": "a7pljmQO62ce",
        "outputId": "b3f4df72-fceb-47fd-f69b-10097db4cb24"
      },
      "id": "a7pljmQO62ce",
      "execution_count": null,
      "outputs": [
        {
          "output_type": "execute_result",
          "data": {
            "text/plain": [
              "[]"
            ]
          },
          "metadata": {},
          "execution_count": 4
        }
      ]
    },
    {
      "cell_type": "markdown",
      "source": [
        "Muy cercanas a las listas nos encontramos las **tuplas** que se definen con la siguiente sintáxis. "
      ],
      "metadata": {
        "id": "DGqwKgRQ69U2"
      },
      "id": "DGqwKgRQ69U2"
    },
    {
      "cell_type": "code",
      "source": [
        "(1, \"two\", print)"
      ],
      "metadata": {
        "colab": {
          "base_uri": "https://localhost:8080/"
        },
        "id": "z5I3YwUg68mN",
        "outputId": "79556d7c-e3a4-42d0-fcda-c15efc86a73f"
      },
      "id": "z5I3YwUg68mN",
      "execution_count": null,
      "outputs": [
        {
          "output_type": "execute_result",
          "data": {
            "text/plain": [
              "(1, 'two', <function print>)"
            ]
          },
          "metadata": {},
          "execution_count": 5
        }
      ]
    },
    {
      "cell_type": "markdown",
      "source": [
        "La tupla vacía se construye del siguiente modo."
      ],
      "metadata": {
        "id": "E8XMeLEB8ZTx"
      },
      "id": "E8XMeLEB8ZTx"
    },
    {
      "cell_type": "code",
      "source": [
        "()"
      ],
      "metadata": {
        "colab": {
          "base_uri": "https://localhost:8080/"
        },
        "id": "f7Wr4Y8S8cy0",
        "outputId": "23205d3b-6f8d-4b14-9173-f0020e2eeda5"
      },
      "id": "f7Wr4Y8S8cy0",
      "execution_count": null,
      "outputs": [
        {
          "output_type": "execute_result",
          "data": {
            "text/plain": [
              "()"
            ]
          },
          "metadata": {},
          "execution_count": 9
        }
      ]
    },
    {
      "cell_type": "markdown",
      "source": [
        "Otro tipo de colección son los **diccionarios**. Los diccionarios no son solo almacenes de valores, sino de pares **clave-valor**. En concreto, los diccionarios mapean a cada clave un valor."
      ],
      "metadata": {
        "id": "K9Ud7hjv7vSf"
      },
      "id": "K9Ud7hjv7vSf"
    },
    {
      "cell_type": "code",
      "source": [
        "{\"gato\": \"cat\", \"perro\": \"dog\"}"
      ],
      "metadata": {
        "colab": {
          "base_uri": "https://localhost:8080/"
        },
        "id": "W_m2wG1R7ptg",
        "outputId": "6c29fd51-792d-48ad-cca2-f52f2438e8cc"
      },
      "id": "W_m2wG1R7ptg",
      "execution_count": null,
      "outputs": [
        {
          "output_type": "execute_result",
          "data": {
            "text/plain": [
              "{'gato': 'cat', 'perro': 'dog'}"
            ]
          },
          "metadata": {},
          "execution_count": 6
        }
      ]
    },
    {
      "cell_type": "markdown",
      "source": [
        "Una restricción de los diccionarios es que las claves deben ser únicas. Si se proporcionan múltiples claves, sola se conservará la última."
      ],
      "metadata": {
        "id": "LbmJcXdl8AWY"
      },
      "id": "LbmJcXdl8AWY"
    },
    {
      "cell_type": "code",
      "source": [
        "{\"impar\": 1, \"par\": 2, \"impar\": 3, \"par\": 4}"
      ],
      "metadata": {
        "colab": {
          "base_uri": "https://localhost:8080/"
        },
        "id": "WsjBLwpi7_o3",
        "outputId": "c77fac0f-bd74-4cfd-b960-ce2ed51af3f6"
      },
      "id": "WsjBLwpi7_o3",
      "execution_count": null,
      "outputs": [
        {
          "output_type": "execute_result",
          "data": {
            "text/plain": [
              "{'impar': 3, 'par': 4}"
            ]
          },
          "metadata": {},
          "execution_count": 7
        }
      ]
    },
    {
      "cell_type": "markdown",
      "source": [
        "En caso de necesitar múltiples valores por clave, se puede usar una colección."
      ],
      "metadata": {
        "id": "RyXTyN3g8Qw0"
      },
      "id": "RyXTyN3g8Qw0"
    },
    {
      "cell_type": "code",
      "source": [
        "{\"par\": [2,4], \"impar\": [1,3]}"
      ],
      "metadata": {
        "colab": {
          "base_uri": "https://localhost:8080/"
        },
        "id": "XdQI_Up78NuA",
        "outputId": "a7fd71f0-4cbb-4a96-8dea-96863d2381e8"
      },
      "id": "XdQI_Up78NuA",
      "execution_count": null,
      "outputs": [
        {
          "output_type": "execute_result",
          "data": {
            "text/plain": [
              "{'par': [2, 4], 'impar': [1, 3]}"
            ]
          },
          "metadata": {},
          "execution_count": 8
        }
      ]
    },
    {
      "cell_type": "markdown",
      "source": [
        "Para acceder a los valores asociados a la clave de un diccionario usamos la siguiente sintáxis. "
      ],
      "metadata": {
        "id": "WWGE_kt3_fhv"
      },
      "id": "WWGE_kt3_fhv"
    },
    {
      "cell_type": "code",
      "source": [
        "ejemplo = {\"par\": [2,4], \"impar\": [1,3]}\n",
        "ejemplo[\"par\"]"
      ],
      "metadata": {
        "colab": {
          "base_uri": "https://localhost:8080/"
        },
        "id": "ydS1ZCyt_kAt",
        "outputId": "917f065c-8652-4c46-8db3-e2dd381988c4"
      },
      "id": "ydS1ZCyt_kAt",
      "execution_count": null,
      "outputs": [
        {
          "output_type": "execute_result",
          "data": {
            "text/plain": [
              "[2, 4]"
            ]
          },
          "metadata": {},
          "execution_count": 30
        }
      ]
    },
    {
      "cell_type": "markdown",
      "source": [
        "El diccionario vacío se define del siguiente modo. "
      ],
      "metadata": {
        "id": "4b0tJEcw8et3"
      },
      "id": "4b0tJEcw8et3"
    },
    {
      "cell_type": "code",
      "source": [
        "{}"
      ],
      "metadata": {
        "colab": {
          "base_uri": "https://localhost:8080/"
        },
        "id": "l_-1VByc8X09",
        "outputId": "aa53c78d-0582-4662-a6b9-b867e578a55b"
      },
      "id": "l_-1VByc8X09",
      "execution_count": null,
      "outputs": [
        {
          "output_type": "execute_result",
          "data": {
            "text/plain": [
              "{}"
            ]
          },
          "metadata": {},
          "execution_count": 10
        }
      ]
    },
    {
      "cell_type": "markdown",
      "source": [
        "Aunque no lo parezca, los diccionarios se emplean mucho en Python y proporcionan una estructura de datos muy versatil. "
      ],
      "metadata": {
        "id": "Bo9Unj_a8ixL"
      },
      "id": "Bo9Unj_a8ixL"
    },
    {
      "cell_type": "markdown",
      "source": [
        "Los **conjuntos** se parecen a los diccionarios en su sintáxis (también utilizan `{}`) pero en este caso solo almacenan valores. En el caso de los conjuntos no se admiten elementos repetidos, y estos se desechan. "
      ],
      "metadata": {
        "id": "fazZjHUI8o5r"
      },
      "id": "fazZjHUI8o5r"
    },
    {
      "cell_type": "code",
      "source": [
        "{1, 2, 3, 1, 2, 3}"
      ],
      "metadata": {
        "colab": {
          "base_uri": "https://localhost:8080/"
        },
        "id": "V3xcM-fB8hYM",
        "outputId": "6f958424-a2ac-4dff-ff80-e82a7bbba1ca"
      },
      "id": "V3xcM-fB8hYM",
      "execution_count": null,
      "outputs": [
        {
          "output_type": "execute_result",
          "data": {
            "text/plain": [
              "{1, 2, 3}"
            ]
          },
          "metadata": {},
          "execution_count": 11
        }
      ]
    },
    {
      "cell_type": "markdown",
      "source": [
        "Esto facilita la obtención de vocabularios de palabras únicas. "
      ],
      "metadata": {
        "id": "UziDINaC9MKa"
      },
      "id": "UziDINaC9MKa"
    },
    {
      "cell_type": "code",
      "source": [
        "{\"el\", \"gato\", \"sentado\", \"en\", \"el\", \"sillón\"}"
      ],
      "metadata": {
        "colab": {
          "base_uri": "https://localhost:8080/"
        },
        "id": "xZsUP1bJ9K0q",
        "outputId": "b43bda1b-0cb6-4049-a9fb-e8efe5730050"
      },
      "id": "xZsUP1bJ9K0q",
      "execution_count": null,
      "outputs": [
        {
          "output_type": "execute_result",
          "data": {
            "text/plain": [
              "{'el', 'en', 'gato', 'sentado', 'sillón'}"
            ]
          },
          "metadata": {},
          "execution_count": 12
        }
      ]
    },
    {
      "cell_type": "markdown",
      "source": [
        "La construcción de un conjunto vacío no se hace mediante `{}`, ya hemos visto que está reservada esa sintáxis para construir un diccionario vacío, sino mediante `set()`."
      ],
      "metadata": {
        "id": "HoJWwkzD9XfA"
      },
      "id": "HoJWwkzD9XfA"
    },
    {
      "cell_type": "code",
      "source": [
        "set()"
      ],
      "metadata": {
        "colab": {
          "base_uri": "https://localhost:8080/"
        },
        "id": "W02fKqwv9VnJ",
        "outputId": "744cdbfb-219e-4d9b-958a-90d5d089f94d"
      },
      "id": "W02fKqwv9VnJ",
      "execution_count": null,
      "outputs": [
        {
          "output_type": "execute_result",
          "data": {
            "text/plain": [
              "set()"
            ]
          },
          "metadata": {},
          "execution_count": 13
        }
      ]
    },
    {
      "cell_type": "markdown",
      "source": [
        "### Algunas funciones comunes\n",
        "\n",
        "Hay ciertas funciones comunes que sirven para cualquier tipo de colección. Por ejemplo, la función `len()` nos indica el número de elementos de una colección."
      ],
      "metadata": {
        "id": "I36lJXu49nDW"
      },
      "id": "I36lJXu49nDW"
    },
    {
      "cell_type": "code",
      "source": [
        "len([1, 2, 3])"
      ],
      "metadata": {
        "colab": {
          "base_uri": "https://localhost:8080/"
        },
        "id": "PE9lMWdh9lD_",
        "outputId": "fe10c55b-2f4a-4905-9f61-71b21e46a518"
      },
      "id": "PE9lMWdh9lD_",
      "execution_count": null,
      "outputs": [
        {
          "output_type": "execute_result",
          "data": {
            "text/plain": [
              "3"
            ]
          },
          "metadata": {},
          "execution_count": 14
        }
      ]
    },
    {
      "cell_type": "code",
      "source": [
        "len(\"Universidad de La Rioja\")"
      ],
      "metadata": {
        "colab": {
          "base_uri": "https://localhost:8080/"
        },
        "id": "CXo7w0Wg96K9",
        "outputId": "fdbe6ce5-d341-44c7-9c97-8c90b11b2227"
      },
      "id": "CXo7w0Wg96K9",
      "execution_count": null,
      "outputs": [
        {
          "output_type": "execute_result",
          "data": {
            "text/plain": [
              "23"
            ]
          },
          "metadata": {},
          "execution_count": 15
        }
      ]
    },
    {
      "cell_type": "code",
      "source": [
        "len({\"gato\": \"cat\", \"perro\": \"dog\"})"
      ],
      "metadata": {
        "colab": {
          "base_uri": "https://localhost:8080/"
        },
        "id": "YkVQMwiM99G-",
        "outputId": "84653d35-9a44-4e83-fe60-9e3465019968"
      },
      "id": "YkVQMwiM99G-",
      "execution_count": null,
      "outputs": [
        {
          "output_type": "execute_result",
          "data": {
            "text/plain": [
              "2"
            ]
          },
          "metadata": {},
          "execution_count": 16
        }
      ]
    },
    {
      "cell_type": "markdown",
      "source": [
        "La función `in` también está disponible para todas las colecciones y sirve para averiguar si un elemento pertenece a una lista. "
      ],
      "metadata": {
        "id": "t5VjKxjm-BD9"
      },
      "id": "t5VjKxjm-BD9"
    },
    {
      "cell_type": "code",
      "source": [
        "1 in [1, 2, 3]"
      ],
      "metadata": {
        "colab": {
          "base_uri": "https://localhost:8080/"
        },
        "id": "q1FAXORG-AW1",
        "outputId": "49821c95-56c7-4918-d2eb-c3dd1654cb4b"
      },
      "id": "q1FAXORG-AW1",
      "execution_count": null,
      "outputs": [
        {
          "output_type": "execute_result",
          "data": {
            "text/plain": [
              "True"
            ]
          },
          "metadata": {},
          "execution_count": 17
        }
      ]
    },
    {
      "cell_type": "code",
      "source": [
        "\"one\" in [1, 2, 3]"
      ],
      "metadata": {
        "colab": {
          "base_uri": "https://localhost:8080/"
        },
        "id": "5W8Nxqt8-ON1",
        "outputId": "42af8ab9-9c9a-45f5-ef13-5c62167bd128"
      },
      "id": "5W8Nxqt8-ON1",
      "execution_count": null,
      "outputs": [
        {
          "output_type": "execute_result",
          "data": {
            "text/plain": [
              "False"
            ]
          },
          "metadata": {},
          "execution_count": 18
        }
      ]
    },
    {
      "cell_type": "code",
      "source": [
        "\"gato\" in {\"gato\": \"cat\", \"perro\": \"dog\"}"
      ],
      "metadata": {
        "colab": {
          "base_uri": "https://localhost:8080/"
        },
        "id": "P8wfRjoT-QlE",
        "outputId": "8911bc47-1b23-4b0f-ba45-349a987220e0"
      },
      "id": "P8wfRjoT-QlE",
      "execution_count": null,
      "outputs": [
        {
          "output_type": "execute_result",
          "data": {
            "text/plain": [
              "True"
            ]
          },
          "metadata": {},
          "execution_count": 19
        }
      ]
    },
    {
      "cell_type": "code",
      "source": [
        "\"cat\" in {\"gato\": \"cat\", \"perro\": \"dog\"}"
      ],
      "metadata": {
        "colab": {
          "base_uri": "https://localhost:8080/"
        },
        "id": "QHX9aY3O-TwG",
        "outputId": "9539709b-e9eb-43df-d735-5c87b085af38"
      },
      "id": "QHX9aY3O-TwG",
      "execution_count": null,
      "outputs": [
        {
          "output_type": "execute_result",
          "data": {
            "text/plain": [
              "False"
            ]
          },
          "metadata": {},
          "execution_count": 20
        }
      ]
    },
    {
      "cell_type": "markdown",
      "source": [
        "Para acceder a los elementos de listas o tuplas, usamos la sintaxis `[...]`. La sintaxis *slice* sirve para referirse a subpartes de una colección.\n",
        "\n",
        "Slice: `s[start:end]`  $\\rightarrow$  elementos de `s` que empiezan en la posición `start` y terminan en la posición `end-1`."
      ],
      "metadata": {
        "id": "8wFsVla3-WFt"
      },
      "id": "8wFsVla3-WFt"
    },
    {
      "cell_type": "code",
      "source": [
        "s = \"Universidad\""
      ],
      "metadata": {
        "id": "fU_04x2d-Urb"
      },
      "id": "fU_04x2d-Urb",
      "execution_count": null,
      "outputs": []
    },
    {
      "cell_type": "code",
      "source": [
        "s[1:4]"
      ],
      "metadata": {
        "colab": {
          "base_uri": "https://localhost:8080/",
          "height": 35
        },
        "id": "ukiZ6o0k-xHn",
        "outputId": "8622d0d0-fdc7-4b34-8636-3ab90bcad892"
      },
      "id": "ukiZ6o0k-xHn",
      "execution_count": null,
      "outputs": [
        {
          "output_type": "execute_result",
          "data": {
            "text/plain": [
              "'niv'"
            ],
            "application/vnd.google.colaboratory.intrinsic+json": {
              "type": "string"
            }
          },
          "metadata": {},
          "execution_count": 22
        }
      ]
    },
    {
      "cell_type": "code",
      "source": [
        "s[1:]"
      ],
      "metadata": {
        "colab": {
          "base_uri": "https://localhost:8080/",
          "height": 35
        },
        "id": "E-A-3SkR-y_S",
        "outputId": "75f14562-35fa-4790-f28f-f0429f67498c"
      },
      "id": "E-A-3SkR-y_S",
      "execution_count": null,
      "outputs": [
        {
          "output_type": "execute_result",
          "data": {
            "text/plain": [
              "'niversidad'"
            ],
            "application/vnd.google.colaboratory.intrinsic+json": {
              "type": "string"
            }
          },
          "metadata": {},
          "execution_count": 23
        }
      ]
    },
    {
      "cell_type": "code",
      "source": [
        "s[:]"
      ],
      "metadata": {
        "colab": {
          "base_uri": "https://localhost:8080/",
          "height": 35
        },
        "id": "dKql6iTF-ztx",
        "outputId": "cb21de07-1530-4b37-ac47-84239b76760d"
      },
      "id": "dKql6iTF-ztx",
      "execution_count": null,
      "outputs": [
        {
          "output_type": "execute_result",
          "data": {
            "text/plain": [
              "'Universidad'"
            ],
            "application/vnd.google.colaboratory.intrinsic+json": {
              "type": "string"
            }
          },
          "metadata": {},
          "execution_count": 24
        }
      ]
    },
    {
      "cell_type": "code",
      "source": [
        "s[4]"
      ],
      "metadata": {
        "colab": {
          "base_uri": "https://localhost:8080/",
          "height": 35
        },
        "id": "i8okIxf9-0Yr",
        "outputId": "11e31dfe-c37c-48dc-b3d1-dea493cc568c"
      },
      "id": "i8okIxf9-0Yr",
      "execution_count": null,
      "outputs": [
        {
          "output_type": "execute_result",
          "data": {
            "text/plain": [
              "'e'"
            ],
            "application/vnd.google.colaboratory.intrinsic+json": {
              "type": "string"
            }
          },
          "metadata": {},
          "execution_count": 25
        }
      ]
    },
    {
      "cell_type": "code",
      "source": [
        "s[:-3]"
      ],
      "metadata": {
        "colab": {
          "base_uri": "https://localhost:8080/",
          "height": 35
        },
        "id": "yVzCtRtW-1FC",
        "outputId": "cd0c9c18-b6bd-480a-d7a1-9b5746f70414"
      },
      "id": "yVzCtRtW-1FC",
      "execution_count": null,
      "outputs": [
        {
          "output_type": "execute_result",
          "data": {
            "text/plain": [
              "'Universi'"
            ],
            "application/vnd.google.colaboratory.intrinsic+json": {
              "type": "string"
            }
          },
          "metadata": {},
          "execution_count": 26
        }
      ]
    },
    {
      "cell_type": "code",
      "source": [
        "s[-3:]"
      ],
      "metadata": {
        "colab": {
          "base_uri": "https://localhost:8080/",
          "height": 35
        },
        "id": "xQQd3HsD-2QS",
        "outputId": "c8839173-c556-450f-be25-31f7bdba8146"
      },
      "id": "xQQd3HsD-2QS",
      "execution_count": null,
      "outputs": [
        {
          "output_type": "execute_result",
          "data": {
            "text/plain": [
              "'dad'"
            ],
            "application/vnd.google.colaboratory.intrinsic+json": {
              "type": "string"
            }
          },
          "metadata": {},
          "execution_count": 27
        }
      ]
    },
    {
      "cell_type": "markdown",
      "source": [
        "Esta sintáxis se puede usar con listas y tuplas, pero no con diccionarios o conjuntos. "
      ],
      "metadata": {
        "id": "3C--Jsqu_WwH"
      },
      "id": "3C--Jsqu_WwH"
    },
    {
      "cell_type": "code",
      "source": [
        "dic = {\"gato\": \"cat\", \"perro\": \"dog\"}\n",
        "dic[0]"
      ],
      "metadata": {
        "colab": {
          "base_uri": "https://localhost:8080/",
          "height": 184
        },
        "id": "3yShDo4J_cSv",
        "outputId": "7ec6735f-bba1-4305-9814-151075d015eb"
      },
      "id": "3yShDo4J_cSv",
      "execution_count": null,
      "outputs": [
        {
          "output_type": "error",
          "ename": "KeyError",
          "evalue": "ignored",
          "traceback": [
            "\u001b[0;31m---------------------------------------------------------------------------\u001b[0m",
            "\u001b[0;31mKeyError\u001b[0m                                  Traceback (most recent call last)",
            "\u001b[0;32m<ipython-input-31-bfb2bcc29458>\u001b[0m in \u001b[0;36m<module>\u001b[0;34m\u001b[0m\n\u001b[1;32m      1\u001b[0m \u001b[0mdic\u001b[0m \u001b[0;34m=\u001b[0m \u001b[0;34m{\u001b[0m\u001b[0;34m\"gato\"\u001b[0m\u001b[0;34m:\u001b[0m \u001b[0;34m\"cat\"\u001b[0m\u001b[0;34m,\u001b[0m \u001b[0;34m\"perro\"\u001b[0m\u001b[0;34m:\u001b[0m \u001b[0;34m\"dog\"\u001b[0m\u001b[0;34m}\u001b[0m\u001b[0;34m\u001b[0m\u001b[0;34m\u001b[0m\u001b[0m\n\u001b[0;32m----> 2\u001b[0;31m \u001b[0mdic\u001b[0m\u001b[0;34m[\u001b[0m\u001b[0;36m0\u001b[0m\u001b[0;34m]\u001b[0m\u001b[0;34m\u001b[0m\u001b[0;34m\u001b[0m\u001b[0m\n\u001b[0m",
            "\u001b[0;31mKeyError\u001b[0m: 0"
          ]
        }
      ]
    },
    {
      "cell_type": "code",
      "source": [
        "conjunto = {1, 2, 3}\n",
        "conjunto[0]"
      ],
      "metadata": {
        "colab": {
          "base_uri": "https://localhost:8080/",
          "height": 184
        },
        "id": "mQc46QRG_zR1",
        "outputId": "c214782e-4c39-4c41-8d5c-265b205f75f6"
      },
      "id": "mQc46QRG_zR1",
      "execution_count": null,
      "outputs": [
        {
          "output_type": "error",
          "ename": "TypeError",
          "evalue": "ignored",
          "traceback": [
            "\u001b[0;31m---------------------------------------------------------------------------\u001b[0m",
            "\u001b[0;31mTypeError\u001b[0m                                 Traceback (most recent call last)",
            "\u001b[0;32m<ipython-input-32-656ca0f7a66f>\u001b[0m in \u001b[0;36m<module>\u001b[0;34m\u001b[0m\n\u001b[1;32m      1\u001b[0m \u001b[0mconjunto\u001b[0m \u001b[0;34m=\u001b[0m \u001b[0;34m{\u001b[0m\u001b[0;36m1\u001b[0m\u001b[0;34m,\u001b[0m \u001b[0;36m2\u001b[0m\u001b[0;34m,\u001b[0m \u001b[0;36m3\u001b[0m\u001b[0;34m}\u001b[0m\u001b[0;34m\u001b[0m\u001b[0;34m\u001b[0m\u001b[0m\n\u001b[0;32m----> 2\u001b[0;31m \u001b[0mconjunto\u001b[0m\u001b[0;34m[\u001b[0m\u001b[0;36m0\u001b[0m\u001b[0;34m]\u001b[0m\u001b[0;34m\u001b[0m\u001b[0;34m\u001b[0m\u001b[0m\n\u001b[0m",
            "\u001b[0;31mTypeError\u001b[0m: 'set' object is not subscriptable"
          ]
        }
      ]
    },
    {
      "cell_type": "markdown",
      "source": [
        "Para eliminar elementos de una colección podemos usar la función `del`. Sin embargo, esta función solo se puede utilizar en colecciones mutables (listas y diccionarios), pero no en tuplas o conjuntos que son inmutables. "
      ],
      "metadata": {
        "id": "xBEpJv-b_DXo"
      },
      "id": "xBEpJv-b_DXo"
    },
    {
      "cell_type": "code",
      "source": [
        "lista = [1, 2, 3]\n",
        "del lista[0]\n",
        "lista"
      ],
      "metadata": {
        "colab": {
          "base_uri": "https://localhost:8080/"
        },
        "id": "OgouG4FG_8dO",
        "outputId": "a5986cb9-6911-4df9-8460-bfd288210831"
      },
      "id": "OgouG4FG_8dO",
      "execution_count": null,
      "outputs": [
        {
          "output_type": "execute_result",
          "data": {
            "text/plain": [
              "[2, 3]"
            ]
          },
          "metadata": {},
          "execution_count": 33
        }
      ]
    },
    {
      "cell_type": "code",
      "source": [
        "tupla = (1, 2, 3)\n",
        "del tupla[0]\n",
        "tupla"
      ],
      "metadata": {
        "colab": {
          "base_uri": "https://localhost:8080/",
          "height": 201
        },
        "id": "bAJlj_ZZ-3Si",
        "outputId": "65877e82-c9df-4535-d9d3-9e2983197112"
      },
      "id": "bAJlj_ZZ-3Si",
      "execution_count": null,
      "outputs": [
        {
          "output_type": "error",
          "ename": "TypeError",
          "evalue": "ignored",
          "traceback": [
            "\u001b[0;31m---------------------------------------------------------------------------\u001b[0m",
            "\u001b[0;31mTypeError\u001b[0m                                 Traceback (most recent call last)",
            "\u001b[0;32m<ipython-input-34-fc5d33efbcd6>\u001b[0m in \u001b[0;36m<module>\u001b[0;34m\u001b[0m\n\u001b[1;32m      1\u001b[0m \u001b[0mtupla\u001b[0m \u001b[0;34m=\u001b[0m \u001b[0;34m(\u001b[0m\u001b[0;36m1\u001b[0m\u001b[0;34m,\u001b[0m \u001b[0;36m2\u001b[0m\u001b[0;34m,\u001b[0m \u001b[0;36m3\u001b[0m\u001b[0;34m)\u001b[0m\u001b[0;34m\u001b[0m\u001b[0;34m\u001b[0m\u001b[0m\n\u001b[0;32m----> 2\u001b[0;31m \u001b[0;32mdel\u001b[0m \u001b[0mtupla\u001b[0m\u001b[0;34m[\u001b[0m\u001b[0;36m0\u001b[0m\u001b[0;34m]\u001b[0m\u001b[0;34m\u001b[0m\u001b[0;34m\u001b[0m\u001b[0m\n\u001b[0m\u001b[1;32m      3\u001b[0m \u001b[0mtupla\u001b[0m\u001b[0;34m\u001b[0m\u001b[0;34m\u001b[0m\u001b[0m\n",
            "\u001b[0;31mTypeError\u001b[0m: 'tuple' object doesn't support item deletion"
          ]
        }
      ]
    },
    {
      "cell_type": "code",
      "source": [
        "conjunto = {1, 2, 3}\n",
        "del conjunto[0]\n",
        "conjunto"
      ],
      "metadata": {
        "colab": {
          "base_uri": "https://localhost:8080/",
          "height": 201
        },
        "id": "0utilamc_OdQ",
        "outputId": "71c7b56a-1892-4ef2-dd27-46cd34e37a71"
      },
      "id": "0utilamc_OdQ",
      "execution_count": null,
      "outputs": [
        {
          "output_type": "error",
          "ename": "TypeError",
          "evalue": "ignored",
          "traceback": [
            "\u001b[0;31m---------------------------------------------------------------------------\u001b[0m",
            "\u001b[0;31mTypeError\u001b[0m                                 Traceback (most recent call last)",
            "\u001b[0;32m<ipython-input-35-5e928800e37c>\u001b[0m in \u001b[0;36m<module>\u001b[0;34m\u001b[0m\n\u001b[1;32m      1\u001b[0m \u001b[0mconjunto\u001b[0m \u001b[0;34m=\u001b[0m \u001b[0;34m{\u001b[0m\u001b[0;36m1\u001b[0m\u001b[0;34m,\u001b[0m \u001b[0;36m2\u001b[0m\u001b[0;34m,\u001b[0m \u001b[0;36m3\u001b[0m\u001b[0;34m}\u001b[0m\u001b[0;34m\u001b[0m\u001b[0;34m\u001b[0m\u001b[0m\n\u001b[0;32m----> 2\u001b[0;31m \u001b[0;32mdel\u001b[0m \u001b[0mconjunto\u001b[0m\u001b[0;34m[\u001b[0m\u001b[0;36m0\u001b[0m\u001b[0;34m]\u001b[0m\u001b[0;34m\u001b[0m\u001b[0;34m\u001b[0m\u001b[0m\n\u001b[0m\u001b[1;32m      3\u001b[0m \u001b[0mconjunto\u001b[0m\u001b[0;34m\u001b[0m\u001b[0;34m\u001b[0m\u001b[0m\n",
            "\u001b[0;31mTypeError\u001b[0m: 'set' object doesn't support item deletion"
          ]
        }
      ]
    },
    {
      "cell_type": "code",
      "source": [
        "dic = {\"gato\": \"cat\", \"perro\": \"dog\"}\n",
        "del dic[\"gato\"]\n",
        "dic"
      ],
      "metadata": {
        "colab": {
          "base_uri": "https://localhost:8080/"
        },
        "id": "NCcFaGQW_Qhf",
        "outputId": "a93e3608-78ec-486c-988d-50139665ed2f"
      },
      "id": "NCcFaGQW_Qhf",
      "execution_count": null,
      "outputs": [
        {
          "output_type": "execute_result",
          "data": {
            "text/plain": [
              "{'perro': 'dog'}"
            ]
          },
          "metadata": {},
          "execution_count": 36
        }
      ]
    },
    {
      "cell_type": "markdown",
      "source": [
        "## Importando librerías adicionales\n",
        "\n",
        "En cualquier sesión de Python tenemos disponibles por defecto un conjunto de funciones y tipos de datos. Con dicha funcionalidad es posible programar prácticamente cualquier cosa que se nos ocurra, sin embargo si todos tendríamos que empezar desde cero nuestros programas, esto se podría volver una tarea tediosa. Es por esto que existen bloques de código que son reusables y que se pueden **importar** en Python para extender su funcionalidad. Estos bloques se conocen como librerías, paquetes o módulos. \n",
        "\n",
        "Importar una librería en Python es muy sencillo. Por ejemplo, la librería `nltk` que usamos en la sesión anterior se importa mediante el siguiente comando. "
      ],
      "metadata": {
        "id": "naYF0hDvAXsi"
      },
      "id": "naYF0hDvAXsi"
    },
    {
      "cell_type": "code",
      "source": [
        "import nltk"
      ],
      "metadata": {
        "id": "HCpYD8I7AOUD"
      },
      "id": "HCpYD8I7AOUD",
      "execution_count": null,
      "outputs": []
    },
    {
      "cell_type": "markdown",
      "source": [
        "La anterior instrucción importa el módulo `nltk`y crea una variable `nltk` que se puede usar para acceder los objetos definidos en dicho módulo mediante la sintaxis de atributo. Por ejemplo, la función `word_tokenize()` rompe un texto en sus tokens, y la función `download()` sirve para descargar distintos paquetes de la librería nltk. "
      ],
      "metadata": {
        "id": "Xwj3kkctBeaX"
      },
      "id": "Xwj3kkctBeaX"
    },
    {
      "cell_type": "code",
      "source": [
        "nltk.download('punkt')\n",
        "nltk.word_tokenize(\"Vive y deja vivir.\")"
      ],
      "metadata": {
        "colab": {
          "base_uri": "https://localhost:8080/"
        },
        "id": "8yeAe6FfBc2W",
        "outputId": "9e73ff6a-b6c8-4b2d-a040-8be78dab619d"
      },
      "id": "8yeAe6FfBc2W",
      "execution_count": null,
      "outputs": [
        {
          "output_type": "stream",
          "name": "stderr",
          "text": [
            "[nltk_data] Downloading package punkt to /root/nltk_data...\n",
            "[nltk_data]   Package punkt is already up-to-date!\n"
          ]
        },
        {
          "output_type": "execute_result",
          "data": {
            "text/plain": [
              "['Vive', 'y', 'deja', 'vivir', '.']"
            ]
          },
          "metadata": {},
          "execution_count": 40
        }
      ]
    },
    {
      "cell_type": "markdown",
      "source": [
        "En caso de que ya tengamos una variable con el nombre `nltk` nos puede interesar usar un alias. "
      ],
      "metadata": {
        "id": "lT_-xxNeCAax"
      },
      "id": "lT_-xxNeCAax"
    },
    {
      "cell_type": "code",
      "source": [
        "import nltk as lenguaje"
      ],
      "metadata": {
        "id": "2aKfil4vBxQa"
      },
      "id": "2aKfil4vBxQa",
      "execution_count": null,
      "outputs": []
    },
    {
      "cell_type": "markdown",
      "source": [
        "El comando anterior importa el módulo `nltk` pero lo almacena en una variable llamada `lenguaje`. "
      ],
      "metadata": {
        "id": "Ym9BNYlPCIDX"
      },
      "id": "Ym9BNYlPCIDX"
    },
    {
      "cell_type": "code",
      "source": [
        "lenguaje.word_tokenize(\"Vive y deja vivir.\")"
      ],
      "metadata": {
        "colab": {
          "base_uri": "https://localhost:8080/"
        },
        "id": "46CVZgiwCHm4",
        "outputId": "0a7499bd-b6c9-4ba8-b9ae-252210fc776d"
      },
      "id": "46CVZgiwCHm4",
      "execution_count": null,
      "outputs": [
        {
          "output_type": "execute_result",
          "data": {
            "text/plain": [
              "['Vive', 'y', 'deja', 'vivir', '.']"
            ]
          },
          "metadata": {},
          "execution_count": 42
        }
      ]
    },
    {
      "cell_type": "markdown",
      "source": [
        "Al importar un módulo, estamos importando todos sus objetos, pero puede que nos interese solo uno de ellos, y evitar el uso constante del nombre de la librería. Para importar únicamente una función de un módulo podemos usar la siguiente sintaxis. "
      ],
      "metadata": {
        "id": "-qCX6yCHCSvw"
      },
      "id": "-qCX6yCHCSvw"
    },
    {
      "cell_type": "code",
      "source": [
        "from nltk import word_tokenize\n",
        "word_tokenize(\"Vive y deja vivir.\")"
      ],
      "metadata": {
        "colab": {
          "base_uri": "https://localhost:8080/"
        },
        "id": "KMCJLPGACRCg",
        "outputId": "4cdfaf0e-d524-457f-b4f6-80d6fef379a1"
      },
      "id": "KMCJLPGACRCg",
      "execution_count": null,
      "outputs": [
        {
          "output_type": "execute_result",
          "data": {
            "text/plain": [
              "['Vive', 'y', 'deja', 'vivir', '.']"
            ]
          },
          "metadata": {},
          "execution_count": 43
        }
      ]
    },
    {
      "cell_type": "markdown",
      "source": [
        "No todos los paquetes disponibles para Python vienen instalados por defecto en nuestro entorno. Por ejemplo, si intentamos importar la librería `requests_html` que usamos en la sesión anterior obtendremos un error. "
      ],
      "metadata": {
        "id": "vqbkqz8PC2KG"
      },
      "id": "vqbkqz8PC2KG"
    },
    {
      "cell_type": "code",
      "source": [
        "import requests_html"
      ],
      "metadata": {
        "colab": {
          "base_uri": "https://localhost:8080/",
          "height": 305
        },
        "id": "Bdp0yvf3ClEu",
        "outputId": "9109d1cb-a742-44d0-c9aa-8158d3d74568"
      },
      "id": "Bdp0yvf3ClEu",
      "execution_count": null,
      "outputs": [
        {
          "output_type": "error",
          "ename": "ModuleNotFoundError",
          "evalue": "ignored",
          "traceback": [
            "\u001b[0;31m---------------------------------------------------------------------------\u001b[0m",
            "\u001b[0;31mModuleNotFoundError\u001b[0m                       Traceback (most recent call last)",
            "\u001b[0;32m<ipython-input-44-13774a81f8e7>\u001b[0m in \u001b[0;36m<module>\u001b[0;34m\u001b[0m\n\u001b[0;32m----> 1\u001b[0;31m \u001b[0;32mimport\u001b[0m \u001b[0mrequests_html\u001b[0m\u001b[0;34m\u001b[0m\u001b[0;34m\u001b[0m\u001b[0m\n\u001b[0m",
            "\u001b[0;31mModuleNotFoundError\u001b[0m: No module named 'requests_html'",
            "",
            "\u001b[0;31m---------------------------------------------------------------------------\u001b[0;32m\nNOTE: If your import is failing due to a missing package, you can\nmanually install dependencies using either !pip or !apt.\n\nTo view examples of installing some common dependencies, click the\n\"Open Examples\" button below.\n\u001b[0;31m---------------------------------------------------------------------------\u001b[0m\n"
          ],
          "errorDetails": {
            "actions": [
              {
                "action": "open_url",
                "actionText": "Open Examples",
                "url": "/notebooks/snippets/importing_libraries.ipynb"
              }
            ]
          }
        }
      ]
    },
    {
      "cell_type": "markdown",
      "source": [
        "Para instalar dicha librería debemos hacerlo mediante un gestor de paquetes. En el entorno de Google Colaboratory esto se hace mediante el comando de sistema `pip`."
      ],
      "metadata": {
        "id": "7ybhObmPDMWN"
      },
      "id": "7ybhObmPDMWN"
    },
    {
      "cell_type": "code",
      "source": [
        "!pip install requests_html"
      ],
      "metadata": {
        "colab": {
          "base_uri": "https://localhost:8080/",
          "height": 1000
        },
        "id": "pwS9LNBbDB3C",
        "outputId": "7ad0ca05-b19c-4e1a-9e23-24a5f7a7f393"
      },
      "id": "pwS9LNBbDB3C",
      "execution_count": null,
      "outputs": [
        {
          "output_type": "stream",
          "name": "stdout",
          "text": [
            "Looking in indexes: https://pypi.org/simple, https://us-python.pkg.dev/colab-wheels/public/simple/\n",
            "Collecting requests_html\n",
            "  Downloading requests_html-0.10.0-py3-none-any.whl (13 kB)\n",
            "Requirement already satisfied: requests in /usr/local/lib/python3.7/dist-packages (from requests_html) (2.23.0)\n",
            "Collecting pyppeteer>=0.0.14\n",
            "  Downloading pyppeteer-1.0.2-py3-none-any.whl (83 kB)\n",
            "\u001b[K     |████████████████████████████████| 83 kB 1.6 MB/s \n",
            "\u001b[?25hCollecting pyquery\n",
            "  Downloading pyquery-1.4.3-py3-none-any.whl (22 kB)\n",
            "Collecting parse\n",
            "  Downloading parse-1.19.0.tar.gz (30 kB)\n",
            "Requirement already satisfied: bs4 in /usr/local/lib/python3.7/dist-packages (from requests_html) (0.0.1)\n",
            "Collecting w3lib\n",
            "  Downloading w3lib-2.0.1-py3-none-any.whl (20 kB)\n",
            "Collecting fake-useragent\n",
            "  Downloading fake-useragent-0.1.11.tar.gz (13 kB)\n",
            "Requirement already satisfied: appdirs<2.0.0,>=1.4.3 in /usr/local/lib/python3.7/dist-packages (from pyppeteer>=0.0.14->requests_html) (1.4.4)\n",
            "Collecting pyee<9.0.0,>=8.1.0\n",
            "  Downloading pyee-8.2.2-py2.py3-none-any.whl (12 kB)\n",
            "Collecting websockets<11.0,>=10.0\n",
            "  Downloading websockets-10.3-cp37-cp37m-manylinux_2_5_x86_64.manylinux1_x86_64.manylinux_2_12_x86_64.manylinux2010_x86_64.whl (112 kB)\n",
            "\u001b[K     |████████████████████████████████| 112 kB 29.8 MB/s \n",
            "\u001b[?25hRequirement already satisfied: tqdm<5.0.0,>=4.42.1 in /usr/local/lib/python3.7/dist-packages (from pyppeteer>=0.0.14->requests_html) (4.64.1)\n",
            "Collecting urllib3<2.0.0,>=1.25.8\n",
            "  Downloading urllib3-1.26.12-py2.py3-none-any.whl (140 kB)\n",
            "\u001b[K     |████████████████████████████████| 140 kB 64.4 MB/s \n",
            "\u001b[?25hRequirement already satisfied: importlib-metadata>=1.4 in /usr/local/lib/python3.7/dist-packages (from pyppeteer>=0.0.14->requests_html) (4.12.0)\n",
            "Requirement already satisfied: certifi>=2021 in /usr/local/lib/python3.7/dist-packages (from pyppeteer>=0.0.14->requests_html) (2022.6.15)\n",
            "Requirement already satisfied: typing-extensions>=3.6.4 in /usr/local/lib/python3.7/dist-packages (from importlib-metadata>=1.4->pyppeteer>=0.0.14->requests_html) (4.1.1)\n",
            "Requirement already satisfied: zipp>=0.5 in /usr/local/lib/python3.7/dist-packages (from importlib-metadata>=1.4->pyppeteer>=0.0.14->requests_html) (3.8.1)\n",
            "Requirement already satisfied: beautifulsoup4 in /usr/local/lib/python3.7/dist-packages (from bs4->requests_html) (4.6.3)\n",
            "Collecting cssselect>0.7.9\n",
            "  Downloading cssselect-1.1.0-py2.py3-none-any.whl (16 kB)\n",
            "Requirement already satisfied: lxml>=2.1 in /usr/local/lib/python3.7/dist-packages (from pyquery->requests_html) (4.9.1)\n",
            "Requirement already satisfied: chardet<4,>=3.0.2 in /usr/local/lib/python3.7/dist-packages (from requests->requests_html) (3.0.4)\n",
            "Requirement already satisfied: idna<3,>=2.5 in /usr/local/lib/python3.7/dist-packages (from requests->requests_html) (2.10)\n",
            "Collecting urllib3<2.0.0,>=1.25.8\n",
            "  Downloading urllib3-1.25.11-py2.py3-none-any.whl (127 kB)\n",
            "\u001b[K     |████████████████████████████████| 127 kB 73.8 MB/s \n",
            "\u001b[?25hBuilding wheels for collected packages: fake-useragent, parse\n",
            "  Building wheel for fake-useragent (setup.py) ... \u001b[?25l\u001b[?25hdone\n",
            "  Created wheel for fake-useragent: filename=fake_useragent-0.1.11-py3-none-any.whl size=13502 sha256=5095b027375587060eba4e322bc02cc9a8587dd46857df92ab563619e72cce5c\n",
            "  Stored in directory: /root/.cache/pip/wheels/ed/f7/62/50ab6c9a0b5567267ab76a9daa9d06315704209b2c5d032031\n",
            "  Building wheel for parse (setup.py) ... \u001b[?25l\u001b[?25hdone\n",
            "  Created wheel for parse: filename=parse-1.19.0-py3-none-any.whl size=24591 sha256=07a7e4690013e85041ffac7275e3e832610e3ee029d9acd520ec9b7aa6cd0642\n",
            "  Stored in directory: /root/.cache/pip/wheels/9c/aa/cc/f2228050ccb40f22144b073f15a2c84f11204f29fc0dce028e\n",
            "Successfully built fake-useragent parse\n",
            "Installing collected packages: websockets, urllib3, pyee, cssselect, w3lib, pyquery, pyppeteer, parse, fake-useragent, requests-html\n",
            "  Attempting uninstall: urllib3\n",
            "    Found existing installation: urllib3 1.24.3\n",
            "    Uninstalling urllib3-1.24.3:\n",
            "      Successfully uninstalled urllib3-1.24.3\n",
            "Successfully installed cssselect-1.1.0 fake-useragent-0.1.11 parse-1.19.0 pyee-8.2.2 pyppeteer-1.0.2 pyquery-1.4.3 requests-html-0.10.0 urllib3-1.25.11 w3lib-2.0.1 websockets-10.3\n"
          ]
        },
        {
          "output_type": "display_data",
          "data": {
            "application/vnd.colab-display-data+json": {
              "pip_warning": {
                "packages": [
                  "urllib3"
                ]
              }
            }
          },
          "metadata": {}
        }
      ]
    },
    {
      "cell_type": "code",
      "source": [
        "import requests_html"
      ],
      "metadata": {
        "id": "7RlyVAocDaxL"
      },
      "id": "7RlyVAocDaxL",
      "execution_count": null,
      "outputs": []
    },
    {
      "cell_type": "markdown",
      "source": [
        "## Flujos de control\n",
        "\n",
        "Hasta el momento la ejecución de nuestro código ha sido siempre lineal; es decir, todas las instrucciones que escribíamos en las celdas de nuestro código se ejecutaban una única vez. Sin embargo, nos puede intersar tener comportamientos más ricos que se especifican con distintos flujos de control.\n"
      ],
      "metadata": {
        "id": "eIXTt4ZxDhtr"
      },
      "id": "eIXTt4ZxDhtr"
    },
    {
      "cell_type": "markdown",
      "source": [
        "### Condicionales if-else\n",
        "\n",
        "Los condicionales sirven para ejecutar un código u otro dependiendo de si se cumplen ciertas condiciones. Su sintaxis es la siguiente (notar que el código está indentado hacia la derecha cuando se entra en el bloque `if` y en el bloque `else`):\n",
        "\n",
        "```\n",
        "if <condicion>:\n",
        "  <codigo si se cumple condición>\n",
        "else:\n",
        "  <condigo si no se cumple la condición>\n",
        "```"
      ],
      "metadata": {
        "id": "cjQHCiROD4vR"
      },
      "id": "cjQHCiROD4vR"
    },
    {
      "cell_type": "markdown",
      "source": [
        "Por ejemplo, el siguiente bloque de código muestra por pantalla par si el valor de `n` es un número par, e impar en caso contrario. "
      ],
      "metadata": {
        "id": "TRG4ftR_FURu"
      },
      "id": "TRG4ftR_FURu"
    },
    {
      "cell_type": "code",
      "source": [
        "n = 3 # Prueba a cambiar el valor asignado a n\n",
        "if (n%2 == 0):\n",
        "  print(\"par\")\n",
        "else:\n",
        "  print(\"impar\")"
      ],
      "metadata": {
        "colab": {
          "base_uri": "https://localhost:8080/"
        },
        "id": "DueUp_nuDdbl",
        "outputId": "64b77265-4611-4a9f-9432-b088ff29b9dd"
      },
      "id": "DueUp_nuDdbl",
      "execution_count": null,
      "outputs": [
        {
          "output_type": "stream",
          "name": "stdout",
          "text": [
            "impar\n"
          ]
        }
      ]
    },
    {
      "cell_type": "markdown",
      "source": [
        "El código dentro de los bloques `if` y `else` puede constar de varias líneas de código."
      ],
      "metadata": {
        "id": "IY16CeaIFpaQ"
      },
      "id": "IY16CeaIFpaQ"
    },
    {
      "cell_type": "code",
      "source": [
        "n = 8 # Prueba a cambiar el valor asignado a n\n",
        "if (n%2 == 0):\n",
        "  print(\"Entro por el if\")\n",
        "  print(\"par\")\n",
        "else:\n",
        "  print(\"Entro por el else\")\n",
        "  print(\"impar\")"
      ],
      "metadata": {
        "colab": {
          "base_uri": "https://localhost:8080/"
        },
        "id": "24f8FCFsFi42",
        "outputId": "6e7dde67-2157-4144-d57a-fb3e8ff8c05b"
      },
      "id": "24f8FCFsFi42",
      "execution_count": null,
      "outputs": [
        {
          "output_type": "stream",
          "name": "stdout",
          "text": [
            "Entro por el if\n",
            "par\n"
          ]
        }
      ]
    },
    {
      "cell_type": "markdown",
      "source": [
        "No siempre es necesario que haya un bloque `else`. Esto puede servir para realizar una acción cuando se cumple una condición, y continuar con la ejecución del programa; y en caso contrario, simplemente continuar con la ejecución del programa. "
      ],
      "metadata": {
        "id": "cEDdWS8gGIyu"
      },
      "id": "cEDdWS8gGIyu"
    },
    {
      "cell_type": "code",
      "source": [
        "n = 3 # Prueba a cambiar el valor asignado a n\n",
        "if (n%2 == 0):\n",
        "  print(\"Es un número par\")\n",
        "\n",
        "print(\"Continuo con la ejecución\")"
      ],
      "metadata": {
        "colab": {
          "base_uri": "https://localhost:8080/"
        },
        "id": "4KNMwEHSGEuI",
        "outputId": "367eb8b8-4a92-4d3a-f9b0-998b839f5f8e"
      },
      "id": "4KNMwEHSGEuI",
      "execution_count": null,
      "outputs": [
        {
          "output_type": "stream",
          "name": "stdout",
          "text": [
            "Continuo con la ejecución\n"
          ]
        }
      ]
    },
    {
      "cell_type": "markdown",
      "source": [
        "### Bucles\n",
        "\n",
        "Los bucles sirven para repetir un conjunto de operaciones un número de veces dada, por ejemplo para realizar la misma operación para todos los elementos de una colección. \n",
        "\n",
        "Para ello podemos usar la siguiente sintaxis:\n",
        "```\n",
        "for <elemento> in <coleccion>:\n",
        "  ...\n",
        "```\n",
        "\n",
        "Por ejemplo, imaginad que queremos calcular la media de las longitudes de las palabras de la frase \"Vive y deja vivir\", para lo cual tenemos que sumar las longitudes de las palabras y dividir por el número de palabras total. "
      ],
      "metadata": {
        "id": "QsU0KOk9GlhL"
      },
      "id": "QsU0KOk9GlhL"
    },
    {
      "cell_type": "code",
      "source": [
        "frase = \"Vive y deja vivir\"\n",
        "# Construimos una lista que esté formada por cada una de las palabras de la frase\n",
        "palabrasFrase = frase.split(' ')\n",
        "# Definimos una variable donde iremos sumando cada una de las longitudes de cada\n",
        "# palabra. El valor inicial de esta variable será 0.\n",
        "sumaLongitudes = 0\n",
        "for palabra in palabrasFrase:\n",
        "  # Para cada palabra de la lista, sumamos su longitud a la variable\n",
        "  sumaLongitudes = sumaLongitudes + len(palabra)\n",
        "# Finalmente dividimos la suma de las longitudes entre el número de palabras de \n",
        "# la frase\n",
        "sumaLongitudes / len(palabrasFrase)"
      ],
      "metadata": {
        "colab": {
          "base_uri": "https://localhost:8080/"
        },
        "id": "q1-h_yUhGc1T",
        "outputId": "8815521e-e518-404c-af62-4448c6859df7"
      },
      "id": "q1-h_yUhGc1T",
      "execution_count": null,
      "outputs": [
        {
          "output_type": "execute_result",
          "data": {
            "text/plain": [
              "3.5"
            ]
          },
          "metadata": {},
          "execution_count": 1
        }
      ]
    },
    {
      "cell_type": "markdown",
      "source": [
        "Veamos ahora cómo calcular la distribución de frecuencias de un texto combinando un bucle con condicionales. Nuestro objetivo va a ser dado un texto, construir un diccionario en el que las claves sean las palabras de cada texto, y el valor asociado sea el número de apariciones de esa palabra en el texto. "
      ],
      "metadata": {
        "id": "WnQfzFli4ubd"
      },
      "id": "WnQfzFli4ubd"
    },
    {
      "cell_type": "code",
      "source": [
        "# Nuestro texto va a ser el primer párrafo de la página de wikipedia:\n",
        "# https://es.wikipedia.org/wiki/Inteligencia_artificial\n",
        "texto = \"La inteligencia artificial es, en ciencias de la computación, la disciplina que intenta replicar y desarrollar la inteligencia y sus procesos implícitos a través de computadoras. No existe un acuerdo sobre la definición completa de inteligencia artificial, pero se han seguido cuatro enfoques: dos centrados en los humanos (sistemas que piensan como humanos, y sistemas que actúan como humanos) y dos centrados en torno a la racionalidad (sistemas que piensan racionalmente y sistemas que actúan racionalmente). Comenzó poco después de la Segunda Guerra Mundial, y el nombre se acuñó en 1956 en la Conferencia de Dartmouth por el informático John McCarthy.\"\n",
        "# Definimos un diccionario vacío\n",
        "frecuencias = {}\n",
        "# recorremos cada una de las palabras del diccionario\n",
        "for palabra in texto.split(' '):\n",
        "  # si la palabra no está en el diccionario, la añadimos con valor 1\n",
        "  if palabra not in frecuencias:\n",
        "    frecuencias[palabra] = 1\n",
        "  # En caso contrario sumamos uno al valor actual de la palabra\n",
        "  else:\n",
        "    frecuencias[palabra] = frecuencias[palabra] + 1\n",
        "\n",
        "# Finalmente mostramos el diccionario\n",
        "frecuencias"
      ],
      "metadata": {
        "colab": {
          "base_uri": "https://localhost:8080/"
        },
        "id": "ny6wgxXFxPMF",
        "outputId": "40be1f94-1303-464e-acf2-5a59dc74551c"
      },
      "id": "ny6wgxXFxPMF",
      "execution_count": null,
      "outputs": [
        {
          "output_type": "execute_result",
          "data": {
            "text/plain": [
              "{'La': 1,\n",
              " 'inteligencia': 3,\n",
              " 'artificial': 1,\n",
              " 'es,': 1,\n",
              " 'en': 5,\n",
              " 'ciencias': 1,\n",
              " 'de': 5,\n",
              " 'la': 7,\n",
              " 'computación,': 1,\n",
              " 'disciplina': 1,\n",
              " 'que': 5,\n",
              " 'intenta': 1,\n",
              " 'replicar': 1,\n",
              " 'y': 6,\n",
              " 'desarrollar': 1,\n",
              " 'sus': 1,\n",
              " 'procesos': 1,\n",
              " 'implícitos': 1,\n",
              " 'a': 2,\n",
              " 'través': 1,\n",
              " 'computadoras.': 1,\n",
              " 'No': 1,\n",
              " 'existe': 1,\n",
              " 'un': 1,\n",
              " 'acuerdo': 1,\n",
              " 'sobre': 1,\n",
              " 'definición': 1,\n",
              " 'completa': 1,\n",
              " 'artificial,': 1,\n",
              " 'pero': 1,\n",
              " 'se': 2,\n",
              " 'han': 1,\n",
              " 'seguido': 1,\n",
              " 'cuatro': 1,\n",
              " 'enfoques:': 1,\n",
              " 'dos': 2,\n",
              " 'centrados': 2,\n",
              " 'los': 1,\n",
              " 'humanos': 1,\n",
              " '(sistemas': 2,\n",
              " 'piensan': 2,\n",
              " 'como': 2,\n",
              " 'humanos,': 1,\n",
              " 'sistemas': 2,\n",
              " 'actúan': 2,\n",
              " 'humanos)': 1,\n",
              " 'torno': 1,\n",
              " 'racionalidad': 1,\n",
              " 'racionalmente': 1,\n",
              " 'racionalmente).': 1,\n",
              " 'Comenzó': 1,\n",
              " 'poco': 1,\n",
              " 'después': 1,\n",
              " 'Segunda': 1,\n",
              " 'Guerra': 1,\n",
              " 'Mundial,': 1,\n",
              " 'el': 2,\n",
              " 'nombre': 1,\n",
              " 'acuñó': 1,\n",
              " '1956': 1,\n",
              " 'Conferencia': 1,\n",
              " 'Dartmouth': 1,\n",
              " 'por': 1,\n",
              " 'informático': 1,\n",
              " 'John': 1,\n",
              " 'McCarthy.': 1}"
            ]
          },
          "metadata": {},
          "execution_count": 1
        }
      ]
    },
    {
      "cell_type": "markdown",
      "source": [
        "**Ejercicio**: El texto anterior tiene signos puntuación que nos interesa descartar, copia el código de la celda anterior en la celda siguiente, y modifícalo para que como primer paso se eliminen del texto los signos de puntuación (busca qué hace el método `replace()`, puedes ver su funcionamiento ejecutando el comando `?str.replace`)  y se pase el texto a minúsculas (busca qué hace el método `lower()`, puedes ver su funcionamiento ejecutando el comando `?str.lower`). \n",
        "\n",
        "\n"
      ],
      "metadata": {
        "id": "YEHRWi8F5pC8"
      },
      "id": "YEHRWi8F5pC8"
    },
    {
      "cell_type": "code",
      "source": [],
      "metadata": {
        "id": "gvPtPQMu9uUZ"
      },
      "id": "gvPtPQMu9uUZ",
      "execution_count": null,
      "outputs": []
    },
    {
      "cell_type": "markdown",
      "source": [
        "## Definición de funciones\n",
        "\n",
        "Ya hemos visto la gran cantidad de cosas que se puede hacer con bucles y condicionales, sin embargo si una **funcionalidad** la usamos muy frecuentemente, resulta muy pesado tener que escribir el código todas las veces. Para estas funcionalidades existen abreviaturas. Es decir, alguien (tú u otro programador) escribió un comando que hace todo lo que quieres con solo escribir una palabra. Esto se lleva a cabo mediante lo que se conoce como **funciones**. Ya hemos encontrado ejemplos de estas abreviaturas, por ejemplo las funciones `split()` o `replace()`. \n",
        "\n",
        "Una función es un mini-programa: recibe una entrada y produce una salida utilizando los principios que hemos visto hasta el momento. La sintaxis para definir una función es la siguiente:\n",
        "\n",
        "```\n",
        "def <nombre-funcion> (<entrada1>, <entrada2>, ..., <entradaN>):\n",
        "  # Código que se ejecuta con los parámetros de entrada\n",
        "  ...\n",
        "  return <valor-a-devolver>\n",
        "```\n",
        "\n",
        "Por ejemplo, podemos definir una función que calcule la distribución de frecuencias de un texto"
      ],
      "metadata": {
        "id": "JPd7kd0_wisG"
      },
      "id": "JPd7kd0_wisG"
    },
    {
      "cell_type": "code",
      "source": [
        "def frecuencia_texto(texto):\n",
        "  # Definimos un diccionario vacío\n",
        "  frecuencias = {}\n",
        "  # recorremos cada una de las palabras del diccionario\n",
        "  for palabra in texto.split(' '):\n",
        "    # si la palabra no está en el diccionario, la añadimos con valor 1\n",
        "    if palabra not in frecuencias:\n",
        "      frecuencias[palabra] = 1\n",
        "    # En caso contrario sumamos uno al valor actual de la palabra\n",
        "    else:\n",
        "      frecuencias[palabra] = frecuencias[palabra] + 1\n",
        "\n",
        "  # Finalmente devolvemos el diccionario\n",
        "  return frecuencias"
      ],
      "metadata": {
        "id": "2nV2U3O4wkae"
      },
      "id": "2nV2U3O4wkae",
      "execution_count": null,
      "outputs": []
    },
    {
      "cell_type": "markdown",
      "source": [
        "Una vez definida esta función la podemos usar tantas veces como queramos sin tener que repetir todo el cuerpo de la función."
      ],
      "metadata": {
        "id": "sgrf0LddAy-Y"
      },
      "id": "sgrf0LddAy-Y"
    },
    {
      "cell_type": "code",
      "source": [
        "frecuencia_texto(\"Vive y deja vivir\")"
      ],
      "metadata": {
        "id": "Pp1emC1gA3xd",
        "outputId": "8088212d-73bb-4a80-aa5c-ef2e260e9878",
        "colab": {
          "base_uri": "https://localhost:8080/"
        }
      },
      "id": "Pp1emC1gA3xd",
      "execution_count": null,
      "outputs": [
        {
          "output_type": "execute_result",
          "data": {
            "text/plain": [
              "{'Vive': 1, 'y': 1, 'deja': 1, 'vivir': 1}"
            ]
          },
          "metadata": {},
          "execution_count": 9
        }
      ]
    },
    {
      "cell_type": "markdown",
      "source": [
        "**Ejercicio:** Crea una nueva función con el código que implementaste anteriormente para contar la frecuencia de cada palabra eliminando primero signos de puntuación y pasando el texto a minúsculas. "
      ],
      "metadata": {
        "id": "jUpyLRLfA_6B"
      },
      "id": "jUpyLRLfA_6B"
    },
    {
      "cell_type": "code",
      "source": [],
      "metadata": {
        "id": "93rkTZAgA5vB"
      },
      "id": "93rkTZAgA5vB",
      "execution_count": null,
      "outputs": []
    }
  ],
  "metadata": {
    "colab": {
      "provenance": [],
      "include_colab_link": true
    },
    "language_info": {
      "name": "python"
    },
    "kernelspec": {
      "name": "python3",
      "display_name": "Python 3"
    },
    "gpuClass": "standard"
  },
  "nbformat": 4,
  "nbformat_minor": 5
}