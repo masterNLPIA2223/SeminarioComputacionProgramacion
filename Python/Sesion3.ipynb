{
  "nbformat": 4,
  "nbformat_minor": 0,
  "metadata": {
    "colab": {
      "provenance": [],
      "collapsed_sections": [],
      "authorship_tag": "ABX9TyNKWHV2GW5kOvEsjQfK/3wc",
      "include_colab_link": true
    },
    "kernelspec": {
      "name": "python3",
      "display_name": "Python 3"
    },
    "language_info": {
      "name": "python"
    }
  },
  "cells": [
    {
      "cell_type": "markdown",
      "metadata": {
        "id": "view-in-github",
        "colab_type": "text"
      },
      "source": [
        "<a href=\"https://colab.research.google.com/github/masterNLPIA2223/SeminarioComputacionProgramacion/blob/main/Python/Sesion3.ipynb\" target=\"_parent\"><img src=\"https://colab.research.google.com/assets/colab-badge.svg\" alt=\"Open In Colab\"/></a>"
      ]
    },
    {
      "cell_type": "markdown",
      "source": [
        "# Sesión 3: Cargando datos en Python\n",
        "\n",
        "En este notebook veremos cómo cargar datos en Python que están almacenados en ficheros locales de nuestro ordenador. También veremos cómo guardar datos para interactuar con ellos en el futuro. \n"
      ],
      "metadata": {
        "id": "W14YwKQusk8k"
      }
    },
    {
      "cell_type": "markdown",
      "source": [
        "## Ficheros de texto plano\n",
        "\n",
        "Los ficheros de texto plano son aquellos que únicamente contienen texto formado por caracteres que son legibles por humanos, careciendo de cualquier tipo de formato tipográfico.\n",
        "\n",
        "En Python existe el tipo fichero, y se utilizan funciones específicas de cada sistema operativo para manipularlos. "
      ],
      "metadata": {
        "id": "ChsUBPdxxXNO"
      }
    },
    {
      "cell_type": "markdown",
      "source": [
        "La sintaxis recomendada para trabajar con ficheros es la siguiente.\n",
        "\n",
        "```\n",
        "with open(<nombre_fichero_fisico>, <modo>) as <nombre_fichero_variable>:\n",
        "   # Manipular fichero\n",
        "```\n",
        "\n",
        "Con dicha sintaxis se (1) abre el fichero `<nombre_fichero_fisico>`, (2) se manipula el fichero mediante operaciones asociadas a `<nombre_fichero_variable>`, y (3) se cierra automáticamente el fichero al terminar la ejecución. El `<modo>` nos indica si vamos a abrir el fichero en modo lectura o en modo escritura. \n"
      ],
      "metadata": {
        "id": "A9HLBRdsz0b5"
      }
    },
    {
      "cell_type": "code",
      "source": [
        "??open"
      ],
      "metadata": {
        "id": "HJOLHysRwB6W"
      },
      "execution_count": null,
      "outputs": []
    },
    {
      "cell_type": "markdown",
      "source": [
        "### Escribiendo texto en un fichero\n",
        "\n",
        "Vamos a escribir texto en un fichero con la sintaxis anterior. "
      ],
      "metadata": {
        "id": "u8QpRkZsyq0N"
      }
    },
    {
      "cell_type": "code",
      "source": [
        "with open(\"prueba.txt\", \"w\") as fichero:\n",
        "  fichero.write(\"Esta es la primera línea\\n\")\n",
        "  fichero.write(\"Vamos por la segunda\\n\")\n",
        "  fichero.write(\"La tercera ya llegó\\n\")\n",
        "  fichero.write(\"Y finalizamos con la cuarta\\n\")"
      ],
      "metadata": {
        "id": "1OOgzSRUzzPI"
      },
      "execution_count": null,
      "outputs": []
    },
    {
      "cell_type": "markdown",
      "source": [
        "Si ahora pinchas en el icono de la carpeta que aparece a la izquierda, verás que se ha creado dicho fichero. "
      ],
      "metadata": {
        "id": "F0m-URMOvkcg"
      }
    },
    {
      "cell_type": "markdown",
      "source": [
        "### Leyendo ficheros\n",
        "\n",
        "Los métodos más comunes utilizados para leer un fichero son `read` y `readlines`. Notar que en los comandos siguientes no le indicamos el modo a la función `open` ya que por defecto los ficheros se abren en modo lectura. "
      ],
      "metadata": {
        "id": "Ec6d6hQ207qo"
      }
    },
    {
      "cell_type": "code",
      "source": [
        "with open(\"prueba.txt\") as fichero:\n",
        "  textoCompleto = fichero.read()\n",
        "  \n",
        "print(textoCompleto)"
      ],
      "metadata": {
        "id": "GIiKebWM0yXE"
      },
      "execution_count": null,
      "outputs": []
    },
    {
      "cell_type": "code",
      "source": [
        "with open(\"prueba.txt\") as fichero:\n",
        "  textoPorLinea = fichero.readlines()\n",
        "\n",
        "print(textoPorLinea)"
      ],
      "metadata": {
        "id": "D2AEJqf21Nqf"
      },
      "execution_count": null,
      "outputs": []
    },
    {
      "cell_type": "markdown",
      "source": [
        "También es posible ir recorriendo línea a línea del fichero e ir procesando cada una de ellas con la siguiente sintaxis:\n",
        "\n",
        "```\n",
        "with open(<nombre_fichero_fisico>) as <nombre_fichero_variable>:\n",
        "   for <variable_linea> in <nombre_fichero_variable>:\n",
        "      # Operar sobre la línea\n",
        "```\n",
        "\n",
        "Por ejemplo, vamos a pasar todo el texto a minúsculas. "
      ],
      "metadata": {
        "id": "mH4L9KpM1a3R"
      }
    },
    {
      "cell_type": "code",
      "source": [
        "with open(\"prueba.txt\") as fichero:\n",
        "  for linea in fichero:\n",
        "    print(linea.lower())"
      ],
      "metadata": {
        "id": "OSt-hQ6x1VHq"
      },
      "execution_count": null,
      "outputs": []
    },
    {
      "cell_type": "markdown",
      "source": [
        "### Codificación\n",
        "\n",
        "Por defecto, cuando abrimos y guardamos un fichero en Python este se guarda con la codificación `UTF-8`, sin embargo podemos elegir otra codificación. \n",
        "\n",
        "Por ejemplo, vamos a crear un fichero con codificación `latin2`."
      ],
      "metadata": {
        "id": "D7MJNk3C25rf"
      }
    },
    {
      "cell_type": "code",
      "source": [
        "with open(\"prueba2.txt\", \"w\",encoding=\"latin2\") as fichero:\n",
        "  fichero.write(\"Esta es la primera línea\\n\")\n",
        "  fichero.write(\"Vamos por la segunda\\n\")\n",
        "  fichero.write(\"La tercera ya llegó\\n\")\n",
        "  fichero.write(\"Y finalizamos con la cuarta\\n\")"
      ],
      "metadata": {
        "id": "U4wJv4vC12Xy"
      },
      "execution_count": null,
      "outputs": []
    },
    {
      "cell_type": "markdown",
      "source": [
        "¿Qué ocurre ahora si intentamos leer el contenido de dicho fichero?"
      ],
      "metadata": {
        "id": "1NDyJPiS37Az"
      }
    },
    {
      "cell_type": "code",
      "source": [
        "with open(\"prueba2.txt\") as fichero:\n",
        "  textoCompleto = fichero.read()\n",
        "  \n",
        "print(textoCompleto)"
      ],
      "metadata": {
        "id": "1lOfxZ3g3tBD"
      },
      "execution_count": null,
      "outputs": []
    },
    {
      "cell_type": "markdown",
      "source": [
        "Podemos ver que se produce un error al intentar leer el fichero, esto se debe a que por defecto Python intenta leer el fichero con codificación UTF-8, y este no es el caso. Por lo que si queremos leer el fichero creado previamente, debemos indicar la codificación."
      ],
      "metadata": {
        "id": "qC1h411O4GaC"
      }
    },
    {
      "cell_type": "code",
      "source": [
        "with open(\"prueba2.txt\",encoding=\"latin2\") as fichero:\n",
        "  textoCompleto = fichero.read()\n",
        "  \n",
        "print(textoCompleto)"
      ],
      "metadata": {
        "id": "cY4JZfRf4BkT"
      },
      "execution_count": null,
      "outputs": []
    },
    {
      "cell_type": "markdown",
      "source": [
        "## Manipulando datos tabulares\n",
        "\n",
        "Los datos normalmente están almacenados en forma de tablas (por ejemplo, ficheros Excel o ficheros CSV). La manera más sencilla de cargar estos datos en Python es mediante la librería [pandas](https://pandas.pydata.org/).\n",
        "\n",
        "Vamos a ver cómo se trabaja con esta librería, para lo cual lo primero que vamos a hacer es descargar dos ficheros.\n",
        "\n"
      ],
      "metadata": {
        "id": "fV52ZRUe40jW"
      }
    },
    {
      "cell_type": "code",
      "source": [
        "!wget https://raw.githubusercontent.com/v4py/v4py.github.io/source/src/data/frequencies_intensifiers.csv -O frequencies_intensifiers.csv\n",
        "!wget https://raw.githubusercontent.com/v4py/v4py.github.io/source/src/data/concordance_corpus.xlsx -O concordance_corpus.xlsx"
      ],
      "metadata": {
        "id": "eKSGW_aq4ZHt"
      },
      "execution_count": null,
      "outputs": []
    },
    {
      "cell_type": "markdown",
      "source": [
        "Ahora vamos a cargar la librería pandas. Normalmente, para llamar a los métodos de esta librería se utiliza el acrónimo `pd`, para lo cual hay que cargar la librería del siguiente modo."
      ],
      "metadata": {
        "id": "fnw-iOJc_Pcm"
      }
    },
    {
      "cell_type": "code",
      "source": [
        "import pandas as pd"
      ],
      "metadata": {
        "id": "HcUlFiW6_LWY"
      },
      "execution_count": null,
      "outputs": []
    },
    {
      "cell_type": "markdown",
      "source": [
        "Ahora ya podemos cargar las tablas en Python, o utilizando el término de pandas, los `DataFrames`. Empezamos cargando el archivo excel mediante el método `read_excel`."
      ],
      "metadata": {
        "id": "Bn40kOQG_bV4"
      }
    },
    {
      "cell_type": "code",
      "source": [
        "df = pd.read_excel(\"concordance_corpus.xlsx\")"
      ],
      "metadata": {
        "id": "bBMxqrXJ_Zk-"
      },
      "execution_count": null,
      "outputs": []
    },
    {
      "cell_type": "code",
      "source": [
        "type(df)"
      ],
      "metadata": {
        "id": "pC2GtxV1_wro"
      },
      "execution_count": null,
      "outputs": []
    },
    {
      "cell_type": "markdown",
      "source": [
        "Podemos mostrar el contenido de la variable `df`."
      ],
      "metadata": {
        "id": "9bXAjfG5_yxS"
      }
    },
    {
      "cell_type": "code",
      "source": [
        "df"
      ],
      "metadata": {
        "id": "Ei6dHY0d_xs4"
      },
      "execution_count": null,
      "outputs": []
    },
    {
      "cell_type": "markdown",
      "source": [
        "Podemos ver que al cargar los datos anteriores, ha usado la primera fila como cabecera; sin embargo, nuestro fichero no tiene cabecera, por lo que debemos indicar que el atributo `header` está vacío. "
      ],
      "metadata": {
        "id": "pBLFA3F0_3Hp"
      }
    },
    {
      "cell_type": "code",
      "source": [
        "df = pd.read_excel(\"concordance_corpus.xlsx\", header=None)\n",
        "df"
      ],
      "metadata": {
        "id": "wXZBOfCp_1Xr"
      },
      "execution_count": null,
      "outputs": []
    },
    {
      "cell_type": "markdown",
      "source": [
        "Para poder interactuar con las columnas, es conveniente asignarles un nombre. Esto lo hacemos a través del atributo `names` del método `read_excel`. "
      ],
      "metadata": {
        "id": "tZMBFKLQAXNr"
      }
    },
    {
      "cell_type": "code",
      "source": [
        "df = pd.read_excel(\"concordance_corpus.xlsx\", header=None, \n",
        "    names=[\"domain\", \"left\", \"kwic\", \"right\"])\n",
        "df"
      ],
      "metadata": {
        "id": "csAE3gtbAGMG"
      },
      "execution_count": null,
      "outputs": []
    },
    {
      "cell_type": "markdown",
      "source": [
        "Notar que la tabla anterior puede convertirse en una [tabla interactiva](https://colab.research.google.com/notebooks/data_table.ipynb) en Google Colab."
      ],
      "metadata": {
        "id": "THj0plV1AOwR"
      }
    },
    {
      "cell_type": "markdown",
      "source": [
        "Ahora podemos interactuar con la tabla. Por ejemplo, podemos mostrar el contenido de una de las filas. "
      ],
      "metadata": {
        "id": "_t7JdcAQA6Fq"
      }
    },
    {
      "cell_type": "code",
      "source": [
        "df[\"domain\"]"
      ],
      "metadata": {
        "id": "-AtnnLy2A_jy"
      },
      "execution_count": null,
      "outputs": []
    },
    {
      "cell_type": "markdown",
      "source": [
        "Si queremos ver cuántos dominios únicos hay, lo podemos ver combinando varios métodos vistos previamente. "
      ],
      "metadata": {
        "id": "PwaxNWUwBC5-"
      }
    },
    {
      "cell_type": "code",
      "source": [
        "len(set(df[\"domain\"]))"
      ],
      "metadata": {
        "id": "Yb6Yenj0BAOh"
      },
      "execution_count": null,
      "outputs": []
    },
    {
      "cell_type": "markdown",
      "source": [
        "También es posible extraer más de una fila."
      ],
      "metadata": {
        "id": "pGz_LgXmBMGc"
      }
    },
    {
      "cell_type": "code",
      "source": [
        "df[[\"domain\", \"kwic\"]]"
      ],
      "metadata": {
        "id": "3fGgJ6cnBLiE"
      },
      "execution_count": null,
      "outputs": []
    },
    {
      "cell_type": "markdown",
      "source": [
        "Veremos más operaciones en los ejercicios de esta semana. Así que veamos ahora brevemente como cargar otro tipo de ficheros, que son los ficheros [csv](https://es.wikipedia.org/wiki/Valores_separados_por_comas). \n",
        "\n",
        "La manera de cargar estos ficheros es análoga a los ficheros de Excel, pero mediante la función `read_csv`."
      ],
      "metadata": {
        "id": "7mIzLS8jBglK"
      }
    },
    {
      "cell_type": "code",
      "source": [
        "df = pd.read_csv(\n",
        "    \"frequencies_intensifiers.csv\",\n",
        "    sep=\";\",\n",
        "    header=None,\n",
        "    names=[\"rank\", \"collocation\", \"freq\", \"empty\"]\n",
        ")"
      ],
      "metadata": {
        "id": "WXErVHx2BQuP"
      },
      "execution_count": null,
      "outputs": []
    },
    {
      "cell_type": "markdown",
      "source": [
        "También es posible guardar DataFrames en un fichero mediante el método `to_csv`. "
      ],
      "metadata": {
        "id": "-LsPUkYjCAux"
      }
    },
    {
      "cell_type": "code",
      "source": [
        "df.to_csv('ejemplo.csv',index=None)"
      ],
      "metadata": {
        "id": "bJ0iWIT5B6-b"
      },
      "execution_count": null,
      "outputs": []
    },
    {
      "cell_type": "code",
      "source": [
        "df"
      ],
      "metadata": {
        "id": "CEKID697FxFf"
      },
      "execution_count": null,
      "outputs": []
    },
    {
      "cell_type": "markdown",
      "source": [
        "# Fin"
      ],
      "metadata": {
        "id": "xvOcp2EbF2BX"
      }
    }
  ]
}