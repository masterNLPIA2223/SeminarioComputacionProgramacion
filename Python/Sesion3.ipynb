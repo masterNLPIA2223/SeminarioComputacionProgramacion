{
  "nbformat": 4,
  "nbformat_minor": 0,
  "metadata": {
    "colab": {
      "provenance": [],
      "collapsed_sections": [],
      "authorship_tag": "ABX9TyPW9TKBZWhYqJX56JmMJejL",
      "include_colab_link": true
    },
    "kernelspec": {
      "name": "python3",
      "display_name": "Python 3"
    },
    "language_info": {
      "name": "python"
    }
  },
  "cells": [
    {
      "cell_type": "markdown",
      "metadata": {
        "id": "view-in-github",
        "colab_type": "text"
      },
      "source": [
        "<a href=\"https://colab.research.google.com/github/masterNLPIA2223/SeminarioComputacionProgramacion/blob/main/Python/Sesion3.ipynb\" target=\"_parent\"><img src=\"https://colab.research.google.com/assets/colab-badge.svg\" alt=\"Open In Colab\"/></a>"
      ]
    },
    {
      "cell_type": "markdown",
      "source": [
        "# Sesión 3: Cargando datos en Python\n",
        "\n",
        "En este notebook veremos cómo cargar datos en Python que están almacenados en ficheros locales de nuestro ordenador. También veremos cómo guardar datos para interactuar con ellos en el futuro. \n"
      ],
      "metadata": {
        "id": "W14YwKQusk8k"
      }
    },
    {
      "cell_type": "markdown",
      "source": [
        "## Ficheros de texto plano\n",
        "\n",
        "Los ficheros de texto plano son aquellos que únicamente contienen texto formado por caracteres que son legibles por humanos, careciendo de cualquier tipo de formato tipográfico.\n",
        "\n",
        "En Python existe el tipo fichero, y se utilizan funciones específicas de cada sistema operativo para manipularlos. \n",
        "\n",
        "La interacción con un fichero va a ser siempre la misma. \n",
        "\n",
        "1.  Abrimos el fichero. Mediante la función ``open(fichero, modo)``.\n",
        "2.  Manipulamos el contenido del mismo. Leyendo su contenido o escribiendo en el mismo. \n",
        "3.  Cerramos el fichero. Mediante el método ``close()``.\n",
        "\n",
        "Veamos en primer lugar qué hace el método ``open()``."
      ],
      "metadata": {
        "id": "ChsUBPdxxXNO"
      }
    },
    {
      "cell_type": "code",
      "execution_count": 12,
      "metadata": {
        "id": "z1bzNOqusWYi"
      },
      "outputs": [],
      "source": [
        "??open"
      ]
    },
    {
      "cell_type": "markdown",
      "source": [
        "### Escribiendo texto en un fichero\n",
        "\n",
        "Vamos a abrir un fichero para escribir sobre el mismo. "
      ],
      "metadata": {
        "id": "u8QpRkZsyq0N"
      }
    },
    {
      "cell_type": "code",
      "source": [
        "fichero = open(\"prueba.txt\", \"w\")"
      ],
      "metadata": {
        "id": "ueOe6Jv_xUS_"
      },
      "execution_count": 3,
      "outputs": []
    },
    {
      "cell_type": "markdown",
      "source": [
        "Para escribir sobre un fichero debemos utilizar el método `write()`. "
      ],
      "metadata": {
        "id": "JWvtYOgTy71i"
      }
    },
    {
      "cell_type": "code",
      "source": [
        "fichero.write(\"Esta es la primera línea\\n\")\n",
        "fichero.write(\"Vamos por la segunda\\n\")\n",
        "fichero.write(\"La tercera ya llegó\\n\")\n",
        "fichero.write(\"Y finalizamos con la cuarta\\n\")"
      ],
      "metadata": {
        "colab": {
          "base_uri": "https://localhost:8080/"
        },
        "id": "XPRWm5Z3y7bC",
        "outputId": "36f3eb3a-1d44-452c-e9c3-3e8f2ed444f6"
      },
      "execution_count": 4,
      "outputs": [
        {
          "output_type": "execute_result",
          "data": {
            "text/plain": [
              "28"
            ]
          },
          "metadata": {},
          "execution_count": 4
        }
      ]
    },
    {
      "cell_type": "markdown",
      "source": [
        "El número que se muestra al final de la ejecución anterior, es el número de caracteres que se escribieron con el último comando. \n",
        "\n",
        "Finalmente, es necesario cerrar el fichero para que se guarden los cambios en el mismo. "
      ],
      "metadata": {
        "id": "EUl5I_MPzFUh"
      }
    },
    {
      "cell_type": "code",
      "source": [
        "fichero.close()"
      ],
      "metadata": {
        "id": "ax9rV5mJzBmt"
      },
      "execution_count": 5,
      "outputs": []
    },
    {
      "cell_type": "markdown",
      "source": [
        "Ahora en el panel de la izquierda, puedes ver un icono con una carpeta, si pinchas en ella verás los archivos que son accesibles desde Colab (estos archivos se eliminan al terminar la sesión así que si quieres almacenarlos en local, debes asegurarte de guardarlos). En dicha carpeta veremos nuestro archivo llamado `prueba.txt`.\n",
        "\n",
        "Para asegurarnos de cerrar siempre un fichero, es común usar la siguiente sintaxis.\n",
        "\n",
        "```\n",
        "with open(<nombre_fichero_fisico>) as <nombre_fichero_variable>:\n",
        "   # Manipular fichero\n",
        "```\n",
        "\n",
        "Con dicha sintaxis se cierra automáticamente el fichero al terminar la ejecución. Construyamos otro fichero con esta nueva sintaxis. \n"
      ],
      "metadata": {
        "id": "A9HLBRdsz0b5"
      }
    },
    {
      "cell_type": "code",
      "source": [
        "with open(\"prueba2.txt\", \"w\") as fichero:\n",
        "  fichero.write(\"Esta es la primera línea\\n\")\n",
        "  fichero.write(\"Vamos por la segunda\\n\")\n",
        "  fichero.write(\"La tercera ya llegó\\n\")\n",
        "  fichero.write(\"Y finalizamos con la cuarta\\n\")"
      ],
      "metadata": {
        "id": "1OOgzSRUzzPI"
      },
      "execution_count": 6,
      "outputs": []
    },
    {
      "cell_type": "markdown",
      "source": [
        "### Leyendo ficheros\n",
        "\n",
        "Los métodos más comunes utilizados para leer un fichero son `read` y `readlines`. Notar que en los comandos siguientes no le indicamos el modo a la función `open` ya que por defecto los ficheros se abren en modo lectura. "
      ],
      "metadata": {
        "id": "Ec6d6hQ207qo"
      }
    },
    {
      "cell_type": "code",
      "source": [
        "with open(\"prueba.txt\") as fichero:\n",
        "  textoCompleto = fichero.read()\n",
        "  \n",
        "print(textoCompleto)"
      ],
      "metadata": {
        "colab": {
          "base_uri": "https://localhost:8080/"
        },
        "id": "GIiKebWM0yXE",
        "outputId": "b1a706b8-0dd5-4949-e8a8-277b3f9ced78"
      },
      "execution_count": 8,
      "outputs": [
        {
          "output_type": "stream",
          "name": "stdout",
          "text": [
            "Esta es la primera línea\n",
            "Vamos por la segunda\n",
            "La tercera ya llegó\n",
            "Y finalizamos con la cuarta\n",
            "\n"
          ]
        }
      ]
    },
    {
      "cell_type": "code",
      "source": [
        "with open(\"prueba.txt\") as fichero:\n",
        "  textoPorLinea = fichero.readlines()\n",
        "\n",
        "print(textoPorLinea)"
      ],
      "metadata": {
        "colab": {
          "base_uri": "https://localhost:8080/"
        },
        "id": "D2AEJqf21Nqf",
        "outputId": "f5769000-a506-457c-97f3-63003d1197e1"
      },
      "execution_count": 9,
      "outputs": [
        {
          "output_type": "stream",
          "name": "stdout",
          "text": [
            "['Esta es la primera línea\\n', 'Vamos por la segunda\\n', 'La tercera ya llegó\\n', 'Y finalizamos con la cuarta\\n']\n"
          ]
        }
      ]
    },
    {
      "cell_type": "markdown",
      "source": [
        "También es posible ir recorriendo línea a línea del fichero e ir procesando cada una de ellas con la siguiente sintaxis:\n",
        "\n",
        "```\n",
        "with open(<nombre_fichero_fisico>) as <nombre_fichero_variable>:\n",
        "   for <variable_linea> in <nombre_fichero_variable>:\n",
        "      # Operar sobre la línea\n",
        "```\n",
        "\n",
        "Por ejemplo, vamos a pasar todo el texto a minúsculas. "
      ],
      "metadata": {
        "id": "mH4L9KpM1a3R"
      }
    },
    {
      "cell_type": "code",
      "source": [
        "with open(\"prueba.txt\") as fichero:\n",
        "  for linea in fichero:\n",
        "    print(linea.lower())"
      ],
      "metadata": {
        "colab": {
          "base_uri": "https://localhost:8080/"
        },
        "id": "OSt-hQ6x1VHq",
        "outputId": "16e78d66-c969-4062-ab55-fb5bc089d0ce"
      },
      "execution_count": 11,
      "outputs": [
        {
          "output_type": "stream",
          "name": "stdout",
          "text": [
            "esta es la primera línea\n",
            "\n",
            "vamos por la segunda\n",
            "\n",
            "la tercera ya llegó\n",
            "\n",
            "y finalizamos con la cuarta\n",
            "\n"
          ]
        }
      ]
    },
    {
      "cell_type": "markdown",
      "source": [
        "### Codificación\n",
        "\n",
        "Por defecto, cuando abrimos y guardamos un fichero en Python este se guarda con la codificación `UTF-8`, sin embargo podemos elegir otra codificación. \n",
        "\n",
        "Por ejemplo, vamos a crear un fichero con codificación `latin2`."
      ],
      "metadata": {
        "id": "D7MJNk3C25rf"
      }
    },
    {
      "cell_type": "code",
      "source": [
        "with open(\"prueba3.txt\", \"w\",encoding=\"latin2\") as fichero:\n",
        "  fichero.write(\"Esta es la primera línea\\n\")\n",
        "  fichero.write(\"Vamos por la segunda\\n\")\n",
        "  fichero.write(\"La tercera ya llegó\\n\")\n",
        "  fichero.write(\"Y finalizamos con la cuarta\\n\")"
      ],
      "metadata": {
        "id": "U4wJv4vC12Xy"
      },
      "execution_count": 14,
      "outputs": []
    },
    {
      "cell_type": "markdown",
      "source": [
        "¿Qué ocurre ahora si intentamos leer el contenido de dicho fichero?"
      ],
      "metadata": {
        "id": "1NDyJPiS37Az"
      }
    },
    {
      "cell_type": "code",
      "source": [
        "with open(\"prueba3.txt\") as fichero:\n",
        "  textoCompleto = fichero.read()\n",
        "  \n",
        "print(textoCompleto)"
      ],
      "metadata": {
        "colab": {
          "base_uri": "https://localhost:8080/",
          "height": 340
        },
        "id": "1lOfxZ3g3tBD",
        "outputId": "a8b26ed2-4aec-4a1e-cc81-0bb6a365f860"
      },
      "execution_count": 15,
      "outputs": [
        {
          "output_type": "error",
          "ename": "UnicodeDecodeError",
          "evalue": "ignored",
          "traceback": [
            "\u001b[0;31m---------------------------------------------------------------------------\u001b[0m",
            "\u001b[0;31mUnicodeDecodeError\u001b[0m                        Traceback (most recent call last)",
            "\u001b[0;32m<ipython-input-15-6e17fee185b4>\u001b[0m in \u001b[0;36m<module>\u001b[0;34m\u001b[0m\n\u001b[1;32m      1\u001b[0m \u001b[0;32mwith\u001b[0m \u001b[0mopen\u001b[0m\u001b[0;34m(\u001b[0m\u001b[0;34m\"prueba3.txt\"\u001b[0m\u001b[0;34m)\u001b[0m \u001b[0;32mas\u001b[0m \u001b[0mfichero\u001b[0m\u001b[0;34m:\u001b[0m\u001b[0;34m\u001b[0m\u001b[0;34m\u001b[0m\u001b[0m\n\u001b[0;32m----> 2\u001b[0;31m   \u001b[0mtextoCompleto\u001b[0m \u001b[0;34m=\u001b[0m \u001b[0mfichero\u001b[0m\u001b[0;34m.\u001b[0m\u001b[0mread\u001b[0m\u001b[0;34m(\u001b[0m\u001b[0;34m)\u001b[0m\u001b[0;34m\u001b[0m\u001b[0;34m\u001b[0m\u001b[0m\n\u001b[0m\u001b[1;32m      3\u001b[0m \u001b[0;34m\u001b[0m\u001b[0m\n\u001b[1;32m      4\u001b[0m \u001b[0mprint\u001b[0m\u001b[0;34m(\u001b[0m\u001b[0mtextoCompleto\u001b[0m\u001b[0;34m)\u001b[0m\u001b[0;34m\u001b[0m\u001b[0;34m\u001b[0m\u001b[0m\n",
            "\u001b[0;32m/usr/lib/python3.7/codecs.py\u001b[0m in \u001b[0;36mdecode\u001b[0;34m(self, input, final)\u001b[0m\n\u001b[1;32m    320\u001b[0m         \u001b[0;31m# decode input (taking the buffer into account)\u001b[0m\u001b[0;34m\u001b[0m\u001b[0;34m\u001b[0m\u001b[0;34m\u001b[0m\u001b[0m\n\u001b[1;32m    321\u001b[0m         \u001b[0mdata\u001b[0m \u001b[0;34m=\u001b[0m \u001b[0mself\u001b[0m\u001b[0;34m.\u001b[0m\u001b[0mbuffer\u001b[0m \u001b[0;34m+\u001b[0m \u001b[0minput\u001b[0m\u001b[0;34m\u001b[0m\u001b[0;34m\u001b[0m\u001b[0m\n\u001b[0;32m--> 322\u001b[0;31m         \u001b[0;34m(\u001b[0m\u001b[0mresult\u001b[0m\u001b[0;34m,\u001b[0m \u001b[0mconsumed\u001b[0m\u001b[0;34m)\u001b[0m \u001b[0;34m=\u001b[0m \u001b[0mself\u001b[0m\u001b[0;34m.\u001b[0m\u001b[0m_buffer_decode\u001b[0m\u001b[0;34m(\u001b[0m\u001b[0mdata\u001b[0m\u001b[0;34m,\u001b[0m \u001b[0mself\u001b[0m\u001b[0;34m.\u001b[0m\u001b[0merrors\u001b[0m\u001b[0;34m,\u001b[0m \u001b[0mfinal\u001b[0m\u001b[0;34m)\u001b[0m\u001b[0;34m\u001b[0m\u001b[0;34m\u001b[0m\u001b[0m\n\u001b[0m\u001b[1;32m    323\u001b[0m         \u001b[0;31m# keep undecoded input until the next call\u001b[0m\u001b[0;34m\u001b[0m\u001b[0;34m\u001b[0m\u001b[0;34m\u001b[0m\u001b[0m\n\u001b[1;32m    324\u001b[0m         \u001b[0mself\u001b[0m\u001b[0;34m.\u001b[0m\u001b[0mbuffer\u001b[0m \u001b[0;34m=\u001b[0m \u001b[0mdata\u001b[0m\u001b[0;34m[\u001b[0m\u001b[0mconsumed\u001b[0m\u001b[0;34m:\u001b[0m\u001b[0;34m]\u001b[0m\u001b[0;34m\u001b[0m\u001b[0;34m\u001b[0m\u001b[0m\n",
            "\u001b[0;31mUnicodeDecodeError\u001b[0m: 'utf-8' codec can't decode byte 0xed in position 20: invalid continuation byte"
          ]
        }
      ]
    },
    {
      "cell_type": "markdown",
      "source": [
        "Podemos ver que se produce un error al intentar leer el fichero, esto se debe a que por defecto Python intenta leer el fichero con codificación UTF-8, y este no es el caso. Por lo que si queremos leer el fichero creado previamente, debemos indicar la codificación."
      ],
      "metadata": {
        "id": "qC1h411O4GaC"
      }
    },
    {
      "cell_type": "code",
      "source": [
        "with open(\"prueba3.txt\",encoding=\"latin2\") as fichero:\n",
        "  textoCompleto = fichero.read()\n",
        "  \n",
        "print(textoCompleto)"
      ],
      "metadata": {
        "colab": {
          "base_uri": "https://localhost:8080/"
        },
        "id": "cY4JZfRf4BkT",
        "outputId": "3f7a7564-3b04-473f-f34a-6f2d0f547d74"
      },
      "execution_count": 16,
      "outputs": [
        {
          "output_type": "stream",
          "name": "stdout",
          "text": [
            "Esta es la primera línea\n",
            "Vamos por la segunda\n",
            "La tercera ya llegó\n",
            "Y finalizamos con la cuarta\n",
            "\n"
          ]
        }
      ]
    },
    {
      "cell_type": "markdown",
      "source": [
        "## Manipulando datos tabulares\n",
        "\n",
        "Los datos normalmente están almacenados en forma de tablas (por ejemplo, ficheros Excel o ficheros CSV). La manera más sencilla de cargar estos datos en Python es mediante la librería [pandas](https://pandas.pydata.org/).\n",
        "\n",
        "Vamos a ver cómo se trabaja con esta librería, para lo cual lo primero que vamos a hacer es descargar dos ficheros.\n",
        "\n"
      ],
      "metadata": {
        "id": "fV52ZRUe40jW"
      }
    },
    {
      "cell_type": "code",
      "source": [
        "!wget https://raw.githubusercontent.com/v4py/v4py.github.io/source/src/data/frequencies_intensifiers.csv -O frequencies_intensifiers.csv\n",
        "!wget https://raw.githubusercontent.com/v4py/v4py.github.io/source/src/data/concordance_corpus.xlsx -O concordance_corpus.xlsx"
      ],
      "metadata": {
        "colab": {
          "base_uri": "https://localhost:8080/"
        },
        "id": "eKSGW_aq4ZHt",
        "outputId": "d88f9098-16b1-41aa-8c1a-5879063f2047"
      },
      "execution_count": 17,
      "outputs": [
        {
          "output_type": "stream",
          "name": "stdout",
          "text": [
            "--2022-09-19 09:03:11--  https://raw.githubusercontent.com/v4py/v4py.github.io/source/src/data/frequencies_intensifiers.csv\n",
            "Resolving raw.githubusercontent.com (raw.githubusercontent.com)... 185.199.108.133, 185.199.109.133, 185.199.110.133, ...\n",
            "Connecting to raw.githubusercontent.com (raw.githubusercontent.com)|185.199.108.133|:443... connected.\n",
            "HTTP request sent, awaiting response... 200 OK\n",
            "Length: 104596 (102K) [text/plain]\n",
            "Saving to: ‘frequencies_intensifiers.csv’\n",
            "\n",
            "\r          frequenci   0%[                    ]       0  --.-KB/s               \rfrequencies_intensi 100%[===================>] 102.14K  --.-KB/s    in 0.01s   \n",
            "\n",
            "2022-09-19 09:03:11 (8.18 MB/s) - ‘frequencies_intensifiers.csv’ saved [104596/104596]\n",
            "\n",
            "--2022-09-19 09:03:11--  https://raw.githubusercontent.com/v4py/v4py.github.io/source/src/data/concordance_corpus.xlsx\n",
            "Resolving raw.githubusercontent.com (raw.githubusercontent.com)... 185.199.108.133, 185.199.109.133, 185.199.110.133, ...\n",
            "Connecting to raw.githubusercontent.com (raw.githubusercontent.com)|185.199.108.133|:443... connected.\n",
            "HTTP request sent, awaiting response... 200 OK\n",
            "Length: 62526 (61K) [application/octet-stream]\n",
            "Saving to: ‘concordance_corpus.xlsx’\n",
            "\n",
            "concordance_corpus. 100%[===================>]  61.06K  --.-KB/s    in 0.006s  \n",
            "\n",
            "2022-09-19 09:03:12 (9.22 MB/s) - ‘concordance_corpus.xlsx’ saved [62526/62526]\n",
            "\n"
          ]
        }
      ]
    },
    {
      "cell_type": "markdown",
      "source": [
        "Ahora vamos a cargar la librería pandas. Normalmente, para llamar a los métodos de esta librería se utiliza el acrónimo `pd`, para lo cual hay que cargar la librería del siguiente modo."
      ],
      "metadata": {
        "id": "fnw-iOJc_Pcm"
      }
    },
    {
      "cell_type": "code",
      "source": [
        "import pandas as pd"
      ],
      "metadata": {
        "id": "HcUlFiW6_LWY"
      },
      "execution_count": 18,
      "outputs": []
    },
    {
      "cell_type": "markdown",
      "source": [
        "Ahora ya podemos cargar las tablas en Python, o utilizando el término de pandas, los `DataFrames`. Empezamos cargando el archivo excel mediante el método `read_excel`."
      ],
      "metadata": {
        "id": "Bn40kOQG_bV4"
      }
    },
    {
      "cell_type": "code",
      "source": [
        "df = pd.read_excel(\"concordance_corpus.xlsx\")"
      ],
      "metadata": {
        "id": "bBMxqrXJ_Zk-"
      },
      "execution_count": 19,
      "outputs": []
    },
    {
      "cell_type": "code",
      "source": [
        "type(df)"
      ],
      "metadata": {
        "colab": {
          "base_uri": "https://localhost:8080/"
        },
        "id": "pC2GtxV1_wro",
        "outputId": "bfc93078-1c88-470d-b4ac-70ca898d351a"
      },
      "execution_count": 20,
      "outputs": [
        {
          "output_type": "execute_result",
          "data": {
            "text/plain": [
              "pandas.core.frame.DataFrame"
            ]
          },
          "metadata": {},
          "execution_count": 20
        }
      ]
    },
    {
      "cell_type": "markdown",
      "source": [
        "Podemos mostrar el contenido de la variable `df`."
      ],
      "metadata": {
        "id": "9bXAjfG5_yxS"
      }
    },
    {
      "cell_type": "code",
      "source": [
        "df"
      ],
      "metadata": {
        "colab": {
          "base_uri": "https://localhost:8080/",
          "height": 424
        },
        "id": "Ei6dHY0d_xs4",
        "outputId": "4f1b454a-d932-422e-e432-9eeea098408f"
      },
      "execution_count": 21,
      "outputs": [
        {
          "output_type": "execute_result",
          "data": {
            "text/plain": [
              "               newadvent.org  \\\n",
              "0              newadvent.org   \n",
              "1              newadvent.org   \n",
              "2           freerepublic.com   \n",
              "3             hinduism.co.za   \n",
              "4               lg-legal.com   \n",
              "..                       ...   \n",
              "848       blogs.ulster.ac.uk   \n",
              "849         ginnysaustin.com   \n",
              "850  patriotsquestion911.com   \n",
              "851  biblicalarchaeology.org   \n",
              "852      rrojasdatabank.info   \n",
              "\n",
              "    by Theodor Mommsen , undertook its monumental publication , the  \\\n",
              "0    Mommsen . The latter 's numerous collaborators...                \n",
              "1    ) , concerning the preparatory work for the ab...                \n",
              "2      , or arrest the MD assembly , or suspend habeus                \n",
              "3    corporeal being in the fullness of time , assu...                \n",
              "4    relation to the takeover offer announced today...                \n",
              "..                                                 ...                \n",
              "848  University . For example , Corpus Christi Coll...                \n",
              "849        set by a youth cutting my teeth on tacos in                \n",
              "850  of the Geneva Conventions , and the repeal of ...                \n",
              "851  Keel recently pointed out , even in the highly...                \n",
              "852  developing ones , were interpreted through the...                \n",
              "\n",
              "       Corpus/Corpus/NP  \\\n",
              "0      Corpus/Corpus/NP   \n",
              "1      Corpus/Corpus/NP   \n",
              "2      corpus/corpus/NN   \n",
              "3      corpus/corpus/NN   \n",
              "4    Corpora/corpus/NNS   \n",
              "..                  ...   \n",
              "848    Corpus/Corpus/NP   \n",
              "849    Corpus/Corpus/NP   \n",
              "850    corpus/corpus/NN   \n",
              "851    Corpus/Corpus/NP   \n",
              "852    corpus/corpus/NN   \n",
              "\n",
              "    Inscriptionum Latinarum \" , it sent a flattering letter to  \n",
              "0    \" , among them Edwin Bormann , the noted autho...          \n",
              "1    Inscriptionum \" , which appeared in the monthl...          \n",
              "2    , or invade sovereign states . ​He​ ​did​ ​n't...          \n",
              "3          . It arises and perishes in due order . And          \n",
              "4     valuing Archipelago at £ 340 m. 27 Sep 2013 MORE          \n",
              "..                                                 ...          \n",
              "848            Irish Missal , 12 th century ( MS 282 )          \n",
              "849                  Christi ( RIP Elva ’s ) . Now , I          \n",
              "850    ( a fundamental point of law that has been with          \n",
              "851  of West Semitic Stamp Seals published by Nahma...          \n",
              "852  of knowledge recognized as Keynesian economics...          \n",
              "\n",
              "[853 rows x 4 columns]"
            ],
            "text/html": [
              "\n",
              "  <div id=\"df-31f89235-7227-448d-b7d3-389b552a8960\">\n",
              "    <div class=\"colab-df-container\">\n",
              "      <div>\n",
              "<style scoped>\n",
              "    .dataframe tbody tr th:only-of-type {\n",
              "        vertical-align: middle;\n",
              "    }\n",
              "\n",
              "    .dataframe tbody tr th {\n",
              "        vertical-align: top;\n",
              "    }\n",
              "\n",
              "    .dataframe thead th {\n",
              "        text-align: right;\n",
              "    }\n",
              "</style>\n",
              "<table border=\"1\" class=\"dataframe\">\n",
              "  <thead>\n",
              "    <tr style=\"text-align: right;\">\n",
              "      <th></th>\n",
              "      <th>newadvent.org</th>\n",
              "      <th>by Theodor Mommsen , undertook its monumental publication , the</th>\n",
              "      <th>Corpus/Corpus/NP</th>\n",
              "      <th>Inscriptionum Latinarum \" , it sent a flattering letter to</th>\n",
              "    </tr>\n",
              "  </thead>\n",
              "  <tbody>\n",
              "    <tr>\n",
              "      <th>0</th>\n",
              "      <td>newadvent.org</td>\n",
              "      <td>Mommsen . The latter 's numerous collaborators...</td>\n",
              "      <td>Corpus/Corpus/NP</td>\n",
              "      <td>\" , among them Edwin Bormann , the noted autho...</td>\n",
              "    </tr>\n",
              "    <tr>\n",
              "      <th>1</th>\n",
              "      <td>newadvent.org</td>\n",
              "      <td>) , concerning the preparatory work for the ab...</td>\n",
              "      <td>Corpus/Corpus/NP</td>\n",
              "      <td>Inscriptionum \" , which appeared in the monthl...</td>\n",
              "    </tr>\n",
              "    <tr>\n",
              "      <th>2</th>\n",
              "      <td>freerepublic.com</td>\n",
              "      <td>, or arrest the MD assembly , or suspend habeus</td>\n",
              "      <td>corpus/corpus/NN</td>\n",
              "      <td>, or invade sovereign states . ​He​ ​did​ ​n't...</td>\n",
              "    </tr>\n",
              "    <tr>\n",
              "      <th>3</th>\n",
              "      <td>hinduism.co.za</td>\n",
              "      <td>corporeal being in the fullness of time , assu...</td>\n",
              "      <td>corpus/corpus/NN</td>\n",
              "      <td>. It arises and perishes in due order . And</td>\n",
              "    </tr>\n",
              "    <tr>\n",
              "      <th>4</th>\n",
              "      <td>lg-legal.com</td>\n",
              "      <td>relation to the takeover offer announced today...</td>\n",
              "      <td>Corpora/corpus/NNS</td>\n",
              "      <td>valuing Archipelago at £ 340 m. 27 Sep 2013 MORE</td>\n",
              "    </tr>\n",
              "    <tr>\n",
              "      <th>...</th>\n",
              "      <td>...</td>\n",
              "      <td>...</td>\n",
              "      <td>...</td>\n",
              "      <td>...</td>\n",
              "    </tr>\n",
              "    <tr>\n",
              "      <th>848</th>\n",
              "      <td>blogs.ulster.ac.uk</td>\n",
              "      <td>University . For example , Corpus Christi Coll...</td>\n",
              "      <td>Corpus/Corpus/NP</td>\n",
              "      <td>Irish Missal , 12 th century ( MS 282 )</td>\n",
              "    </tr>\n",
              "    <tr>\n",
              "      <th>849</th>\n",
              "      <td>ginnysaustin.com</td>\n",
              "      <td>set by a youth cutting my teeth on tacos in</td>\n",
              "      <td>Corpus/Corpus/NP</td>\n",
              "      <td>Christi ( RIP Elva ’s ) . Now , I</td>\n",
              "    </tr>\n",
              "    <tr>\n",
              "      <th>850</th>\n",
              "      <td>patriotsquestion911.com</td>\n",
              "      <td>of the Geneva Conventions , and the repeal of ...</td>\n",
              "      <td>corpus/corpus/NN</td>\n",
              "      <td>( a fundamental point of law that has been with</td>\n",
              "    </tr>\n",
              "    <tr>\n",
              "      <th>851</th>\n",
              "      <td>biblicalarchaeology.org</td>\n",
              "      <td>Keel recently pointed out , even in the highly...</td>\n",
              "      <td>Corpus/Corpus/NP</td>\n",
              "      <td>of West Semitic Stamp Seals published by Nahma...</td>\n",
              "    </tr>\n",
              "    <tr>\n",
              "      <th>852</th>\n",
              "      <td>rrojasdatabank.info</td>\n",
              "      <td>developing ones , were interpreted through the...</td>\n",
              "      <td>corpus/corpus/NN</td>\n",
              "      <td>of knowledge recognized as Keynesian economics...</td>\n",
              "    </tr>\n",
              "  </tbody>\n",
              "</table>\n",
              "<p>853 rows × 4 columns</p>\n",
              "</div>\n",
              "      <button class=\"colab-df-convert\" onclick=\"convertToInteractive('df-31f89235-7227-448d-b7d3-389b552a8960')\"\n",
              "              title=\"Convert this dataframe to an interactive table.\"\n",
              "              style=\"display:none;\">\n",
              "        \n",
              "  <svg xmlns=\"http://www.w3.org/2000/svg\" height=\"24px\"viewBox=\"0 0 24 24\"\n",
              "       width=\"24px\">\n",
              "    <path d=\"M0 0h24v24H0V0z\" fill=\"none\"/>\n",
              "    <path d=\"M18.56 5.44l.94 2.06.94-2.06 2.06-.94-2.06-.94-.94-2.06-.94 2.06-2.06.94zm-11 1L8.5 8.5l.94-2.06 2.06-.94-2.06-.94L8.5 2.5l-.94 2.06-2.06.94zm10 10l.94 2.06.94-2.06 2.06-.94-2.06-.94-.94-2.06-.94 2.06-2.06.94z\"/><path d=\"M17.41 7.96l-1.37-1.37c-.4-.4-.92-.59-1.43-.59-.52 0-1.04.2-1.43.59L10.3 9.45l-7.72 7.72c-.78.78-.78 2.05 0 2.83L4 21.41c.39.39.9.59 1.41.59.51 0 1.02-.2 1.41-.59l7.78-7.78 2.81-2.81c.8-.78.8-2.07 0-2.86zM5.41 20L4 18.59l7.72-7.72 1.47 1.35L5.41 20z\"/>\n",
              "  </svg>\n",
              "      </button>\n",
              "      \n",
              "  <style>\n",
              "    .colab-df-container {\n",
              "      display:flex;\n",
              "      flex-wrap:wrap;\n",
              "      gap: 12px;\n",
              "    }\n",
              "\n",
              "    .colab-df-convert {\n",
              "      background-color: #E8F0FE;\n",
              "      border: none;\n",
              "      border-radius: 50%;\n",
              "      cursor: pointer;\n",
              "      display: none;\n",
              "      fill: #1967D2;\n",
              "      height: 32px;\n",
              "      padding: 0 0 0 0;\n",
              "      width: 32px;\n",
              "    }\n",
              "\n",
              "    .colab-df-convert:hover {\n",
              "      background-color: #E2EBFA;\n",
              "      box-shadow: 0px 1px 2px rgba(60, 64, 67, 0.3), 0px 1px 3px 1px rgba(60, 64, 67, 0.15);\n",
              "      fill: #174EA6;\n",
              "    }\n",
              "\n",
              "    [theme=dark] .colab-df-convert {\n",
              "      background-color: #3B4455;\n",
              "      fill: #D2E3FC;\n",
              "    }\n",
              "\n",
              "    [theme=dark] .colab-df-convert:hover {\n",
              "      background-color: #434B5C;\n",
              "      box-shadow: 0px 1px 3px 1px rgba(0, 0, 0, 0.15);\n",
              "      filter: drop-shadow(0px 1px 2px rgba(0, 0, 0, 0.3));\n",
              "      fill: #FFFFFF;\n",
              "    }\n",
              "  </style>\n",
              "\n",
              "      <script>\n",
              "        const buttonEl =\n",
              "          document.querySelector('#df-31f89235-7227-448d-b7d3-389b552a8960 button.colab-df-convert');\n",
              "        buttonEl.style.display =\n",
              "          google.colab.kernel.accessAllowed ? 'block' : 'none';\n",
              "\n",
              "        async function convertToInteractive(key) {\n",
              "          const element = document.querySelector('#df-31f89235-7227-448d-b7d3-389b552a8960');\n",
              "          const dataTable =\n",
              "            await google.colab.kernel.invokeFunction('convertToInteractive',\n",
              "                                                     [key], {});\n",
              "          if (!dataTable) return;\n",
              "\n",
              "          const docLinkHtml = 'Like what you see? Visit the ' +\n",
              "            '<a target=\"_blank\" href=https://colab.research.google.com/notebooks/data_table.ipynb>data table notebook</a>'\n",
              "            + ' to learn more about interactive tables.';\n",
              "          element.innerHTML = '';\n",
              "          dataTable['output_type'] = 'display_data';\n",
              "          await google.colab.output.renderOutput(dataTable, element);\n",
              "          const docLink = document.createElement('div');\n",
              "          docLink.innerHTML = docLinkHtml;\n",
              "          element.appendChild(docLink);\n",
              "        }\n",
              "      </script>\n",
              "    </div>\n",
              "  </div>\n",
              "  "
            ]
          },
          "metadata": {},
          "execution_count": 21
        }
      ]
    },
    {
      "cell_type": "markdown",
      "source": [
        "Podemos ver que al cargar los datos anteriores, ha usado la primera fila como cabecera; sin embargo, nuestro fichero no tiene cabecera, por lo que debemos indicar que el atributo `header` está vacío. "
      ],
      "metadata": {
        "id": "pBLFA3F0_3Hp"
      }
    },
    {
      "cell_type": "code",
      "source": [
        "df = pd.read_excel(\"concordance_corpus.xlsx\", header=None)\n",
        "df"
      ],
      "metadata": {
        "colab": {
          "base_uri": "https://localhost:8080/",
          "height": 655
        },
        "id": "wXZBOfCp_1Xr",
        "outputId": "a00cce22-dbc5-4ca7-e7ac-267b73ae5c16"
      },
      "execution_count": 22,
      "outputs": [
        {
          "output_type": "execute_result",
          "data": {
            "text/plain": [
              "                           0  \\\n",
              "0              newadvent.org   \n",
              "1              newadvent.org   \n",
              "2              newadvent.org   \n",
              "3           freerepublic.com   \n",
              "4             hinduism.co.za   \n",
              "..                       ...   \n",
              "849       blogs.ulster.ac.uk   \n",
              "850         ginnysaustin.com   \n",
              "851  patriotsquestion911.com   \n",
              "852  biblicalarchaeology.org   \n",
              "853      rrojasdatabank.info   \n",
              "\n",
              "                                                     1                 2  \\\n",
              "0    by Theodor Mommsen , undertook its monumental ...  Corpus/Corpus/NP   \n",
              "1    Mommsen . The latter 's numerous collaborators...  Corpus/Corpus/NP   \n",
              "2    ) , concerning the preparatory work for the ab...  Corpus/Corpus/NP   \n",
              "3      , or arrest the MD assembly , or suspend habeus  corpus/corpus/NN   \n",
              "4    corporeal being in the fullness of time , assu...  corpus/corpus/NN   \n",
              "..                                                 ...               ...   \n",
              "849  University . For example , Corpus Christi Coll...  Corpus/Corpus/NP   \n",
              "850        set by a youth cutting my teeth on tacos in  Corpus/Corpus/NP   \n",
              "851  of the Geneva Conventions , and the repeal of ...  corpus/corpus/NN   \n",
              "852  Keel recently pointed out , even in the highly...  Corpus/Corpus/NP   \n",
              "853  developing ones , were interpreted through the...  corpus/corpus/NN   \n",
              "\n",
              "                                                     3  \n",
              "0    Inscriptionum Latinarum \" , it sent a flatteri...  \n",
              "1    \" , among them Edwin Bormann , the noted autho...  \n",
              "2    Inscriptionum \" , which appeared in the monthl...  \n",
              "3    , or invade sovereign states . ​He​ ​did​ ​n't...  \n",
              "4          . It arises and perishes in due order . And  \n",
              "..                                                 ...  \n",
              "849            Irish Missal , 12 th century ( MS 282 )  \n",
              "850                  Christi ( RIP Elva ’s ) . Now , I  \n",
              "851    ( a fundamental point of law that has been with  \n",
              "852  of West Semitic Stamp Seals published by Nahma...  \n",
              "853  of knowledge recognized as Keynesian economics...  \n",
              "\n",
              "[854 rows x 4 columns]"
            ],
            "text/html": [
              "\n",
              "  <div id=\"df-0d07e554-c7ec-4da3-8d25-4e58cb879ea0\">\n",
              "    <div class=\"colab-df-container\">\n",
              "      <div>\n",
              "<style scoped>\n",
              "    .dataframe tbody tr th:only-of-type {\n",
              "        vertical-align: middle;\n",
              "    }\n",
              "\n",
              "    .dataframe tbody tr th {\n",
              "        vertical-align: top;\n",
              "    }\n",
              "\n",
              "    .dataframe thead th {\n",
              "        text-align: right;\n",
              "    }\n",
              "</style>\n",
              "<table border=\"1\" class=\"dataframe\">\n",
              "  <thead>\n",
              "    <tr style=\"text-align: right;\">\n",
              "      <th></th>\n",
              "      <th>0</th>\n",
              "      <th>1</th>\n",
              "      <th>2</th>\n",
              "      <th>3</th>\n",
              "    </tr>\n",
              "  </thead>\n",
              "  <tbody>\n",
              "    <tr>\n",
              "      <th>0</th>\n",
              "      <td>newadvent.org</td>\n",
              "      <td>by Theodor Mommsen , undertook its monumental ...</td>\n",
              "      <td>Corpus/Corpus/NP</td>\n",
              "      <td>Inscriptionum Latinarum \" , it sent a flatteri...</td>\n",
              "    </tr>\n",
              "    <tr>\n",
              "      <th>1</th>\n",
              "      <td>newadvent.org</td>\n",
              "      <td>Mommsen . The latter 's numerous collaborators...</td>\n",
              "      <td>Corpus/Corpus/NP</td>\n",
              "      <td>\" , among them Edwin Bormann , the noted autho...</td>\n",
              "    </tr>\n",
              "    <tr>\n",
              "      <th>2</th>\n",
              "      <td>newadvent.org</td>\n",
              "      <td>) , concerning the preparatory work for the ab...</td>\n",
              "      <td>Corpus/Corpus/NP</td>\n",
              "      <td>Inscriptionum \" , which appeared in the monthl...</td>\n",
              "    </tr>\n",
              "    <tr>\n",
              "      <th>3</th>\n",
              "      <td>freerepublic.com</td>\n",
              "      <td>, or arrest the MD assembly , or suspend habeus</td>\n",
              "      <td>corpus/corpus/NN</td>\n",
              "      <td>, or invade sovereign states . ​He​ ​did​ ​n't...</td>\n",
              "    </tr>\n",
              "    <tr>\n",
              "      <th>4</th>\n",
              "      <td>hinduism.co.za</td>\n",
              "      <td>corporeal being in the fullness of time , assu...</td>\n",
              "      <td>corpus/corpus/NN</td>\n",
              "      <td>. It arises and perishes in due order . And</td>\n",
              "    </tr>\n",
              "    <tr>\n",
              "      <th>...</th>\n",
              "      <td>...</td>\n",
              "      <td>...</td>\n",
              "      <td>...</td>\n",
              "      <td>...</td>\n",
              "    </tr>\n",
              "    <tr>\n",
              "      <th>849</th>\n",
              "      <td>blogs.ulster.ac.uk</td>\n",
              "      <td>University . For example , Corpus Christi Coll...</td>\n",
              "      <td>Corpus/Corpus/NP</td>\n",
              "      <td>Irish Missal , 12 th century ( MS 282 )</td>\n",
              "    </tr>\n",
              "    <tr>\n",
              "      <th>850</th>\n",
              "      <td>ginnysaustin.com</td>\n",
              "      <td>set by a youth cutting my teeth on tacos in</td>\n",
              "      <td>Corpus/Corpus/NP</td>\n",
              "      <td>Christi ( RIP Elva ’s ) . Now , I</td>\n",
              "    </tr>\n",
              "    <tr>\n",
              "      <th>851</th>\n",
              "      <td>patriotsquestion911.com</td>\n",
              "      <td>of the Geneva Conventions , and the repeal of ...</td>\n",
              "      <td>corpus/corpus/NN</td>\n",
              "      <td>( a fundamental point of law that has been with</td>\n",
              "    </tr>\n",
              "    <tr>\n",
              "      <th>852</th>\n",
              "      <td>biblicalarchaeology.org</td>\n",
              "      <td>Keel recently pointed out , even in the highly...</td>\n",
              "      <td>Corpus/Corpus/NP</td>\n",
              "      <td>of West Semitic Stamp Seals published by Nahma...</td>\n",
              "    </tr>\n",
              "    <tr>\n",
              "      <th>853</th>\n",
              "      <td>rrojasdatabank.info</td>\n",
              "      <td>developing ones , were interpreted through the...</td>\n",
              "      <td>corpus/corpus/NN</td>\n",
              "      <td>of knowledge recognized as Keynesian economics...</td>\n",
              "    </tr>\n",
              "  </tbody>\n",
              "</table>\n",
              "<p>854 rows × 4 columns</p>\n",
              "</div>\n",
              "      <button class=\"colab-df-convert\" onclick=\"convertToInteractive('df-0d07e554-c7ec-4da3-8d25-4e58cb879ea0')\"\n",
              "              title=\"Convert this dataframe to an interactive table.\"\n",
              "              style=\"display:none;\">\n",
              "        \n",
              "  <svg xmlns=\"http://www.w3.org/2000/svg\" height=\"24px\"viewBox=\"0 0 24 24\"\n",
              "       width=\"24px\">\n",
              "    <path d=\"M0 0h24v24H0V0z\" fill=\"none\"/>\n",
              "    <path d=\"M18.56 5.44l.94 2.06.94-2.06 2.06-.94-2.06-.94-.94-2.06-.94 2.06-2.06.94zm-11 1L8.5 8.5l.94-2.06 2.06-.94-2.06-.94L8.5 2.5l-.94 2.06-2.06.94zm10 10l.94 2.06.94-2.06 2.06-.94-2.06-.94-.94-2.06-.94 2.06-2.06.94z\"/><path d=\"M17.41 7.96l-1.37-1.37c-.4-.4-.92-.59-1.43-.59-.52 0-1.04.2-1.43.59L10.3 9.45l-7.72 7.72c-.78.78-.78 2.05 0 2.83L4 21.41c.39.39.9.59 1.41.59.51 0 1.02-.2 1.41-.59l7.78-7.78 2.81-2.81c.8-.78.8-2.07 0-2.86zM5.41 20L4 18.59l7.72-7.72 1.47 1.35L5.41 20z\"/>\n",
              "  </svg>\n",
              "      </button>\n",
              "      \n",
              "  <style>\n",
              "    .colab-df-container {\n",
              "      display:flex;\n",
              "      flex-wrap:wrap;\n",
              "      gap: 12px;\n",
              "    }\n",
              "\n",
              "    .colab-df-convert {\n",
              "      background-color: #E8F0FE;\n",
              "      border: none;\n",
              "      border-radius: 50%;\n",
              "      cursor: pointer;\n",
              "      display: none;\n",
              "      fill: #1967D2;\n",
              "      height: 32px;\n",
              "      padding: 0 0 0 0;\n",
              "      width: 32px;\n",
              "    }\n",
              "\n",
              "    .colab-df-convert:hover {\n",
              "      background-color: #E2EBFA;\n",
              "      box-shadow: 0px 1px 2px rgba(60, 64, 67, 0.3), 0px 1px 3px 1px rgba(60, 64, 67, 0.15);\n",
              "      fill: #174EA6;\n",
              "    }\n",
              "\n",
              "    [theme=dark] .colab-df-convert {\n",
              "      background-color: #3B4455;\n",
              "      fill: #D2E3FC;\n",
              "    }\n",
              "\n",
              "    [theme=dark] .colab-df-convert:hover {\n",
              "      background-color: #434B5C;\n",
              "      box-shadow: 0px 1px 3px 1px rgba(0, 0, 0, 0.15);\n",
              "      filter: drop-shadow(0px 1px 2px rgba(0, 0, 0, 0.3));\n",
              "      fill: #FFFFFF;\n",
              "    }\n",
              "  </style>\n",
              "\n",
              "      <script>\n",
              "        const buttonEl =\n",
              "          document.querySelector('#df-0d07e554-c7ec-4da3-8d25-4e58cb879ea0 button.colab-df-convert');\n",
              "        buttonEl.style.display =\n",
              "          google.colab.kernel.accessAllowed ? 'block' : 'none';\n",
              "\n",
              "        async function convertToInteractive(key) {\n",
              "          const element = document.querySelector('#df-0d07e554-c7ec-4da3-8d25-4e58cb879ea0');\n",
              "          const dataTable =\n",
              "            await google.colab.kernel.invokeFunction('convertToInteractive',\n",
              "                                                     [key], {});\n",
              "          if (!dataTable) return;\n",
              "\n",
              "          const docLinkHtml = 'Like what you see? Visit the ' +\n",
              "            '<a target=\"_blank\" href=https://colab.research.google.com/notebooks/data_table.ipynb>data table notebook</a>'\n",
              "            + ' to learn more about interactive tables.';\n",
              "          element.innerHTML = '';\n",
              "          dataTable['output_type'] = 'display_data';\n",
              "          await google.colab.output.renderOutput(dataTable, element);\n",
              "          const docLink = document.createElement('div');\n",
              "          docLink.innerHTML = docLinkHtml;\n",
              "          element.appendChild(docLink);\n",
              "        }\n",
              "      </script>\n",
              "    </div>\n",
              "  </div>\n",
              "  "
            ]
          },
          "metadata": {},
          "execution_count": 22
        }
      ]
    },
    {
      "cell_type": "markdown",
      "source": [
        "Para poder interactuar con las columnas, es conveniente asignarles un nombre. Esto lo hacemos a través del atributo `names` del método `read_excel`. "
      ],
      "metadata": {
        "id": "tZMBFKLQAXNr"
      }
    },
    {
      "cell_type": "code",
      "source": [
        "df = pd.read_excel(\"concordance_corpus.xlsx\", header=None, \n",
        "    names=[\"domain\", \"left\", \"kwic\", \"right\"])\n",
        "df"
      ],
      "metadata": {
        "colab": {
          "base_uri": "https://localhost:8080/",
          "height": 424
        },
        "id": "csAE3gtbAGMG",
        "outputId": "5580b139-1c1d-45ba-a439-91efc83036c9"
      },
      "execution_count": 24,
      "outputs": [
        {
          "output_type": "execute_result",
          "data": {
            "text/plain": [
              "                      domain  \\\n",
              "0              newadvent.org   \n",
              "1              newadvent.org   \n",
              "2              newadvent.org   \n",
              "3           freerepublic.com   \n",
              "4             hinduism.co.za   \n",
              "..                       ...   \n",
              "849       blogs.ulster.ac.uk   \n",
              "850         ginnysaustin.com   \n",
              "851  patriotsquestion911.com   \n",
              "852  biblicalarchaeology.org   \n",
              "853      rrojasdatabank.info   \n",
              "\n",
              "                                                  left              kwic  \\\n",
              "0    by Theodor Mommsen , undertook its monumental ...  Corpus/Corpus/NP   \n",
              "1    Mommsen . The latter 's numerous collaborators...  Corpus/Corpus/NP   \n",
              "2    ) , concerning the preparatory work for the ab...  Corpus/Corpus/NP   \n",
              "3      , or arrest the MD assembly , or suspend habeus  corpus/corpus/NN   \n",
              "4    corporeal being in the fullness of time , assu...  corpus/corpus/NN   \n",
              "..                                                 ...               ...   \n",
              "849  University . For example , Corpus Christi Coll...  Corpus/Corpus/NP   \n",
              "850        set by a youth cutting my teeth on tacos in  Corpus/Corpus/NP   \n",
              "851  of the Geneva Conventions , and the repeal of ...  corpus/corpus/NN   \n",
              "852  Keel recently pointed out , even in the highly...  Corpus/Corpus/NP   \n",
              "853  developing ones , were interpreted through the...  corpus/corpus/NN   \n",
              "\n",
              "                                                 right  \n",
              "0    Inscriptionum Latinarum \" , it sent a flatteri...  \n",
              "1    \" , among them Edwin Bormann , the noted autho...  \n",
              "2    Inscriptionum \" , which appeared in the monthl...  \n",
              "3    , or invade sovereign states . ​He​ ​did​ ​n't...  \n",
              "4          . It arises and perishes in due order . And  \n",
              "..                                                 ...  \n",
              "849            Irish Missal , 12 th century ( MS 282 )  \n",
              "850                  Christi ( RIP Elva ’s ) . Now , I  \n",
              "851    ( a fundamental point of law that has been with  \n",
              "852  of West Semitic Stamp Seals published by Nahma...  \n",
              "853  of knowledge recognized as Keynesian economics...  \n",
              "\n",
              "[854 rows x 4 columns]"
            ],
            "text/html": [
              "\n",
              "  <div id=\"df-d1b38f92-32a7-474b-a7c0-dbdbf9bb4ea8\">\n",
              "    <div class=\"colab-df-container\">\n",
              "      <div>\n",
              "<style scoped>\n",
              "    .dataframe tbody tr th:only-of-type {\n",
              "        vertical-align: middle;\n",
              "    }\n",
              "\n",
              "    .dataframe tbody tr th {\n",
              "        vertical-align: top;\n",
              "    }\n",
              "\n",
              "    .dataframe thead th {\n",
              "        text-align: right;\n",
              "    }\n",
              "</style>\n",
              "<table border=\"1\" class=\"dataframe\">\n",
              "  <thead>\n",
              "    <tr style=\"text-align: right;\">\n",
              "      <th></th>\n",
              "      <th>domain</th>\n",
              "      <th>left</th>\n",
              "      <th>kwic</th>\n",
              "      <th>right</th>\n",
              "    </tr>\n",
              "  </thead>\n",
              "  <tbody>\n",
              "    <tr>\n",
              "      <th>0</th>\n",
              "      <td>newadvent.org</td>\n",
              "      <td>by Theodor Mommsen , undertook its monumental ...</td>\n",
              "      <td>Corpus/Corpus/NP</td>\n",
              "      <td>Inscriptionum Latinarum \" , it sent a flatteri...</td>\n",
              "    </tr>\n",
              "    <tr>\n",
              "      <th>1</th>\n",
              "      <td>newadvent.org</td>\n",
              "      <td>Mommsen . The latter 's numerous collaborators...</td>\n",
              "      <td>Corpus/Corpus/NP</td>\n",
              "      <td>\" , among them Edwin Bormann , the noted autho...</td>\n",
              "    </tr>\n",
              "    <tr>\n",
              "      <th>2</th>\n",
              "      <td>newadvent.org</td>\n",
              "      <td>) , concerning the preparatory work for the ab...</td>\n",
              "      <td>Corpus/Corpus/NP</td>\n",
              "      <td>Inscriptionum \" , which appeared in the monthl...</td>\n",
              "    </tr>\n",
              "    <tr>\n",
              "      <th>3</th>\n",
              "      <td>freerepublic.com</td>\n",
              "      <td>, or arrest the MD assembly , or suspend habeus</td>\n",
              "      <td>corpus/corpus/NN</td>\n",
              "      <td>, or invade sovereign states . ​He​ ​did​ ​n't...</td>\n",
              "    </tr>\n",
              "    <tr>\n",
              "      <th>4</th>\n",
              "      <td>hinduism.co.za</td>\n",
              "      <td>corporeal being in the fullness of time , assu...</td>\n",
              "      <td>corpus/corpus/NN</td>\n",
              "      <td>. It arises and perishes in due order . And</td>\n",
              "    </tr>\n",
              "    <tr>\n",
              "      <th>...</th>\n",
              "      <td>...</td>\n",
              "      <td>...</td>\n",
              "      <td>...</td>\n",
              "      <td>...</td>\n",
              "    </tr>\n",
              "    <tr>\n",
              "      <th>849</th>\n",
              "      <td>blogs.ulster.ac.uk</td>\n",
              "      <td>University . For example , Corpus Christi Coll...</td>\n",
              "      <td>Corpus/Corpus/NP</td>\n",
              "      <td>Irish Missal , 12 th century ( MS 282 )</td>\n",
              "    </tr>\n",
              "    <tr>\n",
              "      <th>850</th>\n",
              "      <td>ginnysaustin.com</td>\n",
              "      <td>set by a youth cutting my teeth on tacos in</td>\n",
              "      <td>Corpus/Corpus/NP</td>\n",
              "      <td>Christi ( RIP Elva ’s ) . Now , I</td>\n",
              "    </tr>\n",
              "    <tr>\n",
              "      <th>851</th>\n",
              "      <td>patriotsquestion911.com</td>\n",
              "      <td>of the Geneva Conventions , and the repeal of ...</td>\n",
              "      <td>corpus/corpus/NN</td>\n",
              "      <td>( a fundamental point of law that has been with</td>\n",
              "    </tr>\n",
              "    <tr>\n",
              "      <th>852</th>\n",
              "      <td>biblicalarchaeology.org</td>\n",
              "      <td>Keel recently pointed out , even in the highly...</td>\n",
              "      <td>Corpus/Corpus/NP</td>\n",
              "      <td>of West Semitic Stamp Seals published by Nahma...</td>\n",
              "    </tr>\n",
              "    <tr>\n",
              "      <th>853</th>\n",
              "      <td>rrojasdatabank.info</td>\n",
              "      <td>developing ones , were interpreted through the...</td>\n",
              "      <td>corpus/corpus/NN</td>\n",
              "      <td>of knowledge recognized as Keynesian economics...</td>\n",
              "    </tr>\n",
              "  </tbody>\n",
              "</table>\n",
              "<p>854 rows × 4 columns</p>\n",
              "</div>\n",
              "      <button class=\"colab-df-convert\" onclick=\"convertToInteractive('df-d1b38f92-32a7-474b-a7c0-dbdbf9bb4ea8')\"\n",
              "              title=\"Convert this dataframe to an interactive table.\"\n",
              "              style=\"display:none;\">\n",
              "        \n",
              "  <svg xmlns=\"http://www.w3.org/2000/svg\" height=\"24px\"viewBox=\"0 0 24 24\"\n",
              "       width=\"24px\">\n",
              "    <path d=\"M0 0h24v24H0V0z\" fill=\"none\"/>\n",
              "    <path d=\"M18.56 5.44l.94 2.06.94-2.06 2.06-.94-2.06-.94-.94-2.06-.94 2.06-2.06.94zm-11 1L8.5 8.5l.94-2.06 2.06-.94-2.06-.94L8.5 2.5l-.94 2.06-2.06.94zm10 10l.94 2.06.94-2.06 2.06-.94-2.06-.94-.94-2.06-.94 2.06-2.06.94z\"/><path d=\"M17.41 7.96l-1.37-1.37c-.4-.4-.92-.59-1.43-.59-.52 0-1.04.2-1.43.59L10.3 9.45l-7.72 7.72c-.78.78-.78 2.05 0 2.83L4 21.41c.39.39.9.59 1.41.59.51 0 1.02-.2 1.41-.59l7.78-7.78 2.81-2.81c.8-.78.8-2.07 0-2.86zM5.41 20L4 18.59l7.72-7.72 1.47 1.35L5.41 20z\"/>\n",
              "  </svg>\n",
              "      </button>\n",
              "      \n",
              "  <style>\n",
              "    .colab-df-container {\n",
              "      display:flex;\n",
              "      flex-wrap:wrap;\n",
              "      gap: 12px;\n",
              "    }\n",
              "\n",
              "    .colab-df-convert {\n",
              "      background-color: #E8F0FE;\n",
              "      border: none;\n",
              "      border-radius: 50%;\n",
              "      cursor: pointer;\n",
              "      display: none;\n",
              "      fill: #1967D2;\n",
              "      height: 32px;\n",
              "      padding: 0 0 0 0;\n",
              "      width: 32px;\n",
              "    }\n",
              "\n",
              "    .colab-df-convert:hover {\n",
              "      background-color: #E2EBFA;\n",
              "      box-shadow: 0px 1px 2px rgba(60, 64, 67, 0.3), 0px 1px 3px 1px rgba(60, 64, 67, 0.15);\n",
              "      fill: #174EA6;\n",
              "    }\n",
              "\n",
              "    [theme=dark] .colab-df-convert {\n",
              "      background-color: #3B4455;\n",
              "      fill: #D2E3FC;\n",
              "    }\n",
              "\n",
              "    [theme=dark] .colab-df-convert:hover {\n",
              "      background-color: #434B5C;\n",
              "      box-shadow: 0px 1px 3px 1px rgba(0, 0, 0, 0.15);\n",
              "      filter: drop-shadow(0px 1px 2px rgba(0, 0, 0, 0.3));\n",
              "      fill: #FFFFFF;\n",
              "    }\n",
              "  </style>\n",
              "\n",
              "      <script>\n",
              "        const buttonEl =\n",
              "          document.querySelector('#df-d1b38f92-32a7-474b-a7c0-dbdbf9bb4ea8 button.colab-df-convert');\n",
              "        buttonEl.style.display =\n",
              "          google.colab.kernel.accessAllowed ? 'block' : 'none';\n",
              "\n",
              "        async function convertToInteractive(key) {\n",
              "          const element = document.querySelector('#df-d1b38f92-32a7-474b-a7c0-dbdbf9bb4ea8');\n",
              "          const dataTable =\n",
              "            await google.colab.kernel.invokeFunction('convertToInteractive',\n",
              "                                                     [key], {});\n",
              "          if (!dataTable) return;\n",
              "\n",
              "          const docLinkHtml = 'Like what you see? Visit the ' +\n",
              "            '<a target=\"_blank\" href=https://colab.research.google.com/notebooks/data_table.ipynb>data table notebook</a>'\n",
              "            + ' to learn more about interactive tables.';\n",
              "          element.innerHTML = '';\n",
              "          dataTable['output_type'] = 'display_data';\n",
              "          await google.colab.output.renderOutput(dataTable, element);\n",
              "          const docLink = document.createElement('div');\n",
              "          docLink.innerHTML = docLinkHtml;\n",
              "          element.appendChild(docLink);\n",
              "        }\n",
              "      </script>\n",
              "    </div>\n",
              "  </div>\n",
              "  "
            ]
          },
          "metadata": {},
          "execution_count": 24
        }
      ]
    },
    {
      "cell_type": "markdown",
      "source": [
        "Notar que la tabla anterior puede convertirse en una [tabla interactiva](https://colab.research.google.com/notebooks/data_table.ipynb) en Google Colab."
      ],
      "metadata": {
        "id": "THj0plV1AOwR"
      }
    },
    {
      "cell_type": "markdown",
      "source": [
        "Ahora podemos interactuar con la tabla. Por ejemplo, podemos mostrar el contenido de una de las filas. "
      ],
      "metadata": {
        "id": "_t7JdcAQA6Fq"
      }
    },
    {
      "cell_type": "code",
      "source": [
        "df[\"domain\"]"
      ],
      "metadata": {
        "colab": {
          "base_uri": "https://localhost:8080/"
        },
        "id": "-AtnnLy2A_jy",
        "outputId": "7c3da3ed-77fb-4662-de65-75f72aa3f899"
      },
      "execution_count": 25,
      "outputs": [
        {
          "output_type": "execute_result",
          "data": {
            "text/plain": [
              "0                newadvent.org\n",
              "1                newadvent.org\n",
              "2                newadvent.org\n",
              "3             freerepublic.com\n",
              "4               hinduism.co.za\n",
              "                ...           \n",
              "849         blogs.ulster.ac.uk\n",
              "850           ginnysaustin.com\n",
              "851    patriotsquestion911.com\n",
              "852    biblicalarchaeology.org\n",
              "853        rrojasdatabank.info\n",
              "Name: domain, Length: 854, dtype: object"
            ]
          },
          "metadata": {},
          "execution_count": 25
        }
      ]
    },
    {
      "cell_type": "markdown",
      "source": [
        "Si queremos ver cuántos dominios únicos hay, lo podemos ver combinando varios métodos vistos previamente. "
      ],
      "metadata": {
        "id": "PwaxNWUwBC5-"
      }
    },
    {
      "cell_type": "code",
      "source": [
        "len(set(df[\"domain\"]))"
      ],
      "metadata": {
        "colab": {
          "base_uri": "https://localhost:8080/"
        },
        "id": "Yb6Yenj0BAOh",
        "outputId": "82a8a557-faa0-47ce-d46d-8cd884b708a4"
      },
      "execution_count": 26,
      "outputs": [
        {
          "output_type": "execute_result",
          "data": {
            "text/plain": [
              "234"
            ]
          },
          "metadata": {},
          "execution_count": 26
        }
      ]
    },
    {
      "cell_type": "markdown",
      "source": [
        "También es posible extraer más de una fila."
      ],
      "metadata": {
        "id": "pGz_LgXmBMGc"
      }
    },
    {
      "cell_type": "code",
      "source": [
        "df[[\"domain\", \"kwic\"]]"
      ],
      "metadata": {
        "colab": {
          "base_uri": "https://localhost:8080/",
          "height": 424
        },
        "id": "3fGgJ6cnBLiE",
        "outputId": "3b1305f5-c406-4f23-ac9b-d847e5302d98"
      },
      "execution_count": 28,
      "outputs": [
        {
          "output_type": "execute_result",
          "data": {
            "text/plain": [
              "                      domain              kwic\n",
              "0              newadvent.org  Corpus/Corpus/NP\n",
              "1              newadvent.org  Corpus/Corpus/NP\n",
              "2              newadvent.org  Corpus/Corpus/NP\n",
              "3           freerepublic.com  corpus/corpus/NN\n",
              "4             hinduism.co.za  corpus/corpus/NN\n",
              "..                       ...               ...\n",
              "849       blogs.ulster.ac.uk  Corpus/Corpus/NP\n",
              "850         ginnysaustin.com  Corpus/Corpus/NP\n",
              "851  patriotsquestion911.com  corpus/corpus/NN\n",
              "852  biblicalarchaeology.org  Corpus/Corpus/NP\n",
              "853      rrojasdatabank.info  corpus/corpus/NN\n",
              "\n",
              "[854 rows x 2 columns]"
            ],
            "text/html": [
              "\n",
              "  <div id=\"df-a00f3266-dd7e-4eb5-8c19-b0eecc97a4be\">\n",
              "    <div class=\"colab-df-container\">\n",
              "      <div>\n",
              "<style scoped>\n",
              "    .dataframe tbody tr th:only-of-type {\n",
              "        vertical-align: middle;\n",
              "    }\n",
              "\n",
              "    .dataframe tbody tr th {\n",
              "        vertical-align: top;\n",
              "    }\n",
              "\n",
              "    .dataframe thead th {\n",
              "        text-align: right;\n",
              "    }\n",
              "</style>\n",
              "<table border=\"1\" class=\"dataframe\">\n",
              "  <thead>\n",
              "    <tr style=\"text-align: right;\">\n",
              "      <th></th>\n",
              "      <th>domain</th>\n",
              "      <th>kwic</th>\n",
              "    </tr>\n",
              "  </thead>\n",
              "  <tbody>\n",
              "    <tr>\n",
              "      <th>0</th>\n",
              "      <td>newadvent.org</td>\n",
              "      <td>Corpus/Corpus/NP</td>\n",
              "    </tr>\n",
              "    <tr>\n",
              "      <th>1</th>\n",
              "      <td>newadvent.org</td>\n",
              "      <td>Corpus/Corpus/NP</td>\n",
              "    </tr>\n",
              "    <tr>\n",
              "      <th>2</th>\n",
              "      <td>newadvent.org</td>\n",
              "      <td>Corpus/Corpus/NP</td>\n",
              "    </tr>\n",
              "    <tr>\n",
              "      <th>3</th>\n",
              "      <td>freerepublic.com</td>\n",
              "      <td>corpus/corpus/NN</td>\n",
              "    </tr>\n",
              "    <tr>\n",
              "      <th>4</th>\n",
              "      <td>hinduism.co.za</td>\n",
              "      <td>corpus/corpus/NN</td>\n",
              "    </tr>\n",
              "    <tr>\n",
              "      <th>...</th>\n",
              "      <td>...</td>\n",
              "      <td>...</td>\n",
              "    </tr>\n",
              "    <tr>\n",
              "      <th>849</th>\n",
              "      <td>blogs.ulster.ac.uk</td>\n",
              "      <td>Corpus/Corpus/NP</td>\n",
              "    </tr>\n",
              "    <tr>\n",
              "      <th>850</th>\n",
              "      <td>ginnysaustin.com</td>\n",
              "      <td>Corpus/Corpus/NP</td>\n",
              "    </tr>\n",
              "    <tr>\n",
              "      <th>851</th>\n",
              "      <td>patriotsquestion911.com</td>\n",
              "      <td>corpus/corpus/NN</td>\n",
              "    </tr>\n",
              "    <tr>\n",
              "      <th>852</th>\n",
              "      <td>biblicalarchaeology.org</td>\n",
              "      <td>Corpus/Corpus/NP</td>\n",
              "    </tr>\n",
              "    <tr>\n",
              "      <th>853</th>\n",
              "      <td>rrojasdatabank.info</td>\n",
              "      <td>corpus/corpus/NN</td>\n",
              "    </tr>\n",
              "  </tbody>\n",
              "</table>\n",
              "<p>854 rows × 2 columns</p>\n",
              "</div>\n",
              "      <button class=\"colab-df-convert\" onclick=\"convertToInteractive('df-a00f3266-dd7e-4eb5-8c19-b0eecc97a4be')\"\n",
              "              title=\"Convert this dataframe to an interactive table.\"\n",
              "              style=\"display:none;\">\n",
              "        \n",
              "  <svg xmlns=\"http://www.w3.org/2000/svg\" height=\"24px\"viewBox=\"0 0 24 24\"\n",
              "       width=\"24px\">\n",
              "    <path d=\"M0 0h24v24H0V0z\" fill=\"none\"/>\n",
              "    <path d=\"M18.56 5.44l.94 2.06.94-2.06 2.06-.94-2.06-.94-.94-2.06-.94 2.06-2.06.94zm-11 1L8.5 8.5l.94-2.06 2.06-.94-2.06-.94L8.5 2.5l-.94 2.06-2.06.94zm10 10l.94 2.06.94-2.06 2.06-.94-2.06-.94-.94-2.06-.94 2.06-2.06.94z\"/><path d=\"M17.41 7.96l-1.37-1.37c-.4-.4-.92-.59-1.43-.59-.52 0-1.04.2-1.43.59L10.3 9.45l-7.72 7.72c-.78.78-.78 2.05 0 2.83L4 21.41c.39.39.9.59 1.41.59.51 0 1.02-.2 1.41-.59l7.78-7.78 2.81-2.81c.8-.78.8-2.07 0-2.86zM5.41 20L4 18.59l7.72-7.72 1.47 1.35L5.41 20z\"/>\n",
              "  </svg>\n",
              "      </button>\n",
              "      \n",
              "  <style>\n",
              "    .colab-df-container {\n",
              "      display:flex;\n",
              "      flex-wrap:wrap;\n",
              "      gap: 12px;\n",
              "    }\n",
              "\n",
              "    .colab-df-convert {\n",
              "      background-color: #E8F0FE;\n",
              "      border: none;\n",
              "      border-radius: 50%;\n",
              "      cursor: pointer;\n",
              "      display: none;\n",
              "      fill: #1967D2;\n",
              "      height: 32px;\n",
              "      padding: 0 0 0 0;\n",
              "      width: 32px;\n",
              "    }\n",
              "\n",
              "    .colab-df-convert:hover {\n",
              "      background-color: #E2EBFA;\n",
              "      box-shadow: 0px 1px 2px rgba(60, 64, 67, 0.3), 0px 1px 3px 1px rgba(60, 64, 67, 0.15);\n",
              "      fill: #174EA6;\n",
              "    }\n",
              "\n",
              "    [theme=dark] .colab-df-convert {\n",
              "      background-color: #3B4455;\n",
              "      fill: #D2E3FC;\n",
              "    }\n",
              "\n",
              "    [theme=dark] .colab-df-convert:hover {\n",
              "      background-color: #434B5C;\n",
              "      box-shadow: 0px 1px 3px 1px rgba(0, 0, 0, 0.15);\n",
              "      filter: drop-shadow(0px 1px 2px rgba(0, 0, 0, 0.3));\n",
              "      fill: #FFFFFF;\n",
              "    }\n",
              "  </style>\n",
              "\n",
              "      <script>\n",
              "        const buttonEl =\n",
              "          document.querySelector('#df-a00f3266-dd7e-4eb5-8c19-b0eecc97a4be button.colab-df-convert');\n",
              "        buttonEl.style.display =\n",
              "          google.colab.kernel.accessAllowed ? 'block' : 'none';\n",
              "\n",
              "        async function convertToInteractive(key) {\n",
              "          const element = document.querySelector('#df-a00f3266-dd7e-4eb5-8c19-b0eecc97a4be');\n",
              "          const dataTable =\n",
              "            await google.colab.kernel.invokeFunction('convertToInteractive',\n",
              "                                                     [key], {});\n",
              "          if (!dataTable) return;\n",
              "\n",
              "          const docLinkHtml = 'Like what you see? Visit the ' +\n",
              "            '<a target=\"_blank\" href=https://colab.research.google.com/notebooks/data_table.ipynb>data table notebook</a>'\n",
              "            + ' to learn more about interactive tables.';\n",
              "          element.innerHTML = '';\n",
              "          dataTable['output_type'] = 'display_data';\n",
              "          await google.colab.output.renderOutput(dataTable, element);\n",
              "          const docLink = document.createElement('div');\n",
              "          docLink.innerHTML = docLinkHtml;\n",
              "          element.appendChild(docLink);\n",
              "        }\n",
              "      </script>\n",
              "    </div>\n",
              "  </div>\n",
              "  "
            ]
          },
          "metadata": {},
          "execution_count": 28
        }
      ]
    },
    {
      "cell_type": "markdown",
      "source": [
        "Veremos más operaciones en los ejercicios de esta semana. Así que veamos ahora brevemente como cargar otro tipo de ficheros, que son los ficheros [csv](https://es.wikipedia.org/wiki/Valores_separados_por_comas). \n",
        "\n",
        "La manera de cargar estos ficheros es análoga a los ficheros de Excel, pero mediante la función `read_csv`."
      ],
      "metadata": {
        "id": "7mIzLS8jBglK"
      }
    },
    {
      "cell_type": "code",
      "source": [
        "df = pd.read_csv(\n",
        "    \"frequencies_intensifiers.csv\",\n",
        "    sep=\";\",\n",
        "    header=None,\n",
        "    names=[\"rank\", \"collocation\", \"freq\", \"empty\"]\n",
        ")"
      ],
      "metadata": {
        "id": "WXErVHx2BQuP"
      },
      "execution_count": 30,
      "outputs": []
    },
    {
      "cell_type": "markdown",
      "source": [
        "También es posible guardar DataFrames en un fichero mediante el método `to_csv`. "
      ],
      "metadata": {
        "id": "-LsPUkYjCAux"
      }
    },
    {
      "cell_type": "code",
      "source": [
        "df.to_csv('ejemplo.csv',index=None)"
      ],
      "metadata": {
        "id": "bJ0iWIT5B6-b"
      },
      "execution_count": 31,
      "outputs": []
    }
  ]
}
