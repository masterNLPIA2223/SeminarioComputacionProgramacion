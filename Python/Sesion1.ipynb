{
  "cells": [
    {
      "cell_type": "markdown",
      "metadata": {
        "id": "view-in-github",
        "colab_type": "text"
      },
      "source": [
        "<a href=\"https://colab.research.google.com/github/masterNLPIA2223/SeminarioComputacionProgramacion/blob/main/Python/Sesion1.ipynb\" target=\"_parent\"><img src=\"https://colab.research.google.com/assets/colab-badge.svg\" alt=\"Open In Colab\"/></a>"
      ]
    },
    {
      "cell_type": "markdown",
      "source": [
        "# Sesión 1: Introducción a Python\n",
        "\n",
        "En este primer notebook veremos una breve introducción al [lenguaje de programación](https://es.wikipedia.org/wiki/Lenguaje_de_programaci%C3%B3n) Python. Este notebook está basado en el libro [*An introduction to Python for Linguists*](https://v4py.github.io/intro.html). A lo largo del notebook veréis que aparecen distintos enlaces, es conveniente que los sigáis y leáis el contenido de los mismos. "
      ],
      "metadata": {
        "id": "ZdAhDprRMJNN"
      },
      "id": "ZdAhDprRMJNN"
    },
    {
      "cell_type": "markdown",
      "source": [
        "## Introducción a Python\n",
        "\n",
        "Python es un lenguaje de programación:\n",
        "- Creado a principios de los 90.\n",
        "- Nombre procede del programa de la BBC [\"Monty Python's Flying Circus\"](https://en.wikipedia.org/wiki/Monty_Python%27s_Flying_Circus).\n",
        "- Multiplataforma.\n",
        "- Amplia biblioteca con cientos de módulos.\n",
        "- Distintos paradigmas de programación.\n",
        "- Trabajaremos con Python 3.6."
      ],
      "metadata": {
        "id": "AcNmQYCiMRix"
      },
      "id": "AcNmQYCiMRix"
    },
    {
      "cell_type": "markdown",
      "source": [
        "## Trabajando con Python\n",
        "\n",
        "Existen distintos modos de trabajar con Python."
      ],
      "metadata": {
        "id": "F-wO4SktMUOp"
      },
      "id": "F-wO4SktMUOp"
    },
    {
      "cell_type": "markdown",
      "source": [
        "### Modo interactivo\n",
        "\n",
        "- Línea de comandos interactiva (intérprete).\n",
        "- Código no se guarda.\n",
        "- Sirve para hacer pruebas rápidas. \n",
        "- Uso (entorno [REPL](https://en.wikipedia.org/wiki/Read%E2%80%93eval%E2%80%93print_loop)):\n",
        "    - Arrancar el interprete ``> python``.\n",
        "    - Escribir expresión.\n",
        "    - Evaluar expresión.\n",
        "    - Intérprete escribe resultado. "
      ],
      "metadata": {
        "id": "keySpt4KMU1J"
      },
      "id": "keySpt4KMU1J"
    },
    {
      "cell_type": "markdown",
      "source": [
        "### Guiones\n",
        "\n",
        "Guiones son ficheros de texto que permiten guardar nuestros programas Python. \n",
        "- Crear fichero de texto (guión) con extensión ``.py``.\n",
        "- Uso:\n",
        "    - Crear guión.\n",
        "    - Ejecutar guión.\n",
        "    "
      ],
      "metadata": {
        "id": "CkK70QlDMWv4"
      },
      "id": "CkK70QlDMWv4"
    },
    {
      "cell_type": "markdown",
      "source": [
        "### Notebooks de Jupyter\n",
        "\n",
        "- Combina guiones con modo interactivo.\n",
        "- Se intercalan explicaciones con código.\n",
        "- Se pueden exportar los programas para usarlos como guiones. "
      ],
      "metadata": {
        "id": "Fuvol4uIMbE5"
      },
      "id": "Fuvol4uIMbE5"
    },
    {
      "cell_type": "code",
      "source": [
        "3+2"
      ],
      "metadata": {
        "id": "DrBxAkU7MRFD"
      },
      "id": "DrBxAkU7MRFD",
      "execution_count": null,
      "outputs": []
    },
    {
      "cell_type": "markdown",
      "source": [
        "## Un primer ejemplo práctico: análisis de frecuencias de un texto\n",
        "\n",
        "Con el objetivo de ver qué cosas se pueden hacer con Python, vamos a utilizarlo para hacer un análisis de frecuencias de un texto. Aunque profundizaremos con más detalle en las próximas sesiones, consideramos que es una buena idea ver qué cosas se pueden hacer con Python. Esto permitirá tener una perspectiva global.\n",
        "\n",
        "Es normal que no entendáis algunos de los conceptos que aparecerán a continuación, pero podéis estar tranquilos, es normal al principio e iremos desgranándolos a lo largo de las sesiones. El objetivo en este punto es que os familiaricéis con el código Python.\n",
        "\n"
      ],
      "metadata": {
        "id": "SbLqSuptOs4O"
      },
      "id": "SbLqSuptOs4O"
    },
    {
      "cell_type": "markdown",
      "source": [
        "Empezamos importando el objeto `HTMLSession` de la [librería](https://es.wikipedia.org/wiki/Biblioteca_(inform%C3%A1tica)) `requests_hml`. Esta librería proporciona funcionalidad para descargar páginas HTML desde la web. "
      ],
      "metadata": {
        "id": "XcGDMR0wQF94"
      },
      "id": "XcGDMR0wQF94"
    },
    {
      "cell_type": "code",
      "source": [
        "from requests_h"
      ],
      "metadata": {
        "id": "n35gIh8yQFN1"
      },
      "id": "n35gIh8yQFN1",
      "execution_count": null,
      "outputs": []
    }
  ],
  "metadata": {
    "colab": {
      "provenance": [],
      "include_colab_link": true
    }
  },
  "nbformat": 4,
  "nbformat_minor": 5
}